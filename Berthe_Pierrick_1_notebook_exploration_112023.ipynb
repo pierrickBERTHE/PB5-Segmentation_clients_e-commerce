{
 "cells": [
  {
   "cell_type": "markdown",
   "metadata": {},
   "source": [
    "# <span style='color:SteelBlue'>PB5 - Segmentation_clients_e-commerce (part 1)</span>"
   ]
  },
  {
   "cell_type": "markdown",
   "metadata": {},
   "source": [
    "<img src=\"https://asset.brandfetch.io/idvSn4Org5/idCJV4h5Ot.png\" width=\"400\" height=\"400\">"
   ]
  },
  {
   "cell_type": "markdown",
   "metadata": {},
   "source": [
    "# <span style='background:white; color:black'>Sommaire</span>\n",
    "\n",
    "Importations des librairies utilisees dans ce notebook <br>\n",
    "\n",
    "Paramètres d'affichage du notebook <br>\n",
    "\n",
    "Fonctions utilisees dans ce notebook <br>\n",
    "\n",
    "Importation des données <br>\n",
    "\n",
    "**Etape 1 : Description des donnees**\n",
    "- _1/ Les clients_\n",
    "- _2/ Les geolocalisations_\n",
    "- _3/ Les articles_\n",
    "- _4/ Les paiements_\n",
    "- _5/ Les avis_\n",
    "- _6/ Les donnees de base_\n",
    "- _7/ Les produits_\n",
    "- _8/ Les vendeurs_\n",
    "- _9/ Les traductions_\n",
    "\n",
    "**Etape 2 : Nettoyage des donnees**\n",
    "- _1/ RGPD_\n",
    "- _2/ Selection des fichiers et features pertinentes_\n",
    "- _3/ Nettoyage fichier \"client\"_\n",
    "- _4/ Nettoyage fichier \"article\"_\n",
    "- _5/ Nettoyage fichier \"paiement\"_\n",
    "- _6/ Nettoyage fichier \"avis\"_\n",
    "- _7/ Nettoyage fichier \"donnees de base\"_\n",
    "- _8/ Fusion des fichiers_\n",
    "- _9/ Bilan du dataframe fusionne_\n",
    "- _10/ Segmentation RFM+S_\n",
    "\n",
    "**Etape 3 : Analyse exploratoire**\n",
    "- _1/ Analyses univariees_\n",
    "- _2/ Analyses bivariees_\n",
    "- _3/ Analyses multivariees_\n",
    "\n",
    "**Etape 4 : Exportation du dataset nettoye**\n",
    "\n",
    "Conclusion"
   ]
  },
  {
   "cell_type": "markdown",
   "metadata": {},
   "source": [
    "# <span style='background:blue'>Introduction</span>\n",
    "\n",
    "Olist souhaite que nous fournissons à ses equipes d'e-commerce une\n",
    "segmentation des clients qu’elles pourront utiliser au quotidien pour leurs\n",
    "campagnes de communication.\n",
    "\n",
    "Nous devons fournir à l’equipe Marketing une description actionnable de notre\n",
    "segmentation et de sa logique sous-jacente pour une utilisation optimale,\n",
    "ainsi qu’une proposition de contrat de maintenance basée sur une analyse de\n",
    "la stabilité des segments au cours du temps.\n",
    "___\n",
    "\n",
    "**Mission**\n",
    "\n",
    "**Realiser la segmentation des clients en utilisant des methodes non-superviseees**.\n",
    "Notre objectif est de comprendre les differents types d’utilisateurs grâce à\n",
    "leur comportement et à leurs donnees personnelles. Pour cela nous devons :\n",
    "1. Realiser une courte analyse exploratoire.\n",
    "2. Tester differents modèles de segmentation afin de repondre au mieux à la\n",
    "problematique.\n",
    "3. Creer une proposition de contrat de maintenance basee sur une analyse de la\n",
    "stabilite des segments au cours du temps.\n",
    "\n",
    "Ce notebook presente la 1ère partie. Nous allons donc realiser\n",
    "**une courte analyse exploratoire** après avoir nettoye les donnees si\n",
    "necessaire. Le but sera de determiner les variables pertinentes ou d'en creer\n",
    "de nouvelles (feature engineering).\n",
    "___\n",
    "\n",
    "**Source des datasets**<br>\n",
    "Olist nous fournit une base de donnees anonymisee comportant des informations\n",
    "sur l’historique de commandes, les produits achetes, les commentaires de\n",
    "satisfaction, et la localisation des clients depuis janvier 2017.\n",
    "\n",
    "Source : [Brazilian E-Commerce Public Dataset by Olist](https://www.kaggle.com/olistbr/brazilian-ecommerce)<br>\n",
    "\n",
    "9 fichiers CSV :\n",
    "- olist_customers_dataset.csv\n",
    "- olist_geolocation_dataset.csv\n",
    "- olist_order_items_dataset.csv\n",
    "- olist_order_payments_dataset.csv\n",
    "- olist_order_reviews_dataset.csv\n",
    "- olist_orders_dataset.csv\n",
    "- olist_products_dataset.csv\n",
    "- olist_sellers_dataset.csv\n",
    "- product_category_name_translation.csv\n",
    "\n",
    "Relations entre les fichiers CSV :\n",
    "<br><br>\n",
    "<img src=\"https://i.imgur.com/HRhd2Y0.png\" width=\"800\" height=\"500\">\n",
    "\n",
    "<br>\n",
    "Pour info, voici la segmentation RFM realisee par notre predecesseur il y a\n",
    "quelques annees :\n",
    "<br><br>\n",
    "<img src=\"https://user.oc-static.com/upload/2023/03/21/16793895608947_Screenshot%202023-03-21%20at%2010.05.50.png\" width=\"600\" height=\"300\">\n",
    "___"
   ]
  },
  {
   "cell_type": "markdown",
   "metadata": {},
   "source": [
    "**RAPPEL : PEP 8**<br>\n",
    "\n",
    "Voici les règles de base à respecter pour que votre code soit PEP 8 compliant :\n",
    "- Indentation : 4 espaces par niveau d’indentation (pas de tabulations)\n",
    "- Importations : une ligne par librairie importee en haut du fichier\n",
    "- Nommage des variables : en minuscules, avec des underscores pour separer les\n",
    "mots\n",
    "- Gestion des espaces : espacement des operateurs avant et après, pas\n",
    "d'espacement devant ni à l'interieur des crochets\n",
    "- Longueur des lignes : maximum 79 caractères\n",
    "- Lignes vides : separer les fonctions et les classes par 2 lignes vides, les\n",
    "methodes par 1 ligne vide\n",
    "- Commentaires : en anglais ou français, au dessus de la ligne de code\n",
    "concernee, pas de commentaires en fin de ligne\n",
    "\n",
    "Source : https://python.sdv.univ-paris-diderot.fr/15_bonnes_pratiques/\n",
    "\n",
    "**Pour obtenir le score PEP8, lancer cette ligne de code dans le**\n",
    "**terminal VSC :<br>**\n",
    "pylint Berthe_Pierrick_1_notebook_exploration_112023.ipynb\n",
    "\n",
    "**Pour nettoyer automatiquement le code en utilisant le PEP8, lancer cette**\n",
    "**ligne de code dans le terminal VSC :<br>**\n",
    "autopep8 --in-place --aggressive --aggressive Berthe_Pierrick_1_notebook_exploration_112023.ipynb<br>\n",
    "*(/!\\ Ne fonctionne pas avec un Notebook Jupyter /!\\\\)*\n",
    "\n",
    "Source : https://pypi.org/project/autopep8/\n",
    "\n",
    "<div class=\"alert alert-block alert-warning\">\n",
    "<b>Formattage du notebook au PEP8 => lancer cette ligne de code dans le\n",
    "terminal VSC : </b><br>\n",
    "nbqa black Berthe_Pierrick_1_notebook_exploration_112023.ipynb</div>"
   ]
  },
  {
   "cell_type": "markdown",
   "metadata": {},
   "source": [
    "# <span style='background:grey'>Importations des librairies utilisees dans ce notebook</span>"
   ]
  },
  {
   "cell_type": "code",
   "execution_count": 608,
   "metadata": {},
   "outputs": [
    {
     "name": "stdout",
     "output_type": "stream",
     "text": [
      "Version des librairies utilisees :\n",
      "Python        : 3.11.7 (tags/v3.11.7:fa7a6f2, Dec  4 2023, 19:24:49) [MSC v.1937 64 bit (AMD64)]\n",
      "Matplotlib    : 3.8.2\n",
      "NumPy         : 1.26.2\n",
      "Pandas        : 2.1.4\n",
      "Scipy         : 1.11.4\n",
      "Seaborn       : 0.13.0\n",
      "\n",
      "Code lance le : 2023-12-22T12:16:34.391981\n",
      "\n"
     ]
    }
   ],
   "source": [
    "# Librairies\n",
    "import os.path\n",
    "import sys\n",
    "import matplotlib as mpl\n",
    "import matplotlib.pyplot as plt\n",
    "from matplotlib.ticker import FuncFormatter\n",
    "import pandas as pd\n",
    "import seaborn as sns\n",
    "import numpy as np\n",
    "import time\n",
    "from IPython.display import display\n",
    "import scipy\n",
    "from scipy.stats import shapiro\n",
    "from datetime import datetime\n",
    "\n",
    "# Affichage plot dans le notebook\n",
    "%matplotlib inline\n",
    "\n",
    "# Versions\n",
    "print(\"Version des librairies utilisees :\")\n",
    "print(\"Python        : \" + sys.version)\n",
    "print(\"Matplotlib    : \" + mpl.__version__)\n",
    "print(\"NumPy         : \" + np.version.full_version)\n",
    "print(\"Pandas        : \" + pd.__version__)\n",
    "print(\"Scipy         : \" + scipy.__version__)\n",
    "print(\"Seaborn       : \" + sns.__version__)\n",
    "\n",
    "# Afficher heure lancement\n",
    "maintenant = datetime.now().isoformat()\n",
    "print(\"\\nCode lance le : \" + maintenant)\n",
    "\n",
    "# Enregistrer l'heure de debut\n",
    "start_time = time.time()\n",
    "\n",
    "# Activer la verification PEP8\n",
    "print(\"\")\n",
    "%reload_ext pycodestyle_magic\n",
    "%pycodestyle_on"
   ]
  },
  {
   "cell_type": "markdown",
   "metadata": {},
   "source": [
    "# <span style='background:grey'>Paramètres d'affichage du notebook</span>"
   ]
  },
  {
   "cell_type": "code",
   "execution_count": 609,
   "metadata": {},
   "outputs": [],
   "source": [
    "# parametrage des paramètres d'affichage dans le notebook (pour afficher les\n",
    "# definitions des indicateurs)\n",
    "pd.set_option(\"display.max_row\", 100)\n",
    "pd.set_option(\"display.max_column\", 100)\n",
    "pd.set_option(\"display.precision\", 5)\n",
    "\n",
    "# Creation d'1 palette de couleurs\n",
    "colors_list = [\n",
    "    \"Gold\",\n",
    "    \"MediumPurple\",\n",
    "    \"DarkOrange\",\n",
    "    \"LimeGreen\",\n",
    "    \"Tomato\",\n",
    "    \"SteelBlue\",\n",
    "    \"SaddleBrown\",\n",
    "    \"DeepPink\",\n",
    "    \"LightSkyBlue\",\n",
    "    \"OliveDrab\",\n",
    "]\n",
    "\n",
    "# Definit le style de la police pour le titre des graphiques\n",
    "font_title = {\n",
    "    \"family\": \"Times New Roman\",\n",
    "    \"color\": \"000000\",  # Noir en notation hexadecimale\n",
    "    \"size\": 22,\n",
    "}\n",
    "\n",
    "# Definit le style de la police pour les axes du graphique\n",
    "font_axe = {\n",
    "    \"family\": \"Times New Roman\",\n",
    "    \"color\": \"000000\",  # Noir en notation hexadecimale\n",
    "    \"size\": 16,\n",
    "}"
   ]
  },
  {
   "cell_type": "markdown",
   "metadata": {},
   "source": [
    "# <span style='background:grey'>Fonctions utilisees dans ce notebook</span>"
   ]
  },
  {
   "cell_type": "code",
   "execution_count": 610,
   "metadata": {},
   "outputs": [],
   "source": [
    "#                          AFFICHE APERCU DF\n",
    "# ****************************************************************************\n",
    "\n",
    "def affiche_aperçu_df(df: pd.DataFrame, str_df, str_explication, nb_head):\n",
    "    \"\"\"\n",
    "    Procedure qui affiche un aperçu d'un dataframe\n",
    "\n",
    "    :param: df : data frame à analyser (df)\n",
    "    :param: str_df : nom du data frame à analyser (str)\n",
    "    :param: str_explication : explication de la modification (str)\n",
    "    :param: nb_head : nombre de ligne pour la methode 'head' (int)\n",
    "    \"\"\"\n",
    "\n",
    "    # Affichage du nom du dataframe et de l'explication\n",
    "    print(\"Voici l'aspect de '{0}' après {1}\".format(str_df, str_explication))\n",
    "\n",
    "    # Affichage des x premières lignes du dataframe\n",
    "    display(df.head(nb_head))\n",
    "\n",
    "    # Affichage dimension du dataframe (ligne et col)\n",
    "    dim = df.shape\n",
    "    print(\"{0} ligne(s) x {1} colonne(s)\\n\".format(str(dim[0]), str(dim[1])))"
   ]
  },
  {
   "cell_type": "code",
   "execution_count": 611,
   "metadata": {},
   "outputs": [],
   "source": [
    "# #                            PLOT DISTRIBUTION\n",
    "# # ***************************************************************************\n",
    "\n",
    "def plot_distribution(\n",
    "    df,\n",
    "    col,\n",
    "    color,\n",
    "    binwidth=None,\n",
    "    shapiro_wilk=False,\n",
    "    unit=None\n",
    "):\n",
    "    \"\"\"\n",
    "    Procedure qui affiche la distribution de la colonne sous forme\n",
    "    d'histogramme et une boîte à moustaches.\n",
    "\n",
    "    :param df: data frame à analyser (df)\n",
    "    :param col: nom de la colonne (str)\n",
    "    :param color: couleur pour l'histogramme (str)\n",
    "    :param binwidth: largeur des barres de l'histogramme (int or float)\n",
    "    (optionnel)\n",
    "    :param shapiro_wilk: Effectuer le test de Shapiro-Wilk (booleen)\n",
    "    (optionnel)\n",
    "    :param unit: Unites pour l'axe X (str) (optionnel)\n",
    "    \"\"\"\n",
    "\n",
    "    # Creation de sous-plots pour l'histogramme et la boîte à moustaches\n",
    "    fig, axes = plt.subplots(1, 2, figsize=(12, 4))\n",
    "\n",
    "    # SI le test de Shapiro-Wilk est effectue\n",
    "    if shapiro_wilk:\n",
    "\n",
    "        # Effectuez test de S-W et ecrire le resultat dans le titre du grap\n",
    "        sw_statistic, p_value = shapiro(df[col])\n",
    "        sw_texte = (\n",
    "            f\"Distribution '{col}' Test S-W :{sw_statistic:.2f} \"\n",
    "            f\"/ p-value = {p_value:.2f}\"\n",
    "        )\n",
    "        axes[0].set_title(sw_texte, fontdict=font_title, fontsize=14)\n",
    "    else:\n",
    "        # SI pas de test de Shapiro-Wilk, affichage titre par defaut\n",
    "        axes[0].set_title(f\"Distribution '{col}'\", fontdict=font_title)\n",
    "\n",
    "    # Graphique de l'histogramme\n",
    "    if binwidth is not None:\n",
    "        sns.histplot(\n",
    "            df[col],\n",
    "            kde=False,\n",
    "            color=color,\n",
    "            binwidth=binwidth,\n",
    "            ax=axes[0]\n",
    "        )\n",
    "    else:\n",
    "        sns.histplot(df[col], kde=False, color=color, ax=axes[0])\n",
    "\n",
    "    # Étiquetage de l'axe X avec les unites (si specifiees)\n",
    "    if unit:\n",
    "        axes[0].set_xlabel(\"{0}\".format(unit), fontdict=font_axe)\n",
    "    else:\n",
    "        axes[0].set_xlabel(\"Valeur\", fontdict=font_axe)\n",
    "\n",
    "    # Graphique de la boîte à moustaches\n",
    "    sns.boxplot(x=df[col], color=color, ax=axes[1])\n",
    "    axes[1].set_title(\"Boxplot '{0}'\".format(col), fontdict=font_title)\n",
    "\n",
    "    # Étiquetage de l'axe X avec les unites (si specifiees)\n",
    "    if unit:\n",
    "        axes[1].set_xlabel(\"{0}\".format(unit), fontdict=font_axe)\n",
    "    else:\n",
    "        axes[1].set_xlabel(\"Valeur\", fontdict=font_axe)\n",
    "\n",
    "    # Ajustement de l'espacement entre les sous-plots\n",
    "    plt.tight_layout()\n",
    "\n",
    "    # Affichage des graphiques\n",
    "    plt.show()"
   ]
  },
  {
   "cell_type": "code",
   "execution_count": 612,
   "metadata": {},
   "outputs": [],
   "source": [
    "# #                            CONVERTISSEUR STR TO DATETIME\n",
    "# # ***************************************************************************\n",
    "\n",
    "def convertisseur_str_to_datetime(datetime_string):\n",
    "    \"\"\"\n",
    "    Convertit une chaîne de caractères representant une date et une\n",
    "    heure en un objet datetime.\n",
    "\n",
    "    Args:\n",
    "        datetime_string (str): La chaîne de caractères à convertir,\n",
    "        qui doit être au format \"AAAA-MM-JJ HH:MM:SS\".\n",
    "\n",
    "    Returns:\n",
    "        datetime.datetime: L'objet datetime correspondant à la chaîne\n",
    "        de caractères donnee.\n",
    "    \"\"\"\n",
    "    # Convertion de la chaîne de caractères en un objet datetime\n",
    "    datetime_object = datetime.strptime(datetime_string, \"%Y-%m-%d %H:%M:%S\")\n",
    "\n",
    "    # Outputs\n",
    "    return datetime_object"
   ]
  },
  {
   "cell_type": "code",
   "execution_count": 613,
   "metadata": {},
   "outputs": [],
   "source": [
    "# #                            PLOT DISTRIBUTION DATETIME\n",
    "# # ***************************************************************************\n",
    "\n",
    "def plot_distribution_datetime(df, datetime_col):\n",
    "    \"\"\"\n",
    "    Procedure qui affiche les distributions des composants d'une donneee\n",
    "    datetime dans un ensemble de sous-graphiques.\n",
    "\n",
    "    Paramètres\n",
    "    ----------\n",
    "    df : pandas.DataFrame\n",
    "        Le DataFrame contenant les donnees à tracer. Doit contenir les\n",
    "        colonnes 'year', 'month', 'day', 'hour', 'minute' et 'second'.\n",
    "    \"\"\"\n",
    "    # cree une copie du DataFrame\n",
    "    df_copie = df.copy()\n",
    "\n",
    "    # Extraire les composants de la date\n",
    "    df_copie[\"year\"] = df[datetime_col].dt.year\n",
    "    df_copie[\"month\"] = df[datetime_col].dt.month\n",
    "    df_copie[\"day\"] = df[datetime_col].dt.day\n",
    "    df_copie[\"hour\"] = df[datetime_col].dt.hour\n",
    "    df_copie[\"minute\"] = df[datetime_col].dt.minute\n",
    "    df_copie[\"second\"] = df[datetime_col].dt.second\n",
    "\n",
    "    # Creation de subplots\n",
    "    fig, axes = plt.subplots(2, 3, figsize=(15, 10))\n",
    "\n",
    "    # Ajouter un titre\n",
    "    fig.suptitle(\n",
    "        \"Distribution des composants de la date et de l'heure\",\n",
    "        fontdict=font_title\n",
    "    )\n",
    "\n",
    "    # Convertir les etiquettes de l'axe x en entiers\n",
    "    formatter = FuncFormatter(lambda x, pos: \"%.0f\" % x)\n",
    "    axes[0, 0].xaxis.set_major_formatter(formatter)\n",
    "\n",
    "    # Distribution des annees\n",
    "    sns.histplot(df_copie[\"year\"], kde=False, ax=axes[0, 0], color=\"blue\")\n",
    "    axes[0, 0].set_xlabel(\"Annee\")\n",
    "\n",
    "    # Reduire le nombre d'etiquettes sur l'axe x\n",
    "    start, end = axes[0, 0].get_xlim()\n",
    "    axes[0, 0].xaxis.set_ticks(np.arange(start, end, step=1))\n",
    "\n",
    "    # Distribution des mois\n",
    "    sns.histplot(df_copie[\"month\"], kde=False, ax=axes[0, 1], color=\"green\")\n",
    "    axes[0, 1].set_xlabel(\"Mois\")\n",
    "\n",
    "    # Distribution des jours\n",
    "    sns.histplot(df_copie[\"day\"], kde=False, ax=axes[0, 2], color=\"red\")\n",
    "    axes[0, 2].set_xlabel(\"Jour\")\n",
    "\n",
    "    # Distribution des heures\n",
    "    sns.histplot(df_copie[\"hour\"], kde=False, ax=axes[1, 0], color=\"purple\")\n",
    "    axes[1, 0].set_xlabel(\"Heure\")\n",
    "\n",
    "    # Distribution des minutes\n",
    "    sns.histplot(df_copie[\"minute\"], kde=False, ax=axes[1, 1], color=\"orange\")\n",
    "    axes[1, 1].set_xlabel(\"Minute\")\n",
    "\n",
    "    # Distribution des secondes\n",
    "    sns.histplot(df_copie[\"second\"], kde=False, ax=axes[1, 2], color=\"pink\")\n",
    "    axes[1, 2].set_xlabel(\"Seconde\")\n",
    "\n",
    "    plt.tight_layout()\n",
    "    plt.show()"
   ]
  },
  {
   "cell_type": "code",
   "execution_count": 614,
   "metadata": {},
   "outputs": [],
   "source": [
    "# #                            AFFICHEUR DIMENSION ET UNIQUE\n",
    "# # ***************************************************************************\n",
    "\n",
    "def afficheur_dimension_et_unique(df, df_name, type_donnee, col_name):\n",
    "    \"\"\"\n",
    "    Procedure qui affiche le nombre de lignes et de commandes differentes dans\n",
    "    un DataFrame.\n",
    "\n",
    "    Paramètres\n",
    "    ----------\n",
    "    df : pandas.DataFrame\n",
    "        Le DataFrame pour lequel compter le nombre de lignes et de commandes\n",
    "        differentes.\n",
    "    df_name : str\n",
    "        Le nom du DataFrame.\n",
    "    col_name : str\n",
    "        Le nom de la colonne pour laquelle compter le nombre de valeurs\n",
    "        uniques.\n",
    "    \"\"\"\n",
    "    # Afficher le nombre de lignes\n",
    "    print(\n",
    "        \"'{0}' contient {1} lignes et {2} colonnes\".format(\n",
    "            df_name, df.shape[0], df.shape[1]\n",
    "        )\n",
    "    )\n",
    "\n",
    "    # Afficher le nombre de 'type_donnee' differentes\n",
    "    print(\n",
    "        \"'{0}' contient {1} {2} different(e)s\".format(\n",
    "            df_name, df[col_name].nunique(), type_donnee\n",
    "        )\n",
    "    )"
   ]
  },
  {
   "cell_type": "code",
   "execution_count": 615,
   "metadata": {},
   "outputs": [],
   "source": [
    "# #                            CALCULER_DUREE_NOTEBOOK\n",
    "# # ***************************************************************************\n",
    "\n",
    "def calculer_duree_notebook(start_time):\n",
    "    \"\"\"\n",
    "    Cette procedure calcule et affiche la duree totale depuis un temps de\n",
    "    debut donne.\n",
    "\n",
    "    Args:\n",
    "        start_time (float): Le temps de debut en secondes depuis l'epoque.\n",
    "\n",
    "    Returns:\n",
    "        None\n",
    "    \"\"\"\n",
    "\n",
    "    # Calculer la duree totale\n",
    "    total_time = time.time() - start_time\n",
    "\n",
    "    # Convertir en minutes et secondes\n",
    "    minutes, seconds = divmod(total_time, 60)\n",
    "\n",
    "    # Afficher la duree totale\n",
    "    print(\n",
    "        f\"Duree totale pour faire tourner le notebook : \"\n",
    "        f\"{int(minutes)} minute(s) {int(seconds)} seconde(s)\"\n",
    "    )"
   ]
  },
  {
   "cell_type": "markdown",
   "metadata": {},
   "source": [
    "# <span style='background:grey'>Importation des donnees</span>\n",
    "\n",
    "Importation des fichiers CSV avec Pandas"
   ]
  },
  {
   "cell_type": "code",
   "execution_count": 616,
   "metadata": {},
   "outputs": [
    {
     "name": "stdout",
     "output_type": "stream",
     "text": [
      "===> Liste des fichiers importes: <====\n",
      "\n",
      "olist_customers_dataset.csv\n",
      "olist_geolocation_dataset.csv\n",
      "olist_orders_dataset.csv\n",
      "olist_order_items_dataset.csv\n",
      "olist_order_payments_dataset.csv\n",
      "olist_order_reviews_dataset.csv\n",
      "olist_products_dataset.csv\n",
      "olist_sellers_dataset.csv\n",
      "product_category_name_translation.csv\n"
     ]
    }
   ],
   "source": [
    "# Definir le chemin\n",
    "chemin = \"./data/source/\"\n",
    "\n",
    "# Obtenir une liste de tous les fichiers dans le repertoire\n",
    "fichiers = os.listdir(chemin)\n",
    "\n",
    "# Initialiser un dictionnaire vide et print de la liste des fichiers importe\n",
    "data_brut = {}\n",
    "print(\"===> Liste des fichiers importes: <====\\n\")\n",
    "\n",
    "# Boucle sur chaque fichier\n",
    "for fichier in fichiers:\n",
    "\n",
    "    # Traiter uniquement les fichiers .csv\n",
    "    if fichier.endswith(\".csv\"):\n",
    "        print(fichier)\n",
    "\n",
    "        # Lire le fichier csv et le stocker dans le dictionnaire\n",
    "        data_brut[fichier] = pd.read_csv(\n",
    "            chemin + fichier,\n",
    "            sep=\",\",\n",
    "            encoding=\"utf-8\"\n",
    "        )"
   ]
  },
  {
   "cell_type": "markdown",
   "metadata": {},
   "source": [
    "# <span style='background:blue'>Etape 1 : Description des donnees</span>\n",
    "\n",
    "## <span style='background:yellow; color:black'>1/ Les clients</span>\n",
    "\n",
    "### <span style='background:green'>a/ Aperçu tableau</span>"
   ]
  },
  {
   "cell_type": "code",
   "execution_count": 617,
   "metadata": {},
   "outputs": [
    {
     "data": {
      "text/html": [
       "<div>\n",
       "<style scoped>\n",
       "    .dataframe tbody tr th:only-of-type {\n",
       "        vertical-align: middle;\n",
       "    }\n",
       "\n",
       "    .dataframe tbody tr th {\n",
       "        vertical-align: top;\n",
       "    }\n",
       "\n",
       "    .dataframe thead th {\n",
       "        text-align: right;\n",
       "    }\n",
       "</style>\n",
       "<table border=\"1\" class=\"dataframe\">\n",
       "  <thead>\n",
       "    <tr style=\"text-align: right;\">\n",
       "      <th></th>\n",
       "      <th>customer_id</th>\n",
       "      <th>customer_unique_id</th>\n",
       "      <th>customer_zip_code_prefix</th>\n",
       "      <th>customer_city</th>\n",
       "      <th>customer_state</th>\n",
       "    </tr>\n",
       "  </thead>\n",
       "  <tbody>\n",
       "    <tr>\n",
       "      <th>0</th>\n",
       "      <td>06b8999e2fba1a1fbc88172c00ba8bc7</td>\n",
       "      <td>861eff4711a542e4b93843c6dd7febb0</td>\n",
       "      <td>14409</td>\n",
       "      <td>franca</td>\n",
       "      <td>SP</td>\n",
       "    </tr>\n",
       "    <tr>\n",
       "      <th>1</th>\n",
       "      <td>18955e83d337fd6b2def6b18a428ac77</td>\n",
       "      <td>290c77bc529b7ac935b93aa66c333dc3</td>\n",
       "      <td>9790</td>\n",
       "      <td>sao bernardo do campo</td>\n",
       "      <td>SP</td>\n",
       "    </tr>\n",
       "    <tr>\n",
       "      <th>2</th>\n",
       "      <td>4e7b3e00288586ebd08712fdd0374a03</td>\n",
       "      <td>060e732b5b29e8181a18229c7b0b2b5e</td>\n",
       "      <td>1151</td>\n",
       "      <td>sao paulo</td>\n",
       "      <td>SP</td>\n",
       "    </tr>\n",
       "  </tbody>\n",
       "</table>\n",
       "</div>"
      ],
      "text/plain": [
       "                        customer_id                customer_unique_id  \\\n",
       "0  06b8999e2fba1a1fbc88172c00ba8bc7  861eff4711a542e4b93843c6dd7febb0   \n",
       "1  18955e83d337fd6b2def6b18a428ac77  290c77bc529b7ac935b93aa66c333dc3   \n",
       "2  4e7b3e00288586ebd08712fdd0374a03  060e732b5b29e8181a18229c7b0b2b5e   \n",
       "\n",
       "   customer_zip_code_prefix          customer_city customer_state  \n",
       "0                     14409                 franca             SP  \n",
       "1                      9790  sao bernardo do campo             SP  \n",
       "2                      1151              sao paulo             SP  "
      ]
     },
     "execution_count": 617,
     "metadata": {},
     "output_type": "execute_result"
    }
   ],
   "source": [
    "# isoler le contenu du fichier\n",
    "fichier = data_brut[\"olist_customers_dataset.csv\"]\n",
    "\n",
    "# Afficher les 3 premières lignes du fichier\n",
    "fichier.head(3)"
   ]
  },
  {
   "cell_type": "markdown",
   "metadata": {},
   "source": [
    "Informations sur les clients :\n",
    "- **customer_id** : identifiant des commandes\n",
    "- **customer_unique_id** : identifiant des clients\n",
    "- **customer_zip_code_prefix** : code postal du client (premiers chiffres uniquement)\n",
    "- **customer_city** : ville du client\n",
    "- **customer_state** : etat du client"
   ]
  },
  {
   "cell_type": "markdown",
   "metadata": {},
   "source": [
    "### <span style='background:green'>b/ Structure</span>"
   ]
  },
  {
   "cell_type": "code",
   "execution_count": 618,
   "metadata": {},
   "outputs": [
    {
     "name": "stdout",
     "output_type": "stream",
     "text": [
      "<class 'pandas.core.frame.DataFrame'>\n",
      "RangeIndex: 99441 entries, 0 to 99440\n",
      "Data columns (total 5 columns):\n",
      " #   Column                    Non-Null Count  Dtype \n",
      "---  ------                    --------------  ----- \n",
      " 0   customer_id               99441 non-null  object\n",
      " 1   customer_unique_id        99441 non-null  object\n",
      " 2   customer_zip_code_prefix  99441 non-null  int64 \n",
      " 3   customer_city             99441 non-null  object\n",
      " 4   customer_state            99441 non-null  object\n",
      "dtypes: int64(1), object(4)\n",
      "memory usage: 3.8+ MB\n"
     ]
    }
   ],
   "source": [
    "fichier.info()"
   ]
  },
  {
   "cell_type": "markdown",
   "metadata": {},
   "source": [
    "Le fichier contient 99_441 lignes et 5 colonnes."
   ]
  },
  {
   "cell_type": "markdown",
   "metadata": {},
   "source": [
    "### <span style='background:green'>c/ Valeurs manquantes</span>"
   ]
  },
  {
   "cell_type": "code",
   "execution_count": 619,
   "metadata": {},
   "outputs": [
    {
     "data": {
      "text/plain": [
       "customer_id                 0\n",
       "customer_unique_id          0\n",
       "customer_zip_code_prefix    0\n",
       "customer_city               0\n",
       "customer_state              0\n",
       "dtype: int64"
      ]
     },
     "execution_count": 619,
     "metadata": {},
     "output_type": "execute_result"
    }
   ],
   "source": [
    "fichier.isna().sum()"
   ]
  },
  {
   "cell_type": "markdown",
   "metadata": {},
   "source": [
    "Il n'y a pas de valeurs manquantes."
   ]
  },
  {
   "cell_type": "markdown",
   "metadata": {},
   "source": [
    "### <span style='background:green'>d/ Doublons</span>"
   ]
  },
  {
   "cell_type": "code",
   "execution_count": 620,
   "metadata": {},
   "outputs": [
    {
     "data": {
      "text/plain": [
       "0"
      ]
     },
     "execution_count": 620,
     "metadata": {},
     "output_type": "execute_result"
    }
   ],
   "source": [
    "fichier.duplicated().sum()"
   ]
  },
  {
   "cell_type": "markdown",
   "metadata": {},
   "source": [
    "Il n'y a pas de doublons."
   ]
  },
  {
   "cell_type": "markdown",
   "metadata": {},
   "source": [
    "### <span style='background:green'>e/ Inspection des donnees</span>\n",
    "\n",
    "Resume des features **quantitatives** :"
   ]
  },
  {
   "cell_type": "code",
   "execution_count": 621,
   "metadata": {},
   "outputs": [
    {
     "data": {
      "text/html": [
       "<div>\n",
       "<style scoped>\n",
       "    .dataframe tbody tr th:only-of-type {\n",
       "        vertical-align: middle;\n",
       "    }\n",
       "\n",
       "    .dataframe tbody tr th {\n",
       "        vertical-align: top;\n",
       "    }\n",
       "\n",
       "    .dataframe thead th {\n",
       "        text-align: right;\n",
       "    }\n",
       "</style>\n",
       "<table border=\"1\" class=\"dataframe\">\n",
       "  <thead>\n",
       "    <tr style=\"text-align: right;\">\n",
       "      <th></th>\n",
       "      <th>customer_zip_code_prefix</th>\n",
       "    </tr>\n",
       "  </thead>\n",
       "  <tbody>\n",
       "    <tr>\n",
       "      <th>count</th>\n",
       "      <td>99441.00</td>\n",
       "    </tr>\n",
       "    <tr>\n",
       "      <th>mean</th>\n",
       "      <td>35137.47</td>\n",
       "    </tr>\n",
       "    <tr>\n",
       "      <th>std</th>\n",
       "      <td>29797.94</td>\n",
       "    </tr>\n",
       "    <tr>\n",
       "      <th>min</th>\n",
       "      <td>1003.00</td>\n",
       "    </tr>\n",
       "    <tr>\n",
       "      <th>25%</th>\n",
       "      <td>11347.00</td>\n",
       "    </tr>\n",
       "    <tr>\n",
       "      <th>50%</th>\n",
       "      <td>24416.00</td>\n",
       "    </tr>\n",
       "    <tr>\n",
       "      <th>75%</th>\n",
       "      <td>58900.00</td>\n",
       "    </tr>\n",
       "    <tr>\n",
       "      <th>max</th>\n",
       "      <td>99990.00</td>\n",
       "    </tr>\n",
       "  </tbody>\n",
       "</table>\n",
       "</div>"
      ],
      "text/plain": [
       "       customer_zip_code_prefix\n",
       "count                  99441.00\n",
       "mean                   35137.47\n",
       "std                    29797.94\n",
       "min                     1003.00\n",
       "25%                    11347.00\n",
       "50%                    24416.00\n",
       "75%                    58900.00\n",
       "max                    99990.00"
      ]
     },
     "execution_count": 621,
     "metadata": {},
     "output_type": "execute_result"
    }
   ],
   "source": [
    "fichier.describe().round(2)"
   ]
  },
  {
   "cell_type": "markdown",
   "metadata": {},
   "source": [
    "Resume des features **qualitatives** : "
   ]
  },
  {
   "cell_type": "code",
   "execution_count": 622,
   "metadata": {},
   "outputs": [
    {
     "data": {
      "text/html": [
       "<div>\n",
       "<style scoped>\n",
       "    .dataframe tbody tr th:only-of-type {\n",
       "        vertical-align: middle;\n",
       "    }\n",
       "\n",
       "    .dataframe tbody tr th {\n",
       "        vertical-align: top;\n",
       "    }\n",
       "\n",
       "    .dataframe thead th {\n",
       "        text-align: right;\n",
       "    }\n",
       "</style>\n",
       "<table border=\"1\" class=\"dataframe\">\n",
       "  <thead>\n",
       "    <tr style=\"text-align: right;\">\n",
       "      <th></th>\n",
       "      <th>customer_id</th>\n",
       "      <th>customer_unique_id</th>\n",
       "      <th>customer_city</th>\n",
       "      <th>customer_state</th>\n",
       "    </tr>\n",
       "  </thead>\n",
       "  <tbody>\n",
       "    <tr>\n",
       "      <th>count</th>\n",
       "      <td>99441</td>\n",
       "      <td>99441</td>\n",
       "      <td>99441</td>\n",
       "      <td>99441</td>\n",
       "    </tr>\n",
       "    <tr>\n",
       "      <th>unique</th>\n",
       "      <td>99441</td>\n",
       "      <td>96096</td>\n",
       "      <td>4119</td>\n",
       "      <td>27</td>\n",
       "    </tr>\n",
       "    <tr>\n",
       "      <th>top</th>\n",
       "      <td>06b8999e2fba1a1fbc88172c00ba8bc7</td>\n",
       "      <td>8d50f5eadf50201ccdcedfb9e2ac8455</td>\n",
       "      <td>sao paulo</td>\n",
       "      <td>SP</td>\n",
       "    </tr>\n",
       "    <tr>\n",
       "      <th>freq</th>\n",
       "      <td>1</td>\n",
       "      <td>17</td>\n",
       "      <td>15540</td>\n",
       "      <td>41746</td>\n",
       "    </tr>\n",
       "  </tbody>\n",
       "</table>\n",
       "</div>"
      ],
      "text/plain": [
       "                             customer_id                customer_unique_id  \\\n",
       "count                              99441                             99441   \n",
       "unique                             99441                             96096   \n",
       "top     06b8999e2fba1a1fbc88172c00ba8bc7  8d50f5eadf50201ccdcedfb9e2ac8455   \n",
       "freq                                   1                                17   \n",
       "\n",
       "       customer_city customer_state  \n",
       "count          99441          99441  \n",
       "unique          4119             27  \n",
       "top        sao paulo             SP  \n",
       "freq           15540          41746  "
      ]
     },
     "execution_count": 622,
     "metadata": {},
     "output_type": "execute_result"
    }
   ],
   "source": [
    "fichier.describe(exclude=[np.number])"
   ]
  },
  {
   "cell_type": "markdown",
   "metadata": {},
   "source": [
    "<div class=\"alert alert-block alert-info\">\n",
    "<b>Fichier client </b> : 'olist_customers_dataset.csv' \n",
    " \n",
    "Ce fichier contient plus de 99_000 commandes avec plus de 96_000 clients\n",
    "differents. Il y a moins de clients que de commandes. Certains clients ont\n",
    "donc passe plusieurs commandes (env. 3%).\n",
    "\n",
    "Ce fichier est lie au fichier des **geolocalisations** grâce à la clef\n",
    "\"**customer_zip_code_prefix**\".<br>\n",
    "Ce fichier est lie au fichier des **donnees de base** grâce à la clef\n",
    "\"**customer_id**\". \n",
    "</div>"
   ]
  },
  {
   "cell_type": "markdown",
   "metadata": {},
   "source": [
    "## <span style='background:yellow; color:black'>2/ les geolocalisations</span>\n",
    "\n",
    "### <span style='background:green'>a/ Aperçu tableau</span>"
   ]
  },
  {
   "cell_type": "code",
   "execution_count": 623,
   "metadata": {},
   "outputs": [
    {
     "data": {
      "text/html": [
       "<div>\n",
       "<style scoped>\n",
       "    .dataframe tbody tr th:only-of-type {\n",
       "        vertical-align: middle;\n",
       "    }\n",
       "\n",
       "    .dataframe tbody tr th {\n",
       "        vertical-align: top;\n",
       "    }\n",
       "\n",
       "    .dataframe thead th {\n",
       "        text-align: right;\n",
       "    }\n",
       "</style>\n",
       "<table border=\"1\" class=\"dataframe\">\n",
       "  <thead>\n",
       "    <tr style=\"text-align: right;\">\n",
       "      <th></th>\n",
       "      <th>geolocation_zip_code_prefix</th>\n",
       "      <th>geolocation_lat</th>\n",
       "      <th>geolocation_lng</th>\n",
       "      <th>geolocation_city</th>\n",
       "      <th>geolocation_state</th>\n",
       "    </tr>\n",
       "  </thead>\n",
       "  <tbody>\n",
       "    <tr>\n",
       "      <th>0</th>\n",
       "      <td>1037</td>\n",
       "      <td>-23.54562</td>\n",
       "      <td>-46.63929</td>\n",
       "      <td>sao paulo</td>\n",
       "      <td>SP</td>\n",
       "    </tr>\n",
       "    <tr>\n",
       "      <th>1</th>\n",
       "      <td>1046</td>\n",
       "      <td>-23.54608</td>\n",
       "      <td>-46.64482</td>\n",
       "      <td>sao paulo</td>\n",
       "      <td>SP</td>\n",
       "    </tr>\n",
       "    <tr>\n",
       "      <th>2</th>\n",
       "      <td>1046</td>\n",
       "      <td>-23.54613</td>\n",
       "      <td>-46.64295</td>\n",
       "      <td>sao paulo</td>\n",
       "      <td>SP</td>\n",
       "    </tr>\n",
       "  </tbody>\n",
       "</table>\n",
       "</div>"
      ],
      "text/plain": [
       "   geolocation_zip_code_prefix  geolocation_lat  geolocation_lng  \\\n",
       "0                         1037        -23.54562        -46.63929   \n",
       "1                         1046        -23.54608        -46.64482   \n",
       "2                         1046        -23.54613        -46.64295   \n",
       "\n",
       "  geolocation_city geolocation_state  \n",
       "0        sao paulo                SP  \n",
       "1        sao paulo                SP  \n",
       "2        sao paulo                SP  "
      ]
     },
     "execution_count": 623,
     "metadata": {},
     "output_type": "execute_result"
    }
   ],
   "source": [
    "# isoler le contenu du fichier\n",
    "fichier = data_brut[\"olist_geolocation_dataset.csv\"]\n",
    "\n",
    "# Afficher les 3 premières lignes du fichier\n",
    "fichier.head(3)"
   ]
  },
  {
   "cell_type": "markdown",
   "metadata": {},
   "source": [
    "Informations sur la geolocalisation des clients :\n",
    "- **geolocation_zip_code_prefix** : code postal du client (premiers chiffres uniquement)\n",
    "- **geolocation_lat** : latitude du client\n",
    "- **geolocation_lng** : longitude du client\n",
    "- **geolocation_city** : ville d'habitation du client\n",
    "- **geolocation_state** : etat d'habitation du client"
   ]
  },
  {
   "cell_type": "markdown",
   "metadata": {},
   "source": [
    "### <span style='background:green'>b/ Structure</span>"
   ]
  },
  {
   "cell_type": "code",
   "execution_count": 624,
   "metadata": {},
   "outputs": [
    {
     "name": "stdout",
     "output_type": "stream",
     "text": [
      "<class 'pandas.core.frame.DataFrame'>\n",
      "RangeIndex: 1000163 entries, 0 to 1000162\n",
      "Data columns (total 5 columns):\n",
      " #   Column                       Non-Null Count    Dtype  \n",
      "---  ------                       --------------    -----  \n",
      " 0   geolocation_zip_code_prefix  1000163 non-null  int64  \n",
      " 1   geolocation_lat              1000163 non-null  float64\n",
      " 2   geolocation_lng              1000163 non-null  float64\n",
      " 3   geolocation_city             1000163 non-null  object \n",
      " 4   geolocation_state            1000163 non-null  object \n",
      "dtypes: float64(2), int64(1), object(2)\n",
      "memory usage: 38.2+ MB\n"
     ]
    }
   ],
   "source": [
    "fichier.info()"
   ]
  },
  {
   "cell_type": "markdown",
   "metadata": {},
   "source": [
    "Il y a 1_000_163 lignes et 5 colonnes."
   ]
  },
  {
   "cell_type": "markdown",
   "metadata": {},
   "source": [
    "### <span style='background:green'>c/ Valeurs manquantes</span>"
   ]
  },
  {
   "cell_type": "code",
   "execution_count": 625,
   "metadata": {},
   "outputs": [
    {
     "data": {
      "text/plain": [
       "geolocation_zip_code_prefix    0\n",
       "geolocation_lat                0\n",
       "geolocation_lng                0\n",
       "geolocation_city               0\n",
       "geolocation_state              0\n",
       "dtype: int64"
      ]
     },
     "execution_count": 625,
     "metadata": {},
     "output_type": "execute_result"
    }
   ],
   "source": [
    "fichier.isna().sum()"
   ]
  },
  {
   "cell_type": "markdown",
   "metadata": {},
   "source": [
    "Il n'y a pas de valeurs manquantes."
   ]
  },
  {
   "cell_type": "markdown",
   "metadata": {},
   "source": [
    "### <span style='background:green'>d/ Doublons</span>"
   ]
  },
  {
   "cell_type": "code",
   "execution_count": 626,
   "metadata": {},
   "outputs": [
    {
     "data": {
      "text/plain": [
       "261831"
      ]
     },
     "execution_count": 626,
     "metadata": {},
     "output_type": "execute_result"
    }
   ],
   "source": [
    "fichier.duplicated().sum()"
   ]
  },
  {
   "cell_type": "markdown",
   "metadata": {},
   "source": [
    "Il y a 261_831 doublons de ligne identiques. "
   ]
  },
  {
   "cell_type": "markdown",
   "metadata": {},
   "source": [
    "### <span style='background:green'>e/ Inspection des donnees</span>\n",
    "\n",
    "Resume des features **quantitatives** :"
   ]
  },
  {
   "cell_type": "code",
   "execution_count": 627,
   "metadata": {},
   "outputs": [
    {
     "data": {
      "text/html": [
       "<div>\n",
       "<style scoped>\n",
       "    .dataframe tbody tr th:only-of-type {\n",
       "        vertical-align: middle;\n",
       "    }\n",
       "\n",
       "    .dataframe tbody tr th {\n",
       "        vertical-align: top;\n",
       "    }\n",
       "\n",
       "    .dataframe thead th {\n",
       "        text-align: right;\n",
       "    }\n",
       "</style>\n",
       "<table border=\"1\" class=\"dataframe\">\n",
       "  <thead>\n",
       "    <tr style=\"text-align: right;\">\n",
       "      <th></th>\n",
       "      <th>geolocation_zip_code_prefix</th>\n",
       "      <th>geolocation_lat</th>\n",
       "      <th>geolocation_lng</th>\n",
       "    </tr>\n",
       "  </thead>\n",
       "  <tbody>\n",
       "    <tr>\n",
       "      <th>count</th>\n",
       "      <td>1000163.00</td>\n",
       "      <td>1000163.00</td>\n",
       "      <td>1000163.00</td>\n",
       "    </tr>\n",
       "    <tr>\n",
       "      <th>mean</th>\n",
       "      <td>36574.17</td>\n",
       "      <td>-21.18</td>\n",
       "      <td>-46.39</td>\n",
       "    </tr>\n",
       "    <tr>\n",
       "      <th>std</th>\n",
       "      <td>30549.34</td>\n",
       "      <td>5.72</td>\n",
       "      <td>4.27</td>\n",
       "    </tr>\n",
       "    <tr>\n",
       "      <th>min</th>\n",
       "      <td>1001.00</td>\n",
       "      <td>-36.61</td>\n",
       "      <td>-101.47</td>\n",
       "    </tr>\n",
       "    <tr>\n",
       "      <th>25%</th>\n",
       "      <td>11075.00</td>\n",
       "      <td>-23.60</td>\n",
       "      <td>-48.57</td>\n",
       "    </tr>\n",
       "    <tr>\n",
       "      <th>50%</th>\n",
       "      <td>26530.00</td>\n",
       "      <td>-22.92</td>\n",
       "      <td>-46.64</td>\n",
       "    </tr>\n",
       "    <tr>\n",
       "      <th>75%</th>\n",
       "      <td>63504.00</td>\n",
       "      <td>-19.98</td>\n",
       "      <td>-43.77</td>\n",
       "    </tr>\n",
       "    <tr>\n",
       "      <th>max</th>\n",
       "      <td>99990.00</td>\n",
       "      <td>45.07</td>\n",
       "      <td>121.11</td>\n",
       "    </tr>\n",
       "  </tbody>\n",
       "</table>\n",
       "</div>"
      ],
      "text/plain": [
       "       geolocation_zip_code_prefix  geolocation_lat  geolocation_lng\n",
       "count                   1000163.00       1000163.00       1000163.00\n",
       "mean                      36574.17           -21.18           -46.39\n",
       "std                       30549.34             5.72             4.27\n",
       "min                        1001.00           -36.61          -101.47\n",
       "25%                       11075.00           -23.60           -48.57\n",
       "50%                       26530.00           -22.92           -46.64\n",
       "75%                       63504.00           -19.98           -43.77\n",
       "max                       99990.00            45.07           121.11"
      ]
     },
     "execution_count": 627,
     "metadata": {},
     "output_type": "execute_result"
    }
   ],
   "source": [
    "fichier.describe().round(2)"
   ]
  },
  {
   "cell_type": "markdown",
   "metadata": {},
   "source": [
    "Resume des features **qualitatives** : "
   ]
  },
  {
   "cell_type": "code",
   "execution_count": 628,
   "metadata": {},
   "outputs": [
    {
     "data": {
      "text/html": [
       "<div>\n",
       "<style scoped>\n",
       "    .dataframe tbody tr th:only-of-type {\n",
       "        vertical-align: middle;\n",
       "    }\n",
       "\n",
       "    .dataframe tbody tr th {\n",
       "        vertical-align: top;\n",
       "    }\n",
       "\n",
       "    .dataframe thead th {\n",
       "        text-align: right;\n",
       "    }\n",
       "</style>\n",
       "<table border=\"1\" class=\"dataframe\">\n",
       "  <thead>\n",
       "    <tr style=\"text-align: right;\">\n",
       "      <th></th>\n",
       "      <th>geolocation_city</th>\n",
       "      <th>geolocation_state</th>\n",
       "    </tr>\n",
       "  </thead>\n",
       "  <tbody>\n",
       "    <tr>\n",
       "      <th>count</th>\n",
       "      <td>1000163</td>\n",
       "      <td>1000163</td>\n",
       "    </tr>\n",
       "    <tr>\n",
       "      <th>unique</th>\n",
       "      <td>8011</td>\n",
       "      <td>27</td>\n",
       "    </tr>\n",
       "    <tr>\n",
       "      <th>top</th>\n",
       "      <td>sao paulo</td>\n",
       "      <td>SP</td>\n",
       "    </tr>\n",
       "    <tr>\n",
       "      <th>freq</th>\n",
       "      <td>135800</td>\n",
       "      <td>404268</td>\n",
       "    </tr>\n",
       "  </tbody>\n",
       "</table>\n",
       "</div>"
      ],
      "text/plain": [
       "       geolocation_city geolocation_state\n",
       "count           1000163           1000163\n",
       "unique             8011                27\n",
       "top           sao paulo                SP\n",
       "freq             135800            404268"
      ]
     },
     "execution_count": 628,
     "metadata": {},
     "output_type": "execute_result"
    }
   ],
   "source": [
    "fichier.describe(exclude=[np.number])"
   ]
  },
  {
   "cell_type": "markdown",
   "metadata": {},
   "source": [
    "<div class=\"alert alert-block alert-info\">\n",
    "<b>Fichier geolocalisation </b> : 'olist_geolocation_dataset.csv'\n",
    "\n",
    "Ce fichier presente plus d'un million de lignes sans aucune valeur manquante\n",
    "concernant la localisation des clients. Les commandes ont ete realisees dans\n",
    "plus de 8_000 villes differentes dans 27 etats differents. \n",
    "\n",
    "Ce fichier est lie au fichier des **clients** grâce à la clef\n",
    "\"**geolocation_zip_code_prefix**\".<br>\n",
    "Ce fichier est lie au fichier des **vendeurs** grâce à la clef\n",
    "\"**geolocation_zip_code_prefix**\". \n",
    "</div>"
   ]
  },
  {
   "cell_type": "markdown",
   "metadata": {},
   "source": [
    "## <span style='background:yellow; color:black'>3/ Les articles</span>\n",
    "\n",
    "### <span style='background:green'>a/ Aperçu tableau</span>"
   ]
  },
  {
   "cell_type": "code",
   "execution_count": 629,
   "metadata": {},
   "outputs": [
    {
     "data": {
      "text/html": [
       "<div>\n",
       "<style scoped>\n",
       "    .dataframe tbody tr th:only-of-type {\n",
       "        vertical-align: middle;\n",
       "    }\n",
       "\n",
       "    .dataframe tbody tr th {\n",
       "        vertical-align: top;\n",
       "    }\n",
       "\n",
       "    .dataframe thead th {\n",
       "        text-align: right;\n",
       "    }\n",
       "</style>\n",
       "<table border=\"1\" class=\"dataframe\">\n",
       "  <thead>\n",
       "    <tr style=\"text-align: right;\">\n",
       "      <th></th>\n",
       "      <th>order_id</th>\n",
       "      <th>order_item_id</th>\n",
       "      <th>product_id</th>\n",
       "      <th>seller_id</th>\n",
       "      <th>shipping_limit_date</th>\n",
       "      <th>price</th>\n",
       "      <th>freight_value</th>\n",
       "    </tr>\n",
       "  </thead>\n",
       "  <tbody>\n",
       "    <tr>\n",
       "      <th>0</th>\n",
       "      <td>00010242fe8c5a6d1ba2dd792cb16214</td>\n",
       "      <td>1</td>\n",
       "      <td>4244733e06e7ecb4970a6e2683c13e61</td>\n",
       "      <td>48436dade18ac8b2bce089ec2a041202</td>\n",
       "      <td>2017-09-19 09:45:35</td>\n",
       "      <td>58.9</td>\n",
       "      <td>13.29</td>\n",
       "    </tr>\n",
       "    <tr>\n",
       "      <th>1</th>\n",
       "      <td>00018f77f2f0320c557190d7a144bdd3</td>\n",
       "      <td>1</td>\n",
       "      <td>e5f2d52b802189ee658865ca93d83a8f</td>\n",
       "      <td>dd7ddc04e1b6c2c614352b383efe2d36</td>\n",
       "      <td>2017-05-03 11:05:13</td>\n",
       "      <td>239.9</td>\n",
       "      <td>19.93</td>\n",
       "    </tr>\n",
       "    <tr>\n",
       "      <th>2</th>\n",
       "      <td>000229ec398224ef6ca0657da4fc703e</td>\n",
       "      <td>1</td>\n",
       "      <td>c777355d18b72b67abbeef9df44fd0fd</td>\n",
       "      <td>5b51032eddd242adc84c38acab88f23d</td>\n",
       "      <td>2018-01-18 14:48:30</td>\n",
       "      <td>199.0</td>\n",
       "      <td>17.87</td>\n",
       "    </tr>\n",
       "  </tbody>\n",
       "</table>\n",
       "</div>"
      ],
      "text/plain": [
       "                           order_id  order_item_id  \\\n",
       "0  00010242fe8c5a6d1ba2dd792cb16214              1   \n",
       "1  00018f77f2f0320c557190d7a144bdd3              1   \n",
       "2  000229ec398224ef6ca0657da4fc703e              1   \n",
       "\n",
       "                         product_id                         seller_id  \\\n",
       "0  4244733e06e7ecb4970a6e2683c13e61  48436dade18ac8b2bce089ec2a041202   \n",
       "1  e5f2d52b802189ee658865ca93d83a8f  dd7ddc04e1b6c2c614352b383efe2d36   \n",
       "2  c777355d18b72b67abbeef9df44fd0fd  5b51032eddd242adc84c38acab88f23d   \n",
       "\n",
       "   shipping_limit_date  price  freight_value  \n",
       "0  2017-09-19 09:45:35   58.9          13.29  \n",
       "1  2017-05-03 11:05:13  239.9          19.93  \n",
       "2  2018-01-18 14:48:30  199.0          17.87  "
      ]
     },
     "execution_count": 629,
     "metadata": {},
     "output_type": "execute_result"
    }
   ],
   "source": [
    "# isoler le contenu du fichier\n",
    "fichier = data_brut[\"olist_order_items_dataset.csv\"]\n",
    "\n",
    "# Afficher les 3 premières lignes du fichier\n",
    "fichier.head(3)"
   ]
  },
  {
   "cell_type": "markdown",
   "metadata": {},
   "source": [
    "Informations sur les articles :\n",
    "- **order_id** : identifiant des commandes\n",
    "- **order_item_id** : nombre d'articles commandes\n",
    "- **product_id** : identifiant des produits\n",
    "- **seller_id** : identifiant des vendeurs\n",
    "- **shipping_limit_date** : date limite d'envoi\n",
    "- **price** : prix\n",
    "- **freight_value** : valeur du fret"
   ]
  },
  {
   "cell_type": "markdown",
   "metadata": {},
   "source": [
    "### <span style='background:green'>b/ Structure</span>"
   ]
  },
  {
   "cell_type": "code",
   "execution_count": 630,
   "metadata": {},
   "outputs": [
    {
     "name": "stdout",
     "output_type": "stream",
     "text": [
      "<class 'pandas.core.frame.DataFrame'>\n",
      "RangeIndex: 112650 entries, 0 to 112649\n",
      "Data columns (total 7 columns):\n",
      " #   Column               Non-Null Count   Dtype  \n",
      "---  ------               --------------   -----  \n",
      " 0   order_id             112650 non-null  object \n",
      " 1   order_item_id        112650 non-null  int64  \n",
      " 2   product_id           112650 non-null  object \n",
      " 3   seller_id            112650 non-null  object \n",
      " 4   shipping_limit_date  112650 non-null  object \n",
      " 5   price                112650 non-null  float64\n",
      " 6   freight_value        112650 non-null  float64\n",
      "dtypes: float64(2), int64(1), object(4)\n",
      "memory usage: 6.0+ MB\n"
     ]
    }
   ],
   "source": [
    "fichier.info()"
   ]
  },
  {
   "cell_type": "markdown",
   "metadata": {},
   "source": [
    "Ce fichier contient 112_650 lignes et 7 colonnes."
   ]
  },
  {
   "cell_type": "markdown",
   "metadata": {},
   "source": [
    "### <span style='background:green'>c/ Valeurs manquantes</span>"
   ]
  },
  {
   "cell_type": "code",
   "execution_count": 631,
   "metadata": {},
   "outputs": [
    {
     "data": {
      "text/plain": [
       "order_id               0\n",
       "order_item_id          0\n",
       "product_id             0\n",
       "seller_id              0\n",
       "shipping_limit_date    0\n",
       "price                  0\n",
       "freight_value          0\n",
       "dtype: int64"
      ]
     },
     "execution_count": 631,
     "metadata": {},
     "output_type": "execute_result"
    }
   ],
   "source": [
    "fichier.isna().sum()"
   ]
  },
  {
   "cell_type": "markdown",
   "metadata": {},
   "source": [
    "Il n'y a pas de valeurs manquantes."
   ]
  },
  {
   "cell_type": "markdown",
   "metadata": {},
   "source": [
    "### <span style='background:green'>d/ Doublons</span>"
   ]
  },
  {
   "cell_type": "code",
   "execution_count": 632,
   "metadata": {},
   "outputs": [
    {
     "data": {
      "text/plain": [
       "0"
      ]
     },
     "execution_count": 632,
     "metadata": {},
     "output_type": "execute_result"
    }
   ],
   "source": [
    "fichier.duplicated().sum()"
   ]
  },
  {
   "cell_type": "markdown",
   "metadata": {},
   "source": [
    "Il n'y a pas de doublons."
   ]
  },
  {
   "cell_type": "markdown",
   "metadata": {},
   "source": [
    "### <span style='background:green'>e/ Inspection des donnees</span>\n",
    "\n",
    "Resume des features **quantitatives** :"
   ]
  },
  {
   "cell_type": "code",
   "execution_count": 633,
   "metadata": {},
   "outputs": [
    {
     "data": {
      "text/html": [
       "<div>\n",
       "<style scoped>\n",
       "    .dataframe tbody tr th:only-of-type {\n",
       "        vertical-align: middle;\n",
       "    }\n",
       "\n",
       "    .dataframe tbody tr th {\n",
       "        vertical-align: top;\n",
       "    }\n",
       "\n",
       "    .dataframe thead th {\n",
       "        text-align: right;\n",
       "    }\n",
       "</style>\n",
       "<table border=\"1\" class=\"dataframe\">\n",
       "  <thead>\n",
       "    <tr style=\"text-align: right;\">\n",
       "      <th></th>\n",
       "      <th>order_item_id</th>\n",
       "      <th>price</th>\n",
       "      <th>freight_value</th>\n",
       "    </tr>\n",
       "  </thead>\n",
       "  <tbody>\n",
       "    <tr>\n",
       "      <th>count</th>\n",
       "      <td>112650.00</td>\n",
       "      <td>112650.00</td>\n",
       "      <td>112650.00</td>\n",
       "    </tr>\n",
       "    <tr>\n",
       "      <th>mean</th>\n",
       "      <td>1.20</td>\n",
       "      <td>120.65</td>\n",
       "      <td>19.99</td>\n",
       "    </tr>\n",
       "    <tr>\n",
       "      <th>std</th>\n",
       "      <td>0.71</td>\n",
       "      <td>183.63</td>\n",
       "      <td>15.81</td>\n",
       "    </tr>\n",
       "    <tr>\n",
       "      <th>min</th>\n",
       "      <td>1.00</td>\n",
       "      <td>0.85</td>\n",
       "      <td>0.00</td>\n",
       "    </tr>\n",
       "    <tr>\n",
       "      <th>25%</th>\n",
       "      <td>1.00</td>\n",
       "      <td>39.90</td>\n",
       "      <td>13.08</td>\n",
       "    </tr>\n",
       "    <tr>\n",
       "      <th>50%</th>\n",
       "      <td>1.00</td>\n",
       "      <td>74.99</td>\n",
       "      <td>16.26</td>\n",
       "    </tr>\n",
       "    <tr>\n",
       "      <th>75%</th>\n",
       "      <td>1.00</td>\n",
       "      <td>134.90</td>\n",
       "      <td>21.15</td>\n",
       "    </tr>\n",
       "    <tr>\n",
       "      <th>max</th>\n",
       "      <td>21.00</td>\n",
       "      <td>6735.00</td>\n",
       "      <td>409.68</td>\n",
       "    </tr>\n",
       "  </tbody>\n",
       "</table>\n",
       "</div>"
      ],
      "text/plain": [
       "       order_item_id      price  freight_value\n",
       "count      112650.00  112650.00      112650.00\n",
       "mean            1.20     120.65          19.99\n",
       "std             0.71     183.63          15.81\n",
       "min             1.00       0.85           0.00\n",
       "25%             1.00      39.90          13.08\n",
       "50%             1.00      74.99          16.26\n",
       "75%             1.00     134.90          21.15\n",
       "max            21.00    6735.00         409.68"
      ]
     },
     "execution_count": 633,
     "metadata": {},
     "output_type": "execute_result"
    }
   ],
   "source": [
    "fichier.describe().round(2)"
   ]
  },
  {
   "cell_type": "markdown",
   "metadata": {},
   "source": [
    "Resume des features **qualitatives** : "
   ]
  },
  {
   "cell_type": "code",
   "execution_count": 634,
   "metadata": {},
   "outputs": [
    {
     "data": {
      "text/html": [
       "<div>\n",
       "<style scoped>\n",
       "    .dataframe tbody tr th:only-of-type {\n",
       "        vertical-align: middle;\n",
       "    }\n",
       "\n",
       "    .dataframe tbody tr th {\n",
       "        vertical-align: top;\n",
       "    }\n",
       "\n",
       "    .dataframe thead th {\n",
       "        text-align: right;\n",
       "    }\n",
       "</style>\n",
       "<table border=\"1\" class=\"dataframe\">\n",
       "  <thead>\n",
       "    <tr style=\"text-align: right;\">\n",
       "      <th></th>\n",
       "      <th>order_id</th>\n",
       "      <th>product_id</th>\n",
       "      <th>seller_id</th>\n",
       "      <th>shipping_limit_date</th>\n",
       "    </tr>\n",
       "  </thead>\n",
       "  <tbody>\n",
       "    <tr>\n",
       "      <th>count</th>\n",
       "      <td>112650</td>\n",
       "      <td>112650</td>\n",
       "      <td>112650</td>\n",
       "      <td>112650</td>\n",
       "    </tr>\n",
       "    <tr>\n",
       "      <th>unique</th>\n",
       "      <td>98666</td>\n",
       "      <td>32951</td>\n",
       "      <td>3095</td>\n",
       "      <td>93318</td>\n",
       "    </tr>\n",
       "    <tr>\n",
       "      <th>top</th>\n",
       "      <td>8272b63d03f5f79c56e9e4120aec44ef</td>\n",
       "      <td>aca2eb7d00ea1a7b8ebd4e68314663af</td>\n",
       "      <td>6560211a19b47992c3666cc44a7e94c0</td>\n",
       "      <td>2017-07-21 18:25:23</td>\n",
       "    </tr>\n",
       "    <tr>\n",
       "      <th>freq</th>\n",
       "      <td>21</td>\n",
       "      <td>527</td>\n",
       "      <td>2033</td>\n",
       "      <td>21</td>\n",
       "    </tr>\n",
       "  </tbody>\n",
       "</table>\n",
       "</div>"
      ],
      "text/plain": [
       "                                order_id                        product_id  \\\n",
       "count                             112650                            112650   \n",
       "unique                             98666                             32951   \n",
       "top     8272b63d03f5f79c56e9e4120aec44ef  aca2eb7d00ea1a7b8ebd4e68314663af   \n",
       "freq                                  21                               527   \n",
       "\n",
       "                               seller_id  shipping_limit_date  \n",
       "count                             112650               112650  \n",
       "unique                              3095                93318  \n",
       "top     6560211a19b47992c3666cc44a7e94c0  2017-07-21 18:25:23  \n",
       "freq                                2033                   21  "
      ]
     },
     "execution_count": 634,
     "metadata": {},
     "output_type": "execute_result"
    }
   ],
   "source": [
    "fichier.describe(exclude=[np.number])"
   ]
  },
  {
   "cell_type": "markdown",
   "metadata": {},
   "source": [
    "<div class=\"alert alert-block alert-info\">\n",
    "<b>Fichier article </b> : 'olist_order_items_dataset.csv'\n",
    "\n",
    "Ce fichier contient plus de 112_000 commandes avec plus de 32_000 produits\n",
    "differents pour plus de 3_000 vendeurs differents.<br>\n",
    "La commande moyenne contient 1,2 article pour 120 R$ (Real bresilien) de prix\n",
    "et 20 R$ de frais de port.\n",
    "\n",
    "Ce fichier est lie au fichier des **commandes** grâce à la clef\n",
    "\"**order_id**\".<br>\n",
    "Ce fichier est lie au fichier des **produits** grâce à la clef\n",
    "\"**product_id**\".<br>\n",
    "Ce fichier est lie au fichier des **vendeurs** grâce à la clef\n",
    "\"**seller_id**\".\n",
    "</div>"
   ]
  },
  {
   "cell_type": "markdown",
   "metadata": {},
   "source": [
    "## <span style='background:yellow; color:black'>4/ Les paiements</span>\n",
    "\n",
    "### <span style='background:green'>a/ Aperçu tableau</span>"
   ]
  },
  {
   "cell_type": "code",
   "execution_count": 635,
   "metadata": {},
   "outputs": [
    {
     "data": {
      "text/html": [
       "<div>\n",
       "<style scoped>\n",
       "    .dataframe tbody tr th:only-of-type {\n",
       "        vertical-align: middle;\n",
       "    }\n",
       "\n",
       "    .dataframe tbody tr th {\n",
       "        vertical-align: top;\n",
       "    }\n",
       "\n",
       "    .dataframe thead th {\n",
       "        text-align: right;\n",
       "    }\n",
       "</style>\n",
       "<table border=\"1\" class=\"dataframe\">\n",
       "  <thead>\n",
       "    <tr style=\"text-align: right;\">\n",
       "      <th></th>\n",
       "      <th>order_id</th>\n",
       "      <th>payment_sequential</th>\n",
       "      <th>payment_type</th>\n",
       "      <th>payment_installments</th>\n",
       "      <th>payment_value</th>\n",
       "    </tr>\n",
       "  </thead>\n",
       "  <tbody>\n",
       "    <tr>\n",
       "      <th>0</th>\n",
       "      <td>b81ef226f3fe1789b1e8b2acac839d17</td>\n",
       "      <td>1</td>\n",
       "      <td>credit_card</td>\n",
       "      <td>8</td>\n",
       "      <td>99.33</td>\n",
       "    </tr>\n",
       "    <tr>\n",
       "      <th>1</th>\n",
       "      <td>a9810da82917af2d9aefd1278f1dcfa0</td>\n",
       "      <td>1</td>\n",
       "      <td>credit_card</td>\n",
       "      <td>1</td>\n",
       "      <td>24.39</td>\n",
       "    </tr>\n",
       "    <tr>\n",
       "      <th>2</th>\n",
       "      <td>25e8ea4e93396b6fa0d3dd708e76c1bd</td>\n",
       "      <td>1</td>\n",
       "      <td>credit_card</td>\n",
       "      <td>1</td>\n",
       "      <td>65.71</td>\n",
       "    </tr>\n",
       "  </tbody>\n",
       "</table>\n",
       "</div>"
      ],
      "text/plain": [
       "                           order_id  payment_sequential payment_type  \\\n",
       "0  b81ef226f3fe1789b1e8b2acac839d17                   1  credit_card   \n",
       "1  a9810da82917af2d9aefd1278f1dcfa0                   1  credit_card   \n",
       "2  25e8ea4e93396b6fa0d3dd708e76c1bd                   1  credit_card   \n",
       "\n",
       "   payment_installments  payment_value  \n",
       "0                     8          99.33  \n",
       "1                     1          24.39  \n",
       "2                     1          65.71  "
      ]
     },
     "execution_count": 635,
     "metadata": {},
     "output_type": "execute_result"
    }
   ],
   "source": [
    "# isoler le contenu du fichier\n",
    "fichier = data_brut[\"olist_order_payments_dataset.csv\"]\n",
    "\n",
    "# Afficher les 3 premières lignes du fichier\n",
    "fichier.head(3)"
   ]
  },
  {
   "cell_type": "markdown",
   "metadata": {},
   "source": [
    "Informations sur les paiements :\n",
    "- **order_id** : identifiant des commandes\n",
    "- **payment_sequential** : nombre de sequence de paiements pour differents modes de paiement\n",
    "- **payment_type** : type de paiement\n",
    "- **payment_installments** : nombre de versement de paiement\n",
    "- **payment_value** : montant du paiement"
   ]
  },
  {
   "cell_type": "markdown",
   "metadata": {},
   "source": [
    "### <span style='background:green'>b/ Structure</span>"
   ]
  },
  {
   "cell_type": "code",
   "execution_count": 636,
   "metadata": {},
   "outputs": [
    {
     "name": "stdout",
     "output_type": "stream",
     "text": [
      "<class 'pandas.core.frame.DataFrame'>\n",
      "RangeIndex: 103886 entries, 0 to 103885\n",
      "Data columns (total 5 columns):\n",
      " #   Column                Non-Null Count   Dtype  \n",
      "---  ------                --------------   -----  \n",
      " 0   order_id              103886 non-null  object \n",
      " 1   payment_sequential    103886 non-null  int64  \n",
      " 2   payment_type          103886 non-null  object \n",
      " 3   payment_installments  103886 non-null  int64  \n",
      " 4   payment_value         103886 non-null  float64\n",
      "dtypes: float64(1), int64(2), object(2)\n",
      "memory usage: 4.0+ MB\n"
     ]
    }
   ],
   "source": [
    "fichier.info()"
   ]
  },
  {
   "cell_type": "markdown",
   "metadata": {},
   "source": [
    "Ce fichier contient 103_886 lignes et 5 colonnes."
   ]
  },
  {
   "cell_type": "markdown",
   "metadata": {},
   "source": [
    "### <span style='background:green'>c/ Valeurs manquantes</span>"
   ]
  },
  {
   "cell_type": "code",
   "execution_count": 637,
   "metadata": {},
   "outputs": [
    {
     "data": {
      "text/plain": [
       "order_id                0\n",
       "payment_sequential      0\n",
       "payment_type            0\n",
       "payment_installments    0\n",
       "payment_value           0\n",
       "dtype: int64"
      ]
     },
     "execution_count": 637,
     "metadata": {},
     "output_type": "execute_result"
    }
   ],
   "source": [
    "fichier.isna().sum()"
   ]
  },
  {
   "cell_type": "markdown",
   "metadata": {},
   "source": [
    "Il n'y a pas de valeurs manquantes."
   ]
  },
  {
   "cell_type": "markdown",
   "metadata": {},
   "source": [
    "### <span style='background:green'>d/ Doublons</span>"
   ]
  },
  {
   "cell_type": "code",
   "execution_count": 638,
   "metadata": {},
   "outputs": [
    {
     "data": {
      "text/plain": [
       "0"
      ]
     },
     "execution_count": 638,
     "metadata": {},
     "output_type": "execute_result"
    }
   ],
   "source": [
    "fichier.duplicated().sum()"
   ]
  },
  {
   "cell_type": "markdown",
   "metadata": {},
   "source": [
    "Il n'y a pas de doublons."
   ]
  },
  {
   "cell_type": "markdown",
   "metadata": {},
   "source": [
    "### <span style='background:green'>e/ Inspection des donnees</span>\n",
    "\n",
    "Resume des features **quantitatives** :"
   ]
  },
  {
   "cell_type": "code",
   "execution_count": 639,
   "metadata": {},
   "outputs": [
    {
     "data": {
      "text/html": [
       "<div>\n",
       "<style scoped>\n",
       "    .dataframe tbody tr th:only-of-type {\n",
       "        vertical-align: middle;\n",
       "    }\n",
       "\n",
       "    .dataframe tbody tr th {\n",
       "        vertical-align: top;\n",
       "    }\n",
       "\n",
       "    .dataframe thead th {\n",
       "        text-align: right;\n",
       "    }\n",
       "</style>\n",
       "<table border=\"1\" class=\"dataframe\">\n",
       "  <thead>\n",
       "    <tr style=\"text-align: right;\">\n",
       "      <th></th>\n",
       "      <th>payment_sequential</th>\n",
       "      <th>payment_installments</th>\n",
       "      <th>payment_value</th>\n",
       "    </tr>\n",
       "  </thead>\n",
       "  <tbody>\n",
       "    <tr>\n",
       "      <th>count</th>\n",
       "      <td>103886.00</td>\n",
       "      <td>103886.00</td>\n",
       "      <td>103886.00</td>\n",
       "    </tr>\n",
       "    <tr>\n",
       "      <th>mean</th>\n",
       "      <td>1.09</td>\n",
       "      <td>2.85</td>\n",
       "      <td>154.10</td>\n",
       "    </tr>\n",
       "    <tr>\n",
       "      <th>std</th>\n",
       "      <td>0.71</td>\n",
       "      <td>2.69</td>\n",
       "      <td>217.49</td>\n",
       "    </tr>\n",
       "    <tr>\n",
       "      <th>min</th>\n",
       "      <td>1.00</td>\n",
       "      <td>0.00</td>\n",
       "      <td>0.00</td>\n",
       "    </tr>\n",
       "    <tr>\n",
       "      <th>25%</th>\n",
       "      <td>1.00</td>\n",
       "      <td>1.00</td>\n",
       "      <td>56.79</td>\n",
       "    </tr>\n",
       "    <tr>\n",
       "      <th>50%</th>\n",
       "      <td>1.00</td>\n",
       "      <td>1.00</td>\n",
       "      <td>100.00</td>\n",
       "    </tr>\n",
       "    <tr>\n",
       "      <th>75%</th>\n",
       "      <td>1.00</td>\n",
       "      <td>4.00</td>\n",
       "      <td>171.84</td>\n",
       "    </tr>\n",
       "    <tr>\n",
       "      <th>max</th>\n",
       "      <td>29.00</td>\n",
       "      <td>24.00</td>\n",
       "      <td>13664.08</td>\n",
       "    </tr>\n",
       "  </tbody>\n",
       "</table>\n",
       "</div>"
      ],
      "text/plain": [
       "       payment_sequential  payment_installments  payment_value\n",
       "count           103886.00             103886.00      103886.00\n",
       "mean                 1.09                  2.85         154.10\n",
       "std                  0.71                  2.69         217.49\n",
       "min                  1.00                  0.00           0.00\n",
       "25%                  1.00                  1.00          56.79\n",
       "50%                  1.00                  1.00         100.00\n",
       "75%                  1.00                  4.00         171.84\n",
       "max                 29.00                 24.00       13664.08"
      ]
     },
     "execution_count": 639,
     "metadata": {},
     "output_type": "execute_result"
    }
   ],
   "source": [
    "fichier.describe().round(2)"
   ]
  },
  {
   "cell_type": "markdown",
   "metadata": {},
   "source": [
    "Resume des features **qualitatives** : "
   ]
  },
  {
   "cell_type": "code",
   "execution_count": 640,
   "metadata": {},
   "outputs": [
    {
     "data": {
      "text/html": [
       "<div>\n",
       "<style scoped>\n",
       "    .dataframe tbody tr th:only-of-type {\n",
       "        vertical-align: middle;\n",
       "    }\n",
       "\n",
       "    .dataframe tbody tr th {\n",
       "        vertical-align: top;\n",
       "    }\n",
       "\n",
       "    .dataframe thead th {\n",
       "        text-align: right;\n",
       "    }\n",
       "</style>\n",
       "<table border=\"1\" class=\"dataframe\">\n",
       "  <thead>\n",
       "    <tr style=\"text-align: right;\">\n",
       "      <th></th>\n",
       "      <th>order_id</th>\n",
       "      <th>payment_type</th>\n",
       "    </tr>\n",
       "  </thead>\n",
       "  <tbody>\n",
       "    <tr>\n",
       "      <th>count</th>\n",
       "      <td>103886</td>\n",
       "      <td>103886</td>\n",
       "    </tr>\n",
       "    <tr>\n",
       "      <th>unique</th>\n",
       "      <td>99440</td>\n",
       "      <td>5</td>\n",
       "    </tr>\n",
       "    <tr>\n",
       "      <th>top</th>\n",
       "      <td>fa65dad1b0e818e3ccc5cb0e39231352</td>\n",
       "      <td>credit_card</td>\n",
       "    </tr>\n",
       "    <tr>\n",
       "      <th>freq</th>\n",
       "      <td>29</td>\n",
       "      <td>76795</td>\n",
       "    </tr>\n",
       "  </tbody>\n",
       "</table>\n",
       "</div>"
      ],
      "text/plain": [
       "                                order_id payment_type\n",
       "count                             103886       103886\n",
       "unique                             99440            5\n",
       "top     fa65dad1b0e818e3ccc5cb0e39231352  credit_card\n",
       "freq                                  29        76795"
      ]
     },
     "execution_count": 640,
     "metadata": {},
     "output_type": "execute_result"
    }
   ],
   "source": [
    "fichier.describe(exclude=[np.number])"
   ]
  },
  {
   "cell_type": "markdown",
   "metadata": {},
   "source": [
    "<div class=\"alert alert-block alert-info\">\n",
    "<b>Fichier paiement </b> : 'olist_order_payments_dataset.csv'\n",
    "\n",
    "Ce fichier contient plus de 103_000 paiements pour plus de 99_000 commandes\n",
    "differentes.<br>\n",
    "Le paiement moyen comporte 1,09 sequence avec 2,85 versements pour un montant\n",
    "de 154 R$.<br>\n",
    "Il y a 5 types de paiements differents.\n",
    "\n",
    "Ce fichier est lie au fichier des **donnees de base** grâce à la clef\n",
    "\"**order_id**\".\n",
    "</div>"
   ]
  },
  {
   "cell_type": "markdown",
   "metadata": {},
   "source": [
    "## <span style='background:yellow; color:black'>5/ Les avis</span>\n",
    "\n",
    "### <span style='background:green'>a/ Aperçu tableau</span>"
   ]
  },
  {
   "cell_type": "code",
   "execution_count": 641,
   "metadata": {},
   "outputs": [
    {
     "data": {
      "text/html": [
       "<div>\n",
       "<style scoped>\n",
       "    .dataframe tbody tr th:only-of-type {\n",
       "        vertical-align: middle;\n",
       "    }\n",
       "\n",
       "    .dataframe tbody tr th {\n",
       "        vertical-align: top;\n",
       "    }\n",
       "\n",
       "    .dataframe thead th {\n",
       "        text-align: right;\n",
       "    }\n",
       "</style>\n",
       "<table border=\"1\" class=\"dataframe\">\n",
       "  <thead>\n",
       "    <tr style=\"text-align: right;\">\n",
       "      <th></th>\n",
       "      <th>review_id</th>\n",
       "      <th>order_id</th>\n",
       "      <th>review_score</th>\n",
       "      <th>review_comment_title</th>\n",
       "      <th>review_comment_message</th>\n",
       "      <th>review_creation_date</th>\n",
       "      <th>review_answer_timestamp</th>\n",
       "    </tr>\n",
       "  </thead>\n",
       "  <tbody>\n",
       "    <tr>\n",
       "      <th>0</th>\n",
       "      <td>7bc2406110b926393aa56f80a40eba40</td>\n",
       "      <td>73fc7af87114b39712e6da79b0a377eb</td>\n",
       "      <td>4</td>\n",
       "      <td>NaN</td>\n",
       "      <td>NaN</td>\n",
       "      <td>2018-01-18 00:00:00</td>\n",
       "      <td>2018-01-18 21:46:59</td>\n",
       "    </tr>\n",
       "    <tr>\n",
       "      <th>1</th>\n",
       "      <td>80e641a11e56f04c1ad469d5645fdfde</td>\n",
       "      <td>a548910a1c6147796b98fdf73dbeba33</td>\n",
       "      <td>5</td>\n",
       "      <td>NaN</td>\n",
       "      <td>NaN</td>\n",
       "      <td>2018-03-10 00:00:00</td>\n",
       "      <td>2018-03-11 03:05:13</td>\n",
       "    </tr>\n",
       "    <tr>\n",
       "      <th>2</th>\n",
       "      <td>228ce5500dc1d8e020d8d1322874b6f0</td>\n",
       "      <td>f9e4b658b201a9f2ecdecbb34bed034b</td>\n",
       "      <td>5</td>\n",
       "      <td>NaN</td>\n",
       "      <td>NaN</td>\n",
       "      <td>2018-02-17 00:00:00</td>\n",
       "      <td>2018-02-18 14:36:24</td>\n",
       "    </tr>\n",
       "  </tbody>\n",
       "</table>\n",
       "</div>"
      ],
      "text/plain": [
       "                          review_id                          order_id  \\\n",
       "0  7bc2406110b926393aa56f80a40eba40  73fc7af87114b39712e6da79b0a377eb   \n",
       "1  80e641a11e56f04c1ad469d5645fdfde  a548910a1c6147796b98fdf73dbeba33   \n",
       "2  228ce5500dc1d8e020d8d1322874b6f0  f9e4b658b201a9f2ecdecbb34bed034b   \n",
       "\n",
       "   review_score review_comment_title review_comment_message  \\\n",
       "0             4                  NaN                    NaN   \n",
       "1             5                  NaN                    NaN   \n",
       "2             5                  NaN                    NaN   \n",
       "\n",
       "  review_creation_date review_answer_timestamp  \n",
       "0  2018-01-18 00:00:00     2018-01-18 21:46:59  \n",
       "1  2018-03-10 00:00:00     2018-03-11 03:05:13  \n",
       "2  2018-02-17 00:00:00     2018-02-18 14:36:24  "
      ]
     },
     "execution_count": 641,
     "metadata": {},
     "output_type": "execute_result"
    }
   ],
   "source": [
    "# isoler le contenu du fichier\n",
    "fichier = data_brut[\"olist_order_reviews_dataset.csv\"]\n",
    "\n",
    "# Afficher les 3 premières lignes du fichier\n",
    "fichier.head(3)"
   ]
  },
  {
   "cell_type": "markdown",
   "metadata": {},
   "source": [
    "Informations sur les avis :\n",
    "- **review_id** : identifiant des avis\n",
    "- **order_id** : identifiant des commandes\n",
    "- **review_score** : score/note de l'avis\n",
    "- **review_comment_title** : titre de l'avis\n",
    "- **review_comment_message** : message de l'avis\n",
    "- **review_creation_date** : date de creation de l'avis\n",
    "- **review_answer_timestamp** : date de reponse de l'avis"
   ]
  },
  {
   "cell_type": "markdown",
   "metadata": {},
   "source": [
    "### <span style='background:green'>b/ Structure</span>"
   ]
  },
  {
   "cell_type": "code",
   "execution_count": 642,
   "metadata": {},
   "outputs": [
    {
     "name": "stdout",
     "output_type": "stream",
     "text": [
      "<class 'pandas.core.frame.DataFrame'>\n",
      "RangeIndex: 99224 entries, 0 to 99223\n",
      "Data columns (total 7 columns):\n",
      " #   Column                   Non-Null Count  Dtype \n",
      "---  ------                   --------------  ----- \n",
      " 0   review_id                99224 non-null  object\n",
      " 1   order_id                 99224 non-null  object\n",
      " 2   review_score             99224 non-null  int64 \n",
      " 3   review_comment_title     11568 non-null  object\n",
      " 4   review_comment_message   40977 non-null  object\n",
      " 5   review_creation_date     99224 non-null  object\n",
      " 6   review_answer_timestamp  99224 non-null  object\n",
      "dtypes: int64(1), object(6)\n",
      "memory usage: 5.3+ MB\n"
     ]
    }
   ],
   "source": [
    "fichier.info()"
   ]
  },
  {
   "cell_type": "markdown",
   "metadata": {},
   "source": [
    "Ce fichier contient 99_224 lignes et 7 colonnes."
   ]
  },
  {
   "cell_type": "markdown",
   "metadata": {},
   "source": [
    "### <span style='background:green'>c/ Valeurs manquantes</span>"
   ]
  },
  {
   "cell_type": "code",
   "execution_count": 643,
   "metadata": {},
   "outputs": [
    {
     "data": {
      "text/plain": [
       "review_id                      0\n",
       "order_id                       0\n",
       "review_score                   0\n",
       "review_comment_title       87656\n",
       "review_comment_message     58247\n",
       "review_creation_date           0\n",
       "review_answer_timestamp        0\n",
       "dtype: int64"
      ]
     },
     "execution_count": 643,
     "metadata": {},
     "output_type": "execute_result"
    }
   ],
   "source": [
    "fichier.isna().sum()"
   ]
  },
  {
   "cell_type": "markdown",
   "metadata": {},
   "source": [
    "Il y a 87_656 valeurs manquantes dans la colonne \"**review_comment_title**\".<br>\n",
    "Il y a 58_247 valeurs manquantes dans la colonne \"**review_comment_message**\"."
   ]
  },
  {
   "cell_type": "markdown",
   "metadata": {},
   "source": [
    "### <span style='background:green'>d/ Doublons</span>"
   ]
  },
  {
   "cell_type": "code",
   "execution_count": 644,
   "metadata": {},
   "outputs": [
    {
     "data": {
      "text/plain": [
       "0"
      ]
     },
     "execution_count": 644,
     "metadata": {},
     "output_type": "execute_result"
    }
   ],
   "source": [
    "fichier.duplicated().sum()"
   ]
  },
  {
   "cell_type": "markdown",
   "metadata": {},
   "source": [
    "Il n'y a pas de doublons."
   ]
  },
  {
   "cell_type": "markdown",
   "metadata": {},
   "source": [
    "### <span style='background:green'>e/ Inspection des donnees</span>\n",
    "\n",
    "Resume des features **quantitatives** :"
   ]
  },
  {
   "cell_type": "code",
   "execution_count": 645,
   "metadata": {},
   "outputs": [
    {
     "data": {
      "text/html": [
       "<div>\n",
       "<style scoped>\n",
       "    .dataframe tbody tr th:only-of-type {\n",
       "        vertical-align: middle;\n",
       "    }\n",
       "\n",
       "    .dataframe tbody tr th {\n",
       "        vertical-align: top;\n",
       "    }\n",
       "\n",
       "    .dataframe thead th {\n",
       "        text-align: right;\n",
       "    }\n",
       "</style>\n",
       "<table border=\"1\" class=\"dataframe\">\n",
       "  <thead>\n",
       "    <tr style=\"text-align: right;\">\n",
       "      <th></th>\n",
       "      <th>review_score</th>\n",
       "    </tr>\n",
       "  </thead>\n",
       "  <tbody>\n",
       "    <tr>\n",
       "      <th>count</th>\n",
       "      <td>99224.00</td>\n",
       "    </tr>\n",
       "    <tr>\n",
       "      <th>mean</th>\n",
       "      <td>4.09</td>\n",
       "    </tr>\n",
       "    <tr>\n",
       "      <th>std</th>\n",
       "      <td>1.35</td>\n",
       "    </tr>\n",
       "    <tr>\n",
       "      <th>min</th>\n",
       "      <td>1.00</td>\n",
       "    </tr>\n",
       "    <tr>\n",
       "      <th>25%</th>\n",
       "      <td>4.00</td>\n",
       "    </tr>\n",
       "    <tr>\n",
       "      <th>50%</th>\n",
       "      <td>5.00</td>\n",
       "    </tr>\n",
       "    <tr>\n",
       "      <th>75%</th>\n",
       "      <td>5.00</td>\n",
       "    </tr>\n",
       "    <tr>\n",
       "      <th>max</th>\n",
       "      <td>5.00</td>\n",
       "    </tr>\n",
       "  </tbody>\n",
       "</table>\n",
       "</div>"
      ],
      "text/plain": [
       "       review_score\n",
       "count      99224.00\n",
       "mean           4.09\n",
       "std            1.35\n",
       "min            1.00\n",
       "25%            4.00\n",
       "50%            5.00\n",
       "75%            5.00\n",
       "max            5.00"
      ]
     },
     "execution_count": 645,
     "metadata": {},
     "output_type": "execute_result"
    }
   ],
   "source": [
    "fichier.describe().round(2)"
   ]
  },
  {
   "cell_type": "markdown",
   "metadata": {},
   "source": [
    "Resume des features **qualitatives** : "
   ]
  },
  {
   "cell_type": "code",
   "execution_count": 646,
   "metadata": {},
   "outputs": [
    {
     "data": {
      "text/html": [
       "<div>\n",
       "<style scoped>\n",
       "    .dataframe tbody tr th:only-of-type {\n",
       "        vertical-align: middle;\n",
       "    }\n",
       "\n",
       "    .dataframe tbody tr th {\n",
       "        vertical-align: top;\n",
       "    }\n",
       "\n",
       "    .dataframe thead th {\n",
       "        text-align: right;\n",
       "    }\n",
       "</style>\n",
       "<table border=\"1\" class=\"dataframe\">\n",
       "  <thead>\n",
       "    <tr style=\"text-align: right;\">\n",
       "      <th></th>\n",
       "      <th>review_id</th>\n",
       "      <th>order_id</th>\n",
       "      <th>review_comment_title</th>\n",
       "      <th>review_comment_message</th>\n",
       "      <th>review_creation_date</th>\n",
       "      <th>review_answer_timestamp</th>\n",
       "    </tr>\n",
       "  </thead>\n",
       "  <tbody>\n",
       "    <tr>\n",
       "      <th>count</th>\n",
       "      <td>99224</td>\n",
       "      <td>99224</td>\n",
       "      <td>11568</td>\n",
       "      <td>40977</td>\n",
       "      <td>99224</td>\n",
       "      <td>99224</td>\n",
       "    </tr>\n",
       "    <tr>\n",
       "      <th>unique</th>\n",
       "      <td>98410</td>\n",
       "      <td>98673</td>\n",
       "      <td>4527</td>\n",
       "      <td>36159</td>\n",
       "      <td>636</td>\n",
       "      <td>98248</td>\n",
       "    </tr>\n",
       "    <tr>\n",
       "      <th>top</th>\n",
       "      <td>7b606b0d57b078384f0b58eac1d41d78</td>\n",
       "      <td>c88b1d1b157a9999ce368f218a407141</td>\n",
       "      <td>Recomendo</td>\n",
       "      <td>Muito bom</td>\n",
       "      <td>2017-12-19 00:00:00</td>\n",
       "      <td>2017-06-15 23:21:05</td>\n",
       "    </tr>\n",
       "    <tr>\n",
       "      <th>freq</th>\n",
       "      <td>3</td>\n",
       "      <td>3</td>\n",
       "      <td>423</td>\n",
       "      <td>230</td>\n",
       "      <td>463</td>\n",
       "      <td>4</td>\n",
       "    </tr>\n",
       "  </tbody>\n",
       "</table>\n",
       "</div>"
      ],
      "text/plain": [
       "                               review_id                          order_id  \\\n",
       "count                              99224                             99224   \n",
       "unique                             98410                             98673   \n",
       "top     7b606b0d57b078384f0b58eac1d41d78  c88b1d1b157a9999ce368f218a407141   \n",
       "freq                                   3                                 3   \n",
       "\n",
       "       review_comment_title review_comment_message review_creation_date  \\\n",
       "count                 11568                  40977                99224   \n",
       "unique                 4527                  36159                  636   \n",
       "top               Recomendo              Muito bom  2017-12-19 00:00:00   \n",
       "freq                    423                    230                  463   \n",
       "\n",
       "       review_answer_timestamp  \n",
       "count                    99224  \n",
       "unique                   98248  \n",
       "top        2017-06-15 23:21:05  \n",
       "freq                         4  "
      ]
     },
     "execution_count": 646,
     "metadata": {},
     "output_type": "execute_result"
    }
   ],
   "source": [
    "fichier.describe(exclude=[np.number])"
   ]
  },
  {
   "cell_type": "markdown",
   "metadata": {},
   "source": [
    "<div class=\"alert alert-block alert-info\">\n",
    "<b>Fichier avis </b> : 'olist_order_reviews_dataset.csv'\n",
    "\n",
    "Ce fichier contient plus de 99_000 avis pour plus de 98_000 commandes\n",
    "differentes.<br>\n",
    "La note moyenne etait de 4,09 /5.<br>\n",
    "Seulement 41_000 avis possèdent un message et 11_500 avis possèdent un titre.\n",
    "\n",
    "Ce fichier est lie au fichier des **donnees de base** grâce à la clef\n",
    "\"**order_id**\".\n",
    "</div>"
   ]
  },
  {
   "cell_type": "markdown",
   "metadata": {},
   "source": [
    "## <span style='background:yellow; color:black'>6/ Les donnees de base</span>\n",
    "\n",
    "### <span style='background:green'>a/ Aperçu tableau</span>"
   ]
  },
  {
   "cell_type": "code",
   "execution_count": 647,
   "metadata": {},
   "outputs": [
    {
     "data": {
      "text/html": [
       "<div>\n",
       "<style scoped>\n",
       "    .dataframe tbody tr th:only-of-type {\n",
       "        vertical-align: middle;\n",
       "    }\n",
       "\n",
       "    .dataframe tbody tr th {\n",
       "        vertical-align: top;\n",
       "    }\n",
       "\n",
       "    .dataframe thead th {\n",
       "        text-align: right;\n",
       "    }\n",
       "</style>\n",
       "<table border=\"1\" class=\"dataframe\">\n",
       "  <thead>\n",
       "    <tr style=\"text-align: right;\">\n",
       "      <th></th>\n",
       "      <th>order_id</th>\n",
       "      <th>customer_id</th>\n",
       "      <th>order_status</th>\n",
       "      <th>order_purchase_timestamp</th>\n",
       "      <th>order_approved_at</th>\n",
       "      <th>order_delivered_carrier_date</th>\n",
       "      <th>order_delivered_customer_date</th>\n",
       "      <th>order_estimated_delivery_date</th>\n",
       "    </tr>\n",
       "  </thead>\n",
       "  <tbody>\n",
       "    <tr>\n",
       "      <th>0</th>\n",
       "      <td>e481f51cbdc54678b7cc49136f2d6af7</td>\n",
       "      <td>9ef432eb6251297304e76186b10a928d</td>\n",
       "      <td>delivered</td>\n",
       "      <td>2017-10-02 10:56:33</td>\n",
       "      <td>2017-10-02 11:07:15</td>\n",
       "      <td>2017-10-04 19:55:00</td>\n",
       "      <td>2017-10-10 21:25:13</td>\n",
       "      <td>2017-10-18 00:00:00</td>\n",
       "    </tr>\n",
       "    <tr>\n",
       "      <th>1</th>\n",
       "      <td>53cdb2fc8bc7dce0b6741e2150273451</td>\n",
       "      <td>b0830fb4747a6c6d20dea0b8c802d7ef</td>\n",
       "      <td>delivered</td>\n",
       "      <td>2018-07-24 20:41:37</td>\n",
       "      <td>2018-07-26 03:24:27</td>\n",
       "      <td>2018-07-26 14:31:00</td>\n",
       "      <td>2018-08-07 15:27:45</td>\n",
       "      <td>2018-08-13 00:00:00</td>\n",
       "    </tr>\n",
       "    <tr>\n",
       "      <th>2</th>\n",
       "      <td>47770eb9100c2d0c44946d9cf07ec65d</td>\n",
       "      <td>41ce2a54c0b03bf3443c3d931a367089</td>\n",
       "      <td>delivered</td>\n",
       "      <td>2018-08-08 08:38:49</td>\n",
       "      <td>2018-08-08 08:55:23</td>\n",
       "      <td>2018-08-08 13:50:00</td>\n",
       "      <td>2018-08-17 18:06:29</td>\n",
       "      <td>2018-09-04 00:00:00</td>\n",
       "    </tr>\n",
       "  </tbody>\n",
       "</table>\n",
       "</div>"
      ],
      "text/plain": [
       "                           order_id                       customer_id  \\\n",
       "0  e481f51cbdc54678b7cc49136f2d6af7  9ef432eb6251297304e76186b10a928d   \n",
       "1  53cdb2fc8bc7dce0b6741e2150273451  b0830fb4747a6c6d20dea0b8c802d7ef   \n",
       "2  47770eb9100c2d0c44946d9cf07ec65d  41ce2a54c0b03bf3443c3d931a367089   \n",
       "\n",
       "  order_status order_purchase_timestamp    order_approved_at  \\\n",
       "0    delivered      2017-10-02 10:56:33  2017-10-02 11:07:15   \n",
       "1    delivered      2018-07-24 20:41:37  2018-07-26 03:24:27   \n",
       "2    delivered      2018-08-08 08:38:49  2018-08-08 08:55:23   \n",
       "\n",
       "  order_delivered_carrier_date order_delivered_customer_date  \\\n",
       "0          2017-10-04 19:55:00           2017-10-10 21:25:13   \n",
       "1          2018-07-26 14:31:00           2018-08-07 15:27:45   \n",
       "2          2018-08-08 13:50:00           2018-08-17 18:06:29   \n",
       "\n",
       "  order_estimated_delivery_date  \n",
       "0           2017-10-18 00:00:00  \n",
       "1           2018-08-13 00:00:00  \n",
       "2           2018-09-04 00:00:00  "
      ]
     },
     "execution_count": 647,
     "metadata": {},
     "output_type": "execute_result"
    }
   ],
   "source": [
    "# isoler le contenu du fichier\n",
    "fichier = data_brut[\"olist_orders_dataset.csv\"]\n",
    "\n",
    "# Afficher les 3 premières lignes du fichier\n",
    "fichier.head(3)"
   ]
  },
  {
   "cell_type": "markdown",
   "metadata": {},
   "source": [
    "Informations sur les donnees de base :\n",
    "- **order_id** : identifiant des commandes\n",
    "- **customer_id** : identifiant des clients\n",
    "- **order_status** : statut de la commande\n",
    "- **order_purchase_timestamp** : date d'achat de la commande\n",
    "- **order_approved_at** : date d'approbation du paiement de la commande\n",
    "- **order_delivered_carrier_date** : date de prise en charge de la commande par le transporteur\n",
    "- **order_delivered_customer_date** : date de livraison de la commande au client\n",
    "- **order_estimated_delivery_date** : date estimee de livraison de la commande"
   ]
  },
  {
   "cell_type": "markdown",
   "metadata": {},
   "source": [
    "### <span style='background:green'>b/ Structure</span>"
   ]
  },
  {
   "cell_type": "code",
   "execution_count": 648,
   "metadata": {},
   "outputs": [
    {
     "name": "stdout",
     "output_type": "stream",
     "text": [
      "<class 'pandas.core.frame.DataFrame'>\n",
      "RangeIndex: 99441 entries, 0 to 99440\n",
      "Data columns (total 8 columns):\n",
      " #   Column                         Non-Null Count  Dtype \n",
      "---  ------                         --------------  ----- \n",
      " 0   order_id                       99441 non-null  object\n",
      " 1   customer_id                    99441 non-null  object\n",
      " 2   order_status                   99441 non-null  object\n",
      " 3   order_purchase_timestamp       99441 non-null  object\n",
      " 4   order_approved_at              99281 non-null  object\n",
      " 5   order_delivered_carrier_date   97658 non-null  object\n",
      " 6   order_delivered_customer_date  96476 non-null  object\n",
      " 7   order_estimated_delivery_date  99441 non-null  object\n",
      "dtypes: object(8)\n",
      "memory usage: 6.1+ MB\n"
     ]
    }
   ],
   "source": [
    "fichier.info()"
   ]
  },
  {
   "cell_type": "markdown",
   "metadata": {},
   "source": [
    "Ce fichier contient 99_441 lignes et 8 colonnes."
   ]
  },
  {
   "cell_type": "markdown",
   "metadata": {},
   "source": [
    "### <span style='background:green'>c/ Valeurs manquantes</span>"
   ]
  },
  {
   "cell_type": "code",
   "execution_count": 649,
   "metadata": {},
   "outputs": [
    {
     "data": {
      "text/plain": [
       "order_id                            0\n",
       "customer_id                         0\n",
       "order_status                        0\n",
       "order_purchase_timestamp            0\n",
       "order_approved_at                 160\n",
       "order_delivered_carrier_date     1783\n",
       "order_delivered_customer_date    2965\n",
       "order_estimated_delivery_date       0\n",
       "dtype: int64"
      ]
     },
     "execution_count": 649,
     "metadata": {},
     "output_type": "execute_result"
    }
   ],
   "source": [
    "fichier.isna().sum()"
   ]
  },
  {
   "cell_type": "markdown",
   "metadata": {},
   "source": [
    "Il y a 160 valeurs manquantes dans la colonne \"**order_approved_at**\".<br>\n",
    "Il y a 1_783 valeurs manquantes dans la colonne \"**order_delivered_carrier_date**\".<br>\n",
    "Il y a 2_965 valeurs manquantes dans la colonne \"**order_delivered_customer_date**\"."
   ]
  },
  {
   "cell_type": "markdown",
   "metadata": {},
   "source": [
    "### <span style='background:green'>d/ Doublons</span>"
   ]
  },
  {
   "cell_type": "code",
   "execution_count": 650,
   "metadata": {},
   "outputs": [
    {
     "data": {
      "text/plain": [
       "0"
      ]
     },
     "execution_count": 650,
     "metadata": {},
     "output_type": "execute_result"
    }
   ],
   "source": [
    "fichier.duplicated().sum()"
   ]
  },
  {
   "cell_type": "markdown",
   "metadata": {},
   "source": [
    "Il n'y a pas de doublons."
   ]
  },
  {
   "cell_type": "markdown",
   "metadata": {},
   "source": [
    "### <span style='background:green'>e/ Inspection des donnees</span>\n",
    "\n",
    "Resume des features **qualitatives** : "
   ]
  },
  {
   "cell_type": "code",
   "execution_count": 651,
   "metadata": {},
   "outputs": [
    {
     "data": {
      "text/html": [
       "<div>\n",
       "<style scoped>\n",
       "    .dataframe tbody tr th:only-of-type {\n",
       "        vertical-align: middle;\n",
       "    }\n",
       "\n",
       "    .dataframe tbody tr th {\n",
       "        vertical-align: top;\n",
       "    }\n",
       "\n",
       "    .dataframe thead th {\n",
       "        text-align: right;\n",
       "    }\n",
       "</style>\n",
       "<table border=\"1\" class=\"dataframe\">\n",
       "  <thead>\n",
       "    <tr style=\"text-align: right;\">\n",
       "      <th></th>\n",
       "      <th>order_id</th>\n",
       "      <th>customer_id</th>\n",
       "      <th>order_status</th>\n",
       "      <th>order_purchase_timestamp</th>\n",
       "      <th>order_approved_at</th>\n",
       "      <th>order_delivered_carrier_date</th>\n",
       "      <th>order_delivered_customer_date</th>\n",
       "      <th>order_estimated_delivery_date</th>\n",
       "    </tr>\n",
       "  </thead>\n",
       "  <tbody>\n",
       "    <tr>\n",
       "      <th>count</th>\n",
       "      <td>99441</td>\n",
       "      <td>99441</td>\n",
       "      <td>99441</td>\n",
       "      <td>99441</td>\n",
       "      <td>99281</td>\n",
       "      <td>97658</td>\n",
       "      <td>96476</td>\n",
       "      <td>99441</td>\n",
       "    </tr>\n",
       "    <tr>\n",
       "      <th>unique</th>\n",
       "      <td>99441</td>\n",
       "      <td>99441</td>\n",
       "      <td>8</td>\n",
       "      <td>98875</td>\n",
       "      <td>90733</td>\n",
       "      <td>81018</td>\n",
       "      <td>95664</td>\n",
       "      <td>459</td>\n",
       "    </tr>\n",
       "    <tr>\n",
       "      <th>top</th>\n",
       "      <td>e481f51cbdc54678b7cc49136f2d6af7</td>\n",
       "      <td>9ef432eb6251297304e76186b10a928d</td>\n",
       "      <td>delivered</td>\n",
       "      <td>2018-04-11 10:48:14</td>\n",
       "      <td>2018-02-27 04:31:10</td>\n",
       "      <td>2018-05-09 15:48:00</td>\n",
       "      <td>2018-05-08 23:38:46</td>\n",
       "      <td>2017-12-20 00:00:00</td>\n",
       "    </tr>\n",
       "    <tr>\n",
       "      <th>freq</th>\n",
       "      <td>1</td>\n",
       "      <td>1</td>\n",
       "      <td>96478</td>\n",
       "      <td>3</td>\n",
       "      <td>9</td>\n",
       "      <td>47</td>\n",
       "      <td>3</td>\n",
       "      <td>522</td>\n",
       "    </tr>\n",
       "  </tbody>\n",
       "</table>\n",
       "</div>"
      ],
      "text/plain": [
       "                                order_id                       customer_id  \\\n",
       "count                              99441                             99441   \n",
       "unique                             99441                             99441   \n",
       "top     e481f51cbdc54678b7cc49136f2d6af7  9ef432eb6251297304e76186b10a928d   \n",
       "freq                                   1                                 1   \n",
       "\n",
       "       order_status order_purchase_timestamp    order_approved_at  \\\n",
       "count         99441                    99441                99281   \n",
       "unique            8                    98875                90733   \n",
       "top       delivered      2018-04-11 10:48:14  2018-02-27 04:31:10   \n",
       "freq          96478                        3                    9   \n",
       "\n",
       "       order_delivered_carrier_date order_delivered_customer_date  \\\n",
       "count                         97658                         96476   \n",
       "unique                        81018                         95664   \n",
       "top             2018-05-09 15:48:00           2018-05-08 23:38:46   \n",
       "freq                             47                             3   \n",
       "\n",
       "       order_estimated_delivery_date  \n",
       "count                          99441  \n",
       "unique                           459  \n",
       "top              2017-12-20 00:00:00  \n",
       "freq                             522  "
      ]
     },
     "execution_count": 651,
     "metadata": {},
     "output_type": "execute_result"
    }
   ],
   "source": [
    "fichier.describe(exclude=[np.number])"
   ]
  },
  {
   "cell_type": "markdown",
   "metadata": {},
   "source": [
    "<div class=\"alert alert-block alert-info\">\n",
    "<b>Fichier donnees de base </b> : 'olist_orders_dataset.csv'\n",
    "\n",
    "Ce fichier contient des donnees de base pour plus de 99_000 commandes de\n",
    "99_000 clients.<br>\n",
    "Seulement 96_000 commandes ont ete livrees.<br>\n",
    "Il manque 160 dates d'approbation de paiement, 1_783 dates de prise en charge\n",
    "par le transporteur et 2_965 dates de livraison au client.\n",
    "\n",
    "Ce fichier est lie au fichier des **paiements** grâce à la clef\n",
    "\"**order_id**\".<br>\n",
    "Ce fichier est lie au fichier des **avis** grâce à la clef \"**order_id**\".<br>\n",
    "Ce fichier est lie au fichier des **articles** grâce à la clef\n",
    "\"**order_id**\".<br>\n",
    "Ce fichier est lie au fichier des **clients** grâce à la clef\n",
    "\"**customer_id**\".\n",
    "</div>"
   ]
  },
  {
   "cell_type": "markdown",
   "metadata": {},
   "source": [
    "## <span style='background:yellow; color:black'>7/ Les produits</span>\n",
    "\n",
    "### <span style='background:green'>a/ Aperçu tableau</span>"
   ]
  },
  {
   "cell_type": "code",
   "execution_count": 652,
   "metadata": {},
   "outputs": [
    {
     "data": {
      "text/html": [
       "<div>\n",
       "<style scoped>\n",
       "    .dataframe tbody tr th:only-of-type {\n",
       "        vertical-align: middle;\n",
       "    }\n",
       "\n",
       "    .dataframe tbody tr th {\n",
       "        vertical-align: top;\n",
       "    }\n",
       "\n",
       "    .dataframe thead th {\n",
       "        text-align: right;\n",
       "    }\n",
       "</style>\n",
       "<table border=\"1\" class=\"dataframe\">\n",
       "  <thead>\n",
       "    <tr style=\"text-align: right;\">\n",
       "      <th></th>\n",
       "      <th>product_id</th>\n",
       "      <th>product_category_name</th>\n",
       "      <th>product_name_lenght</th>\n",
       "      <th>product_description_lenght</th>\n",
       "      <th>product_photos_qty</th>\n",
       "      <th>product_weight_g</th>\n",
       "      <th>product_length_cm</th>\n",
       "      <th>product_height_cm</th>\n",
       "      <th>product_width_cm</th>\n",
       "    </tr>\n",
       "  </thead>\n",
       "  <tbody>\n",
       "    <tr>\n",
       "      <th>0</th>\n",
       "      <td>1e9e8ef04dbcff4541ed26657ea517e5</td>\n",
       "      <td>perfumaria</td>\n",
       "      <td>40.0</td>\n",
       "      <td>287.0</td>\n",
       "      <td>1.0</td>\n",
       "      <td>225.0</td>\n",
       "      <td>16.0</td>\n",
       "      <td>10.0</td>\n",
       "      <td>14.0</td>\n",
       "    </tr>\n",
       "    <tr>\n",
       "      <th>1</th>\n",
       "      <td>3aa071139cb16b67ca9e5dea641aaa2f</td>\n",
       "      <td>artes</td>\n",
       "      <td>44.0</td>\n",
       "      <td>276.0</td>\n",
       "      <td>1.0</td>\n",
       "      <td>1000.0</td>\n",
       "      <td>30.0</td>\n",
       "      <td>18.0</td>\n",
       "      <td>20.0</td>\n",
       "    </tr>\n",
       "    <tr>\n",
       "      <th>2</th>\n",
       "      <td>96bd76ec8810374ed1b65e291975717f</td>\n",
       "      <td>esporte_lazer</td>\n",
       "      <td>46.0</td>\n",
       "      <td>250.0</td>\n",
       "      <td>1.0</td>\n",
       "      <td>154.0</td>\n",
       "      <td>18.0</td>\n",
       "      <td>9.0</td>\n",
       "      <td>15.0</td>\n",
       "    </tr>\n",
       "  </tbody>\n",
       "</table>\n",
       "</div>"
      ],
      "text/plain": [
       "                         product_id product_category_name  \\\n",
       "0  1e9e8ef04dbcff4541ed26657ea517e5            perfumaria   \n",
       "1  3aa071139cb16b67ca9e5dea641aaa2f                 artes   \n",
       "2  96bd76ec8810374ed1b65e291975717f         esporte_lazer   \n",
       "\n",
       "   product_name_lenght  product_description_lenght  product_photos_qty  \\\n",
       "0                 40.0                       287.0                 1.0   \n",
       "1                 44.0                       276.0                 1.0   \n",
       "2                 46.0                       250.0                 1.0   \n",
       "\n",
       "   product_weight_g  product_length_cm  product_height_cm  product_width_cm  \n",
       "0             225.0               16.0               10.0              14.0  \n",
       "1            1000.0               30.0               18.0              20.0  \n",
       "2             154.0               18.0                9.0              15.0  "
      ]
     },
     "execution_count": 652,
     "metadata": {},
     "output_type": "execute_result"
    }
   ],
   "source": [
    "# isoler le contenu du fichier\n",
    "fichier = data_brut[\"olist_products_dataset.csv\"]\n",
    "\n",
    "# Afficher les 3 premières lignes du fichier\n",
    "fichier.head(3)"
   ]
  },
  {
   "cell_type": "markdown",
   "metadata": {},
   "source": [
    "Informations sur les produits :\n",
    "- **product_id** : identifiant des produits\n",
    "- **product_category_name** : categorie des produits\n",
    "- **product_name_lenght** : longueur du nom du produit\n",
    "- **product_description_lenght** : longueur de la description du produit\n",
    "- **product_photos_qty** : nombre de photos du produit\n",
    "- **product_weight_g** : poids du produit (en g)\n",
    "- **product_length_cm** : longueur du produit (en cm)\n",
    "- **product_height_cm** : hauteur du produit (en cm)\n",
    "- **product_width_cm** : largeur du produit (en cm)"
   ]
  },
  {
   "cell_type": "markdown",
   "metadata": {},
   "source": [
    "### <span style='background:green'>b/ Structure</span>"
   ]
  },
  {
   "cell_type": "code",
   "execution_count": 653,
   "metadata": {},
   "outputs": [
    {
     "name": "stdout",
     "output_type": "stream",
     "text": [
      "<class 'pandas.core.frame.DataFrame'>\n",
      "RangeIndex: 32951 entries, 0 to 32950\n",
      "Data columns (total 9 columns):\n",
      " #   Column                      Non-Null Count  Dtype  \n",
      "---  ------                      --------------  -----  \n",
      " 0   product_id                  32951 non-null  object \n",
      " 1   product_category_name       32341 non-null  object \n",
      " 2   product_name_lenght         32341 non-null  float64\n",
      " 3   product_description_lenght  32341 non-null  float64\n",
      " 4   product_photos_qty          32341 non-null  float64\n",
      " 5   product_weight_g            32949 non-null  float64\n",
      " 6   product_length_cm           32949 non-null  float64\n",
      " 7   product_height_cm           32949 non-null  float64\n",
      " 8   product_width_cm            32949 non-null  float64\n",
      "dtypes: float64(7), object(2)\n",
      "memory usage: 2.3+ MB\n"
     ]
    }
   ],
   "source": [
    "fichier.info()"
   ]
  },
  {
   "cell_type": "markdown",
   "metadata": {},
   "source": [
    "Ce fichier contient 32_951 lignes et 9 colonnes."
   ]
  },
  {
   "cell_type": "markdown",
   "metadata": {},
   "source": [
    "### <span style='background:green'>c/ Valeurs manquantes</span>"
   ]
  },
  {
   "cell_type": "code",
   "execution_count": 654,
   "metadata": {},
   "outputs": [
    {
     "data": {
      "text/plain": [
       "product_id                      0\n",
       "product_category_name         610\n",
       "product_name_lenght           610\n",
       "product_description_lenght    610\n",
       "product_photos_qty            610\n",
       "product_weight_g                2\n",
       "product_length_cm               2\n",
       "product_height_cm               2\n",
       "product_width_cm                2\n",
       "dtype: int64"
      ]
     },
     "execution_count": 654,
     "metadata": {},
     "output_type": "execute_result"
    }
   ],
   "source": [
    "fichier.isna().sum()"
   ]
  },
  {
   "cell_type": "markdown",
   "metadata": {},
   "source": [
    "Il y a 610 valeurs manquantes dans la colonne \"**product_category_name**\",\n",
    "\"**product_name_lenght**\", \"**product_description_lenght**\" et \"**product_photos_qty**\".<br>\n",
    "\n",
    "Il y a 2 valeurs manquantes dans la colonne \"**product_weight_g**\",\n",
    "\"**product_length_cm**\", \"**product_height_cm**\" et \"**product_width_cm**\"."
   ]
  },
  {
   "cell_type": "markdown",
   "metadata": {},
   "source": [
    "### <span style='background:green'>d/ Doublons</span>"
   ]
  },
  {
   "cell_type": "code",
   "execution_count": 655,
   "metadata": {},
   "outputs": [
    {
     "data": {
      "text/plain": [
       "0"
      ]
     },
     "execution_count": 655,
     "metadata": {},
     "output_type": "execute_result"
    }
   ],
   "source": [
    "fichier.duplicated().sum()"
   ]
  },
  {
   "cell_type": "markdown",
   "metadata": {},
   "source": [
    "Il n'y a pas de doublons."
   ]
  },
  {
   "cell_type": "markdown",
   "metadata": {},
   "source": [
    "### <span style='background:green'>e/ Inspection des donnees</span>\n",
    "\n",
    "Resume des features **quantitatives** :"
   ]
  },
  {
   "cell_type": "code",
   "execution_count": 656,
   "metadata": {},
   "outputs": [
    {
     "data": {
      "text/html": [
       "<div>\n",
       "<style scoped>\n",
       "    .dataframe tbody tr th:only-of-type {\n",
       "        vertical-align: middle;\n",
       "    }\n",
       "\n",
       "    .dataframe tbody tr th {\n",
       "        vertical-align: top;\n",
       "    }\n",
       "\n",
       "    .dataframe thead th {\n",
       "        text-align: right;\n",
       "    }\n",
       "</style>\n",
       "<table border=\"1\" class=\"dataframe\">\n",
       "  <thead>\n",
       "    <tr style=\"text-align: right;\">\n",
       "      <th></th>\n",
       "      <th>product_name_lenght</th>\n",
       "      <th>product_description_lenght</th>\n",
       "      <th>product_photos_qty</th>\n",
       "      <th>product_weight_g</th>\n",
       "      <th>product_length_cm</th>\n",
       "      <th>product_height_cm</th>\n",
       "      <th>product_width_cm</th>\n",
       "    </tr>\n",
       "  </thead>\n",
       "  <tbody>\n",
       "    <tr>\n",
       "      <th>count</th>\n",
       "      <td>32341.00</td>\n",
       "      <td>32341.00</td>\n",
       "      <td>32341.00</td>\n",
       "      <td>32949.00</td>\n",
       "      <td>32949.00</td>\n",
       "      <td>32949.00</td>\n",
       "      <td>32949.00</td>\n",
       "    </tr>\n",
       "    <tr>\n",
       "      <th>mean</th>\n",
       "      <td>48.48</td>\n",
       "      <td>771.50</td>\n",
       "      <td>2.19</td>\n",
       "      <td>2276.47</td>\n",
       "      <td>30.82</td>\n",
       "      <td>16.94</td>\n",
       "      <td>23.20</td>\n",
       "    </tr>\n",
       "    <tr>\n",
       "      <th>std</th>\n",
       "      <td>10.25</td>\n",
       "      <td>635.12</td>\n",
       "      <td>1.74</td>\n",
       "      <td>4282.04</td>\n",
       "      <td>16.91</td>\n",
       "      <td>13.64</td>\n",
       "      <td>12.08</td>\n",
       "    </tr>\n",
       "    <tr>\n",
       "      <th>min</th>\n",
       "      <td>5.00</td>\n",
       "      <td>4.00</td>\n",
       "      <td>1.00</td>\n",
       "      <td>0.00</td>\n",
       "      <td>7.00</td>\n",
       "      <td>2.00</td>\n",
       "      <td>6.00</td>\n",
       "    </tr>\n",
       "    <tr>\n",
       "      <th>25%</th>\n",
       "      <td>42.00</td>\n",
       "      <td>339.00</td>\n",
       "      <td>1.00</td>\n",
       "      <td>300.00</td>\n",
       "      <td>18.00</td>\n",
       "      <td>8.00</td>\n",
       "      <td>15.00</td>\n",
       "    </tr>\n",
       "    <tr>\n",
       "      <th>50%</th>\n",
       "      <td>51.00</td>\n",
       "      <td>595.00</td>\n",
       "      <td>1.00</td>\n",
       "      <td>700.00</td>\n",
       "      <td>25.00</td>\n",
       "      <td>13.00</td>\n",
       "      <td>20.00</td>\n",
       "    </tr>\n",
       "    <tr>\n",
       "      <th>75%</th>\n",
       "      <td>57.00</td>\n",
       "      <td>972.00</td>\n",
       "      <td>3.00</td>\n",
       "      <td>1900.00</td>\n",
       "      <td>38.00</td>\n",
       "      <td>21.00</td>\n",
       "      <td>30.00</td>\n",
       "    </tr>\n",
       "    <tr>\n",
       "      <th>max</th>\n",
       "      <td>76.00</td>\n",
       "      <td>3992.00</td>\n",
       "      <td>20.00</td>\n",
       "      <td>40425.00</td>\n",
       "      <td>105.00</td>\n",
       "      <td>105.00</td>\n",
       "      <td>118.00</td>\n",
       "    </tr>\n",
       "  </tbody>\n",
       "</table>\n",
       "</div>"
      ],
      "text/plain": [
       "       product_name_lenght  product_description_lenght  product_photos_qty  \\\n",
       "count             32341.00                    32341.00            32341.00   \n",
       "mean                 48.48                      771.50                2.19   \n",
       "std                  10.25                      635.12                1.74   \n",
       "min                   5.00                        4.00                1.00   \n",
       "25%                  42.00                      339.00                1.00   \n",
       "50%                  51.00                      595.00                1.00   \n",
       "75%                  57.00                      972.00                3.00   \n",
       "max                  76.00                     3992.00               20.00   \n",
       "\n",
       "       product_weight_g  product_length_cm  product_height_cm  \\\n",
       "count          32949.00           32949.00           32949.00   \n",
       "mean            2276.47              30.82              16.94   \n",
       "std             4282.04              16.91              13.64   \n",
       "min                0.00               7.00               2.00   \n",
       "25%              300.00              18.00               8.00   \n",
       "50%              700.00              25.00              13.00   \n",
       "75%             1900.00              38.00              21.00   \n",
       "max            40425.00             105.00             105.00   \n",
       "\n",
       "       product_width_cm  \n",
       "count          32949.00  \n",
       "mean              23.20  \n",
       "std               12.08  \n",
       "min                6.00  \n",
       "25%               15.00  \n",
       "50%               20.00  \n",
       "75%               30.00  \n",
       "max              118.00  "
      ]
     },
     "execution_count": 656,
     "metadata": {},
     "output_type": "execute_result"
    }
   ],
   "source": [
    "fichier.describe().round(2)"
   ]
  },
  {
   "cell_type": "markdown",
   "metadata": {},
   "source": [
    "Resume des features **qualitatives** : "
   ]
  },
  {
   "cell_type": "code",
   "execution_count": 657,
   "metadata": {},
   "outputs": [
    {
     "data": {
      "text/html": [
       "<div>\n",
       "<style scoped>\n",
       "    .dataframe tbody tr th:only-of-type {\n",
       "        vertical-align: middle;\n",
       "    }\n",
       "\n",
       "    .dataframe tbody tr th {\n",
       "        vertical-align: top;\n",
       "    }\n",
       "\n",
       "    .dataframe thead th {\n",
       "        text-align: right;\n",
       "    }\n",
       "</style>\n",
       "<table border=\"1\" class=\"dataframe\">\n",
       "  <thead>\n",
       "    <tr style=\"text-align: right;\">\n",
       "      <th></th>\n",
       "      <th>product_id</th>\n",
       "      <th>product_category_name</th>\n",
       "    </tr>\n",
       "  </thead>\n",
       "  <tbody>\n",
       "    <tr>\n",
       "      <th>count</th>\n",
       "      <td>32951</td>\n",
       "      <td>32341</td>\n",
       "    </tr>\n",
       "    <tr>\n",
       "      <th>unique</th>\n",
       "      <td>32951</td>\n",
       "      <td>73</td>\n",
       "    </tr>\n",
       "    <tr>\n",
       "      <th>top</th>\n",
       "      <td>1e9e8ef04dbcff4541ed26657ea517e5</td>\n",
       "      <td>cama_mesa_banho</td>\n",
       "    </tr>\n",
       "    <tr>\n",
       "      <th>freq</th>\n",
       "      <td>1</td>\n",
       "      <td>3029</td>\n",
       "    </tr>\n",
       "  </tbody>\n",
       "</table>\n",
       "</div>"
      ],
      "text/plain": [
       "                              product_id product_category_name\n",
       "count                              32951                 32341\n",
       "unique                             32951                    73\n",
       "top     1e9e8ef04dbcff4541ed26657ea517e5       cama_mesa_banho\n",
       "freq                                   1                  3029"
      ]
     },
     "execution_count": 657,
     "metadata": {},
     "output_type": "execute_result"
    }
   ],
   "source": [
    "fichier.describe(exclude=[np.number])"
   ]
  },
  {
   "cell_type": "markdown",
   "metadata": {},
   "source": [
    "<div class=\"alert alert-block alert-info\">\n",
    "<b>Fichier produits </b> : 'olist_products_dataset.csv'\n",
    "\n",
    "Ce fichier contient plus de 32_000 produits dans 73 categories differentes.<br>\n",
    "Il y a 610 produits sans categorie, nom, description ou photo.<br>\n",
    "Il y a 2 produits sans dimension ni poids.<br>\n",
    "\n",
    "Le produit moyen pèse 2,276 kg pour une dimension de 31 x 17 x23 cm. Il est\n",
    "decrit avec un titre de 48 caractères et une description de 771 caractères\n",
    "avec 2 photos.<br>\n",
    "\n",
    "\n",
    "Ce fichier est lie au fichier des **articles** grâce à la clef \"**product_id**\".\n",
    "</div>"
   ]
  },
  {
   "cell_type": "markdown",
   "metadata": {},
   "source": [
    "## <span style='background:yellow; color:black'>8/ Les vendeurs</span>\n",
    "\n",
    "### <span style='background:green'>a/ Aperçu tableau</span>"
   ]
  },
  {
   "cell_type": "code",
   "execution_count": 658,
   "metadata": {},
   "outputs": [
    {
     "data": {
      "text/html": [
       "<div>\n",
       "<style scoped>\n",
       "    .dataframe tbody tr th:only-of-type {\n",
       "        vertical-align: middle;\n",
       "    }\n",
       "\n",
       "    .dataframe tbody tr th {\n",
       "        vertical-align: top;\n",
       "    }\n",
       "\n",
       "    .dataframe thead th {\n",
       "        text-align: right;\n",
       "    }\n",
       "</style>\n",
       "<table border=\"1\" class=\"dataframe\">\n",
       "  <thead>\n",
       "    <tr style=\"text-align: right;\">\n",
       "      <th></th>\n",
       "      <th>seller_id</th>\n",
       "      <th>seller_zip_code_prefix</th>\n",
       "      <th>seller_city</th>\n",
       "      <th>seller_state</th>\n",
       "    </tr>\n",
       "  </thead>\n",
       "  <tbody>\n",
       "    <tr>\n",
       "      <th>0</th>\n",
       "      <td>3442f8959a84dea7ee197c632cb2df15</td>\n",
       "      <td>13023</td>\n",
       "      <td>campinas</td>\n",
       "      <td>SP</td>\n",
       "    </tr>\n",
       "    <tr>\n",
       "      <th>1</th>\n",
       "      <td>d1b65fc7debc3361ea86b5f14c68d2e2</td>\n",
       "      <td>13844</td>\n",
       "      <td>mogi guacu</td>\n",
       "      <td>SP</td>\n",
       "    </tr>\n",
       "    <tr>\n",
       "      <th>2</th>\n",
       "      <td>ce3ad9de960102d0677a81f5d0bb7b2d</td>\n",
       "      <td>20031</td>\n",
       "      <td>rio de janeiro</td>\n",
       "      <td>RJ</td>\n",
       "    </tr>\n",
       "  </tbody>\n",
       "</table>\n",
       "</div>"
      ],
      "text/plain": [
       "                          seller_id  seller_zip_code_prefix     seller_city  \\\n",
       "0  3442f8959a84dea7ee197c632cb2df15                   13023        campinas   \n",
       "1  d1b65fc7debc3361ea86b5f14c68d2e2                   13844      mogi guacu   \n",
       "2  ce3ad9de960102d0677a81f5d0bb7b2d                   20031  rio de janeiro   \n",
       "\n",
       "  seller_state  \n",
       "0           SP  \n",
       "1           SP  \n",
       "2           RJ  "
      ]
     },
     "execution_count": 658,
     "metadata": {},
     "output_type": "execute_result"
    }
   ],
   "source": [
    "# isoler le contenu du fichier\n",
    "fichier = data_brut[\"olist_sellers_dataset.csv\"]\n",
    "\n",
    "# Afficher les 3 premières lignes du fichier\n",
    "fichier.head(3)"
   ]
  },
  {
   "cell_type": "markdown",
   "metadata": {},
   "source": [
    "Informations sur les vendeurs :\n",
    "- **seller_id** : identifiant des vendeurs\n",
    "- **seller_zip_code_prefix** : code postal du vendeur (5 premiers chiffres uniquement)\n",
    "- **seller_city** : ville de domiciliation du vendeur\n",
    "- **seller_state** : etat domiciliation du vendeur"
   ]
  },
  {
   "cell_type": "markdown",
   "metadata": {},
   "source": [
    "### <span style='background:green'>b/ Structure</span>"
   ]
  },
  {
   "cell_type": "code",
   "execution_count": 659,
   "metadata": {},
   "outputs": [
    {
     "name": "stdout",
     "output_type": "stream",
     "text": [
      "<class 'pandas.core.frame.DataFrame'>\n",
      "RangeIndex: 3095 entries, 0 to 3094\n",
      "Data columns (total 4 columns):\n",
      " #   Column                  Non-Null Count  Dtype \n",
      "---  ------                  --------------  ----- \n",
      " 0   seller_id               3095 non-null   object\n",
      " 1   seller_zip_code_prefix  3095 non-null   int64 \n",
      " 2   seller_city             3095 non-null   object\n",
      " 3   seller_state            3095 non-null   object\n",
      "dtypes: int64(1), object(3)\n",
      "memory usage: 96.8+ KB\n"
     ]
    }
   ],
   "source": [
    "fichier.info()"
   ]
  },
  {
   "cell_type": "markdown",
   "metadata": {},
   "source": [
    "Ce fichier contient 3_095 lignes et 4 colonnes."
   ]
  },
  {
   "cell_type": "markdown",
   "metadata": {},
   "source": [
    "### <span style='background:green'>c/ Valeurs manquantes</span>"
   ]
  },
  {
   "cell_type": "code",
   "execution_count": 660,
   "metadata": {},
   "outputs": [
    {
     "data": {
      "text/plain": [
       "seller_id                 0\n",
       "seller_zip_code_prefix    0\n",
       "seller_city               0\n",
       "seller_state              0\n",
       "dtype: int64"
      ]
     },
     "execution_count": 660,
     "metadata": {},
     "output_type": "execute_result"
    }
   ],
   "source": [
    "fichier.isna().sum()"
   ]
  },
  {
   "cell_type": "markdown",
   "metadata": {},
   "source": [
    "Il n'y a pas de valeurs manquantes."
   ]
  },
  {
   "cell_type": "markdown",
   "metadata": {},
   "source": [
    "### <span style='background:green'>d/ Doublons</span>"
   ]
  },
  {
   "cell_type": "code",
   "execution_count": 661,
   "metadata": {},
   "outputs": [
    {
     "data": {
      "text/plain": [
       "0"
      ]
     },
     "execution_count": 661,
     "metadata": {},
     "output_type": "execute_result"
    }
   ],
   "source": [
    "fichier.duplicated().sum()"
   ]
  },
  {
   "cell_type": "markdown",
   "metadata": {},
   "source": [
    "Il n'y a pas de doublons."
   ]
  },
  {
   "cell_type": "markdown",
   "metadata": {},
   "source": [
    "### <span style='background:green'>e/ Inspection des donnees</span>\n",
    "\n",
    "Resume des features **quantitatives** :"
   ]
  },
  {
   "cell_type": "code",
   "execution_count": 662,
   "metadata": {},
   "outputs": [
    {
     "data": {
      "text/html": [
       "<div>\n",
       "<style scoped>\n",
       "    .dataframe tbody tr th:only-of-type {\n",
       "        vertical-align: middle;\n",
       "    }\n",
       "\n",
       "    .dataframe tbody tr th {\n",
       "        vertical-align: top;\n",
       "    }\n",
       "\n",
       "    .dataframe thead th {\n",
       "        text-align: right;\n",
       "    }\n",
       "</style>\n",
       "<table border=\"1\" class=\"dataframe\">\n",
       "  <thead>\n",
       "    <tr style=\"text-align: right;\">\n",
       "      <th></th>\n",
       "      <th>seller_zip_code_prefix</th>\n",
       "    </tr>\n",
       "  </thead>\n",
       "  <tbody>\n",
       "    <tr>\n",
       "      <th>count</th>\n",
       "      <td>3095.00</td>\n",
       "    </tr>\n",
       "    <tr>\n",
       "      <th>mean</th>\n",
       "      <td>32291.06</td>\n",
       "    </tr>\n",
       "    <tr>\n",
       "      <th>std</th>\n",
       "      <td>32713.45</td>\n",
       "    </tr>\n",
       "    <tr>\n",
       "      <th>min</th>\n",
       "      <td>1001.00</td>\n",
       "    </tr>\n",
       "    <tr>\n",
       "      <th>25%</th>\n",
       "      <td>7093.50</td>\n",
       "    </tr>\n",
       "    <tr>\n",
       "      <th>50%</th>\n",
       "      <td>14940.00</td>\n",
       "    </tr>\n",
       "    <tr>\n",
       "      <th>75%</th>\n",
       "      <td>64552.50</td>\n",
       "    </tr>\n",
       "    <tr>\n",
       "      <th>max</th>\n",
       "      <td>99730.00</td>\n",
       "    </tr>\n",
       "  </tbody>\n",
       "</table>\n",
       "</div>"
      ],
      "text/plain": [
       "       seller_zip_code_prefix\n",
       "count                 3095.00\n",
       "mean                 32291.06\n",
       "std                  32713.45\n",
       "min                   1001.00\n",
       "25%                   7093.50\n",
       "50%                  14940.00\n",
       "75%                  64552.50\n",
       "max                  99730.00"
      ]
     },
     "execution_count": 662,
     "metadata": {},
     "output_type": "execute_result"
    }
   ],
   "source": [
    "fichier.describe().round(2)"
   ]
  },
  {
   "cell_type": "markdown",
   "metadata": {},
   "source": [
    "Resume des features **qualitatives** : "
   ]
  },
  {
   "cell_type": "code",
   "execution_count": 663,
   "metadata": {},
   "outputs": [
    {
     "data": {
      "text/html": [
       "<div>\n",
       "<style scoped>\n",
       "    .dataframe tbody tr th:only-of-type {\n",
       "        vertical-align: middle;\n",
       "    }\n",
       "\n",
       "    .dataframe tbody tr th {\n",
       "        vertical-align: top;\n",
       "    }\n",
       "\n",
       "    .dataframe thead th {\n",
       "        text-align: right;\n",
       "    }\n",
       "</style>\n",
       "<table border=\"1\" class=\"dataframe\">\n",
       "  <thead>\n",
       "    <tr style=\"text-align: right;\">\n",
       "      <th></th>\n",
       "      <th>seller_id</th>\n",
       "      <th>seller_city</th>\n",
       "      <th>seller_state</th>\n",
       "    </tr>\n",
       "  </thead>\n",
       "  <tbody>\n",
       "    <tr>\n",
       "      <th>count</th>\n",
       "      <td>3095</td>\n",
       "      <td>3095</td>\n",
       "      <td>3095</td>\n",
       "    </tr>\n",
       "    <tr>\n",
       "      <th>unique</th>\n",
       "      <td>3095</td>\n",
       "      <td>611</td>\n",
       "      <td>23</td>\n",
       "    </tr>\n",
       "    <tr>\n",
       "      <th>top</th>\n",
       "      <td>3442f8959a84dea7ee197c632cb2df15</td>\n",
       "      <td>sao paulo</td>\n",
       "      <td>SP</td>\n",
       "    </tr>\n",
       "    <tr>\n",
       "      <th>freq</th>\n",
       "      <td>1</td>\n",
       "      <td>694</td>\n",
       "      <td>1849</td>\n",
       "    </tr>\n",
       "  </tbody>\n",
       "</table>\n",
       "</div>"
      ],
      "text/plain": [
       "                               seller_id seller_city seller_state\n",
       "count                               3095        3095         3095\n",
       "unique                              3095         611           23\n",
       "top     3442f8959a84dea7ee197c632cb2df15   sao paulo           SP\n",
       "freq                                   1         694         1849"
      ]
     },
     "execution_count": 663,
     "metadata": {},
     "output_type": "execute_result"
    }
   ],
   "source": [
    "fichier.describe(exclude=[np.number])"
   ]
  },
  {
   "cell_type": "markdown",
   "metadata": {},
   "source": [
    "<div class=\"alert alert-block alert-info\">\n",
    "<b>Fichier vendeur </b> : 'olist_sellers_dataset.csv'\n",
    "\n",
    "Ce fichier contient plus de 3_000 vendeurs dans 611 villes de 23 etats.<br>\n",
    "\n",
    "Ce fichier est lie au fichier des **articles** grâce à la clef\n",
    "\"**seller_id**\".<br>\n",
    "Ce fichier est lie au fichier des **geolocalisations** grâce à la clef\n",
    "\"**seller_zip_code_prefix**\".\n",
    "</div>"
   ]
  },
  {
   "cell_type": "markdown",
   "metadata": {},
   "source": [
    "## <span style='background:yellow; color:black'>9/ Les traductions</span>\n",
    "\n",
    "### <span style='background:green'>a/ Aperçu tableau</span>"
   ]
  },
  {
   "cell_type": "code",
   "execution_count": 664,
   "metadata": {},
   "outputs": [
    {
     "data": {
      "text/html": [
       "<div>\n",
       "<style scoped>\n",
       "    .dataframe tbody tr th:only-of-type {\n",
       "        vertical-align: middle;\n",
       "    }\n",
       "\n",
       "    .dataframe tbody tr th {\n",
       "        vertical-align: top;\n",
       "    }\n",
       "\n",
       "    .dataframe thead th {\n",
       "        text-align: right;\n",
       "    }\n",
       "</style>\n",
       "<table border=\"1\" class=\"dataframe\">\n",
       "  <thead>\n",
       "    <tr style=\"text-align: right;\">\n",
       "      <th></th>\n",
       "      <th>product_category_name</th>\n",
       "      <th>product_category_name_english</th>\n",
       "    </tr>\n",
       "  </thead>\n",
       "  <tbody>\n",
       "    <tr>\n",
       "      <th>0</th>\n",
       "      <td>beleza_saude</td>\n",
       "      <td>health_beauty</td>\n",
       "    </tr>\n",
       "    <tr>\n",
       "      <th>1</th>\n",
       "      <td>informatica_acessorios</td>\n",
       "      <td>computers_accessories</td>\n",
       "    </tr>\n",
       "    <tr>\n",
       "      <th>2</th>\n",
       "      <td>automotivo</td>\n",
       "      <td>auto</td>\n",
       "    </tr>\n",
       "  </tbody>\n",
       "</table>\n",
       "</div>"
      ],
      "text/plain": [
       "    product_category_name product_category_name_english\n",
       "0            beleza_saude                 health_beauty\n",
       "1  informatica_acessorios         computers_accessories\n",
       "2              automotivo                          auto"
      ]
     },
     "execution_count": 664,
     "metadata": {},
     "output_type": "execute_result"
    }
   ],
   "source": [
    "# isoler le contenu du fichier\n",
    "fichier = data_brut[\"product_category_name_translation.csv\"]\n",
    "\n",
    "# Afficher les 3 premières lignes du fichier\n",
    "fichier.head(3)"
   ]
  },
  {
   "cell_type": "markdown",
   "metadata": {},
   "source": [
    "Informations sur les traductions :\n",
    "- **product_category_name** : categorie des produits en portugais\n",
    "- **product_category_name_english** : categorie des produits en anglais"
   ]
  },
  {
   "cell_type": "markdown",
   "metadata": {},
   "source": [
    "### <span style='background:green'>b/ Structure</span>"
   ]
  },
  {
   "cell_type": "code",
   "execution_count": 665,
   "metadata": {},
   "outputs": [
    {
     "name": "stdout",
     "output_type": "stream",
     "text": [
      "<class 'pandas.core.frame.DataFrame'>\n",
      "RangeIndex: 71 entries, 0 to 70\n",
      "Data columns (total 2 columns):\n",
      " #   Column                         Non-Null Count  Dtype \n",
      "---  ------                         --------------  ----- \n",
      " 0   product_category_name          71 non-null     object\n",
      " 1   product_category_name_english  71 non-null     object\n",
      "dtypes: object(2)\n",
      "memory usage: 1.2+ KB\n"
     ]
    }
   ],
   "source": [
    "fichier.info()"
   ]
  },
  {
   "cell_type": "markdown",
   "metadata": {},
   "source": [
    "Ce fichier contient 71 lignes et 2 colonnes."
   ]
  },
  {
   "cell_type": "markdown",
   "metadata": {},
   "source": [
    "### <span style='background:green'>c/ Valeurs manquantes</span>"
   ]
  },
  {
   "cell_type": "code",
   "execution_count": 666,
   "metadata": {},
   "outputs": [
    {
     "data": {
      "text/plain": [
       "product_category_name            0\n",
       "product_category_name_english    0\n",
       "dtype: int64"
      ]
     },
     "execution_count": 666,
     "metadata": {},
     "output_type": "execute_result"
    }
   ],
   "source": [
    "fichier.isna().sum()"
   ]
  },
  {
   "cell_type": "markdown",
   "metadata": {},
   "source": [
    "Il n'y a pas de valeurs manquantes."
   ]
  },
  {
   "cell_type": "markdown",
   "metadata": {},
   "source": [
    "### <span style='background:green'>d/ Doublons</span>"
   ]
  },
  {
   "cell_type": "code",
   "execution_count": 667,
   "metadata": {},
   "outputs": [
    {
     "data": {
      "text/plain": [
       "0"
      ]
     },
     "execution_count": 667,
     "metadata": {},
     "output_type": "execute_result"
    }
   ],
   "source": [
    "fichier.duplicated().sum()"
   ]
  },
  {
   "cell_type": "markdown",
   "metadata": {},
   "source": [
    "Il n'y a pas de doublons."
   ]
  },
  {
   "cell_type": "markdown",
   "metadata": {},
   "source": [
    "### <span style='background:green'>e/ Inspection des donnees</span>\n",
    "\n",
    "Resume des features **qualitatives** :"
   ]
  },
  {
   "cell_type": "code",
   "execution_count": 668,
   "metadata": {},
   "outputs": [
    {
     "data": {
      "text/html": [
       "<div>\n",
       "<style scoped>\n",
       "    .dataframe tbody tr th:only-of-type {\n",
       "        vertical-align: middle;\n",
       "    }\n",
       "\n",
       "    .dataframe tbody tr th {\n",
       "        vertical-align: top;\n",
       "    }\n",
       "\n",
       "    .dataframe thead th {\n",
       "        text-align: right;\n",
       "    }\n",
       "</style>\n",
       "<table border=\"1\" class=\"dataframe\">\n",
       "  <thead>\n",
       "    <tr style=\"text-align: right;\">\n",
       "      <th></th>\n",
       "      <th>product_category_name</th>\n",
       "      <th>product_category_name_english</th>\n",
       "    </tr>\n",
       "  </thead>\n",
       "  <tbody>\n",
       "    <tr>\n",
       "      <th>count</th>\n",
       "      <td>71</td>\n",
       "      <td>71</td>\n",
       "    </tr>\n",
       "    <tr>\n",
       "      <th>unique</th>\n",
       "      <td>71</td>\n",
       "      <td>71</td>\n",
       "    </tr>\n",
       "    <tr>\n",
       "      <th>top</th>\n",
       "      <td>beleza_saude</td>\n",
       "      <td>health_beauty</td>\n",
       "    </tr>\n",
       "    <tr>\n",
       "      <th>freq</th>\n",
       "      <td>1</td>\n",
       "      <td>1</td>\n",
       "    </tr>\n",
       "  </tbody>\n",
       "</table>\n",
       "</div>"
      ],
      "text/plain": [
       "       product_category_name product_category_name_english\n",
       "count                     71                            71\n",
       "unique                    71                            71\n",
       "top             beleza_saude                 health_beauty\n",
       "freq                       1                             1"
      ]
     },
     "execution_count": 668,
     "metadata": {},
     "output_type": "execute_result"
    }
   ],
   "source": [
    "fichier.describe(exclude=[np.number])"
   ]
  },
  {
   "cell_type": "markdown",
   "metadata": {},
   "source": [
    "<div class=\"alert alert-block alert-info\">\n",
    "<b>Fichier traduction </b> : 'product_category_name_translation.csv'\n",
    "\n",
    "Ce fichier contient 71 traductions de categories en portugais et en\n",
    "anglais.<br>\n",
    "</div>"
   ]
  },
  {
   "cell_type": "markdown",
   "metadata": {},
   "source": [
    "# <span style='background:blue'>Etape 2 : Nettoyage des donnees</span>\n",
    "\n",
    "## <span style='background:yellow; color:black'>1/ RGPD</span>\n",
    "\n",
    "Avant toute utilisation des donnees personnelles des clients, nous devons nous\n",
    "assurer que nous respectons l'equivalent du RGPD au bresil : LGPD (_Lei Geral\n",
    "de Proteção de Dados_).\n",
    "\n",
    "**Cette etape n'est pas realisee dans ce notebook puisque c'est un notebook**\n",
    "**non cleane qui n'est pas à destination du client.** \n",
    "Mais ce travail sera à realiser lors du notebook à fournir au client.\n",
    "\n",
    "## <span style='background:yellow; color:black'>2/ Selection des fichiers et features pertinentes</span>\n",
    "\n",
    "Consignes du client Olist :<br>\n",
    "_\"La segmentation proposee des differents types de clients doit pouvoir au\n",
    "minimum pouvoir differencier les bons et moins bons clients en termes de\n",
    "commandes et de satisfaction. Il faut se concentrer sur les 3% des clients\n",
    "qui ont realises plusieurs commandes mais la segmentation doit être fait sur\n",
    "l'ensemble des clients.\"_\n",
    "\n",
    "Nous allons selectionner les fichiers du dataset pertinents pour notre\n",
    "analyse, à savoir les fichiers concernant : \n",
    "\n",
    "- Les clients\n",
    "- Les articles\n",
    "- Les paiements\n",
    "- Les avis\n",
    "- Les donnees de base"
   ]
  },
  {
   "cell_type": "code",
   "execution_count": 669,
   "metadata": {},
   "outputs": [],
   "source": [
    "# Importation des fichiers retenus\n",
    "df_clients = data_brut[\"olist_customers_dataset.csv\"]\n",
    "df_articles = data_brut[\"olist_order_items_dataset.csv\"]\n",
    "df_paiements = data_brut[\"olist_order_payments_dataset.csv\"]\n",
    "df_avis = data_brut[\"olist_order_reviews_dataset.csv\"]\n",
    "df_base = data_brut[\"olist_orders_dataset.csv\"]"
   ]
  },
  {
   "cell_type": "markdown",
   "metadata": {},
   "source": [
    "## <span style='background:yellow; color:black'>3/ Nettoyage fichier \"client\"</span>\n",
    "\n",
    "### <span style='background:black; color:white'>a/ Selection des features à conserver</span>\n",
    "\n",
    "- **customer_id** : identifiant des commandes\n",
    "- **customer_unique_id** : identifiant des clients"
   ]
  },
  {
   "cell_type": "code",
   "execution_count": 670,
   "metadata": {},
   "outputs": [],
   "source": [
    "# Feature à conserver\n",
    "feat_a_garder = [\"customer_id\", \"customer_unique_id\"]\n",
    "\n",
    "# Selection des features à conserver\n",
    "df_clients_clean = df_clients[feat_a_garder]"
   ]
  },
  {
   "cell_type": "markdown",
   "metadata": {},
   "source": [
    "### <span style='background:black; color:white'>b/ Imputation valeurs manquantes</span>\n",
    "\n",
    "Pas de valeur manquante."
   ]
  },
  {
   "cell_type": "markdown",
   "metadata": {},
   "source": [
    "### <span style='background:black; color:white'>c/ Gestion des outliers</span>\n",
    "\n",
    "Pas neccessaire ici car ce ne sont que des donnees qualitatives. "
   ]
  },
  {
   "cell_type": "markdown",
   "metadata": {},
   "source": [
    "### <span style='background:black; color:white'>d/ Aperçu dataframe nettoye</span>"
   ]
  },
  {
   "cell_type": "code",
   "execution_count": 671,
   "metadata": {},
   "outputs": [
    {
     "name": "stdout",
     "output_type": "stream",
     "text": [
      "Voici l'aspect de 'df_clients_clean' après nettoyage\n"
     ]
    },
    {
     "data": {
      "text/html": [
       "<div>\n",
       "<style scoped>\n",
       "    .dataframe tbody tr th:only-of-type {\n",
       "        vertical-align: middle;\n",
       "    }\n",
       "\n",
       "    .dataframe tbody tr th {\n",
       "        vertical-align: top;\n",
       "    }\n",
       "\n",
       "    .dataframe thead th {\n",
       "        text-align: right;\n",
       "    }\n",
       "</style>\n",
       "<table border=\"1\" class=\"dataframe\">\n",
       "  <thead>\n",
       "    <tr style=\"text-align: right;\">\n",
       "      <th></th>\n",
       "      <th>customer_id</th>\n",
       "      <th>customer_unique_id</th>\n",
       "    </tr>\n",
       "  </thead>\n",
       "  <tbody>\n",
       "    <tr>\n",
       "      <th>0</th>\n",
       "      <td>06b8999e2fba1a1fbc88172c00ba8bc7</td>\n",
       "      <td>861eff4711a542e4b93843c6dd7febb0</td>\n",
       "    </tr>\n",
       "    <tr>\n",
       "      <th>1</th>\n",
       "      <td>18955e83d337fd6b2def6b18a428ac77</td>\n",
       "      <td>290c77bc529b7ac935b93aa66c333dc3</td>\n",
       "    </tr>\n",
       "    <tr>\n",
       "      <th>2</th>\n",
       "      <td>4e7b3e00288586ebd08712fdd0374a03</td>\n",
       "      <td>060e732b5b29e8181a18229c7b0b2b5e</td>\n",
       "    </tr>\n",
       "  </tbody>\n",
       "</table>\n",
       "</div>"
      ],
      "text/plain": [
       "                        customer_id                customer_unique_id\n",
       "0  06b8999e2fba1a1fbc88172c00ba8bc7  861eff4711a542e4b93843c6dd7febb0\n",
       "1  18955e83d337fd6b2def6b18a428ac77  290c77bc529b7ac935b93aa66c333dc3\n",
       "2  4e7b3e00288586ebd08712fdd0374a03  060e732b5b29e8181a18229c7b0b2b5e"
      ]
     },
     "metadata": {},
     "output_type": "display_data"
    },
    {
     "name": "stdout",
     "output_type": "stream",
     "text": [
      "99441 ligne(s) x 2 colonne(s)\n",
      "\n"
     ]
    }
   ],
   "source": [
    "affiche_aperçu_df(df_clients_clean, \"df_clients_clean\", \"nettoyage\", 3)"
   ]
  },
  {
   "cell_type": "markdown",
   "metadata": {},
   "source": [
    "## <span style='background:yellow; color:black'>4/ Nettoyage fichier \"article\"</span>\n",
    "\n",
    "### <span style='background:black; color:white'>a/ Selection des features à conserver</span>\n",
    "\n",
    "- **order_id** : identifiant des commandes\n",
    "- **order_item_id** : nombre d'articles commandes\n",
    "- **price** : prix\n",
    "- **freight_value** : valeur du fret"
   ]
  },
  {
   "cell_type": "code",
   "execution_count": 672,
   "metadata": {},
   "outputs": [],
   "source": [
    "# Feature à conserver\n",
    "feat_a_garder = [\"order_id\", \"order_item_id\", \"price\", \"freight_value\"]\n",
    "\n",
    "# Selection des features à conserver\n",
    "df_articles_clean = df_articles[feat_a_garder]"
   ]
  },
  {
   "cell_type": "markdown",
   "metadata": {},
   "source": [
    "### <span style='background:black; color:white'>b/ Imputation valeurs manquantes</span>\n",
    "\n",
    "Pas de valeur manquante."
   ]
  },
  {
   "cell_type": "markdown",
   "metadata": {},
   "source": [
    "### <span style='background:black; color:white'>c/ Gestion des outliers</span>\n",
    "\n",
    "Pas neccesaire pour \"order_id\" car ce sont des donnees qualitatives.<br>\n",
    "\n",
    "Verifions les donnees quantitatives :"
   ]
  },
  {
   "cell_type": "code",
   "execution_count": 673,
   "metadata": {},
   "outputs": [
    {
     "data": {
      "text/html": [
       "<div>\n",
       "<style scoped>\n",
       "    .dataframe tbody tr th:only-of-type {\n",
       "        vertical-align: middle;\n",
       "    }\n",
       "\n",
       "    .dataframe tbody tr th {\n",
       "        vertical-align: top;\n",
       "    }\n",
       "\n",
       "    .dataframe thead th {\n",
       "        text-align: right;\n",
       "    }\n",
       "</style>\n",
       "<table border=\"1\" class=\"dataframe\">\n",
       "  <thead>\n",
       "    <tr style=\"text-align: right;\">\n",
       "      <th></th>\n",
       "      <th>order_item_id</th>\n",
       "      <th>price</th>\n",
       "      <th>freight_value</th>\n",
       "    </tr>\n",
       "  </thead>\n",
       "  <tbody>\n",
       "    <tr>\n",
       "      <th>count</th>\n",
       "      <td>112650.00</td>\n",
       "      <td>112650.00</td>\n",
       "      <td>112650.00</td>\n",
       "    </tr>\n",
       "    <tr>\n",
       "      <th>mean</th>\n",
       "      <td>1.20</td>\n",
       "      <td>120.65</td>\n",
       "      <td>19.99</td>\n",
       "    </tr>\n",
       "    <tr>\n",
       "      <th>std</th>\n",
       "      <td>0.71</td>\n",
       "      <td>183.63</td>\n",
       "      <td>15.81</td>\n",
       "    </tr>\n",
       "    <tr>\n",
       "      <th>min</th>\n",
       "      <td>1.00</td>\n",
       "      <td>0.85</td>\n",
       "      <td>0.00</td>\n",
       "    </tr>\n",
       "    <tr>\n",
       "      <th>25%</th>\n",
       "      <td>1.00</td>\n",
       "      <td>39.90</td>\n",
       "      <td>13.08</td>\n",
       "    </tr>\n",
       "    <tr>\n",
       "      <th>50%</th>\n",
       "      <td>1.00</td>\n",
       "      <td>74.99</td>\n",
       "      <td>16.26</td>\n",
       "    </tr>\n",
       "    <tr>\n",
       "      <th>75%</th>\n",
       "      <td>1.00</td>\n",
       "      <td>134.90</td>\n",
       "      <td>21.15</td>\n",
       "    </tr>\n",
       "    <tr>\n",
       "      <th>max</th>\n",
       "      <td>21.00</td>\n",
       "      <td>6735.00</td>\n",
       "      <td>409.68</td>\n",
       "    </tr>\n",
       "  </tbody>\n",
       "</table>\n",
       "</div>"
      ],
      "text/plain": [
       "       order_item_id      price  freight_value\n",
       "count      112650.00  112650.00      112650.00\n",
       "mean            1.20     120.65          19.99\n",
       "std             0.71     183.63          15.81\n",
       "min             1.00       0.85           0.00\n",
       "25%             1.00      39.90          13.08\n",
       "50%             1.00      74.99          16.26\n",
       "75%             1.00     134.90          21.15\n",
       "max            21.00    6735.00         409.68"
      ]
     },
     "execution_count": 673,
     "metadata": {},
     "output_type": "execute_result"
    }
   ],
   "source": [
    "df_articles_clean.describe().round(2)"
   ]
  },
  {
   "cell_type": "markdown",
   "metadata": {},
   "source": [
    "Les donnees quantitatives sont toutes positives et avec des ordres de grandeur probables. Il n'y a donc pas de valeurs aberrantes."
   ]
  },
  {
   "cell_type": "markdown",
   "metadata": {},
   "source": [
    "### <span style='background:black; color:white'>d/ Aperçu dataframe nettoye</span>"
   ]
  },
  {
   "cell_type": "code",
   "execution_count": 674,
   "metadata": {},
   "outputs": [
    {
     "name": "stdout",
     "output_type": "stream",
     "text": [
      "Voici l'aspect de 'df_articles_clean' après nettoyage\n"
     ]
    },
    {
     "data": {
      "text/html": [
       "<div>\n",
       "<style scoped>\n",
       "    .dataframe tbody tr th:only-of-type {\n",
       "        vertical-align: middle;\n",
       "    }\n",
       "\n",
       "    .dataframe tbody tr th {\n",
       "        vertical-align: top;\n",
       "    }\n",
       "\n",
       "    .dataframe thead th {\n",
       "        text-align: right;\n",
       "    }\n",
       "</style>\n",
       "<table border=\"1\" class=\"dataframe\">\n",
       "  <thead>\n",
       "    <tr style=\"text-align: right;\">\n",
       "      <th></th>\n",
       "      <th>order_id</th>\n",
       "      <th>order_item_id</th>\n",
       "      <th>price</th>\n",
       "      <th>freight_value</th>\n",
       "    </tr>\n",
       "  </thead>\n",
       "  <tbody>\n",
       "    <tr>\n",
       "      <th>0</th>\n",
       "      <td>00010242fe8c5a6d1ba2dd792cb16214</td>\n",
       "      <td>1</td>\n",
       "      <td>58.9</td>\n",
       "      <td>13.29</td>\n",
       "    </tr>\n",
       "    <tr>\n",
       "      <th>1</th>\n",
       "      <td>00018f77f2f0320c557190d7a144bdd3</td>\n",
       "      <td>1</td>\n",
       "      <td>239.9</td>\n",
       "      <td>19.93</td>\n",
       "    </tr>\n",
       "    <tr>\n",
       "      <th>2</th>\n",
       "      <td>000229ec398224ef6ca0657da4fc703e</td>\n",
       "      <td>1</td>\n",
       "      <td>199.0</td>\n",
       "      <td>17.87</td>\n",
       "    </tr>\n",
       "  </tbody>\n",
       "</table>\n",
       "</div>"
      ],
      "text/plain": [
       "                           order_id  order_item_id  price  freight_value\n",
       "0  00010242fe8c5a6d1ba2dd792cb16214              1   58.9          13.29\n",
       "1  00018f77f2f0320c557190d7a144bdd3              1  239.9          19.93\n",
       "2  000229ec398224ef6ca0657da4fc703e              1  199.0          17.87"
      ]
     },
     "metadata": {},
     "output_type": "display_data"
    },
    {
     "name": "stdout",
     "output_type": "stream",
     "text": [
      "112650 ligne(s) x 4 colonne(s)\n",
      "\n"
     ]
    }
   ],
   "source": [
    "affiche_aperçu_df(df_articles_clean, \"df_articles_clean\", \"nettoyage\", 3)"
   ]
  },
  {
   "cell_type": "markdown",
   "metadata": {},
   "source": [
    "## <span style='background:yellow; color:black'>5/ Nettoyage fichier \"paiements\"</span>\n",
    "\n",
    "### <span style='background:black; color:white'>a/ Selection des features à conserver</span>\n",
    "\n",
    "- **order_id** : identifiant des commandes\n",
    "- **payment_value** : montant du paiement"
   ]
  },
  {
   "cell_type": "code",
   "execution_count": 675,
   "metadata": {},
   "outputs": [],
   "source": [
    "# Feature à conserver\n",
    "feat_a_garder = [\"order_id\", \"payment_value\"]\n",
    "\n",
    "# Selection des features à conserver\n",
    "df_paiements_clean = df_paiements[feat_a_garder]"
   ]
  },
  {
   "cell_type": "markdown",
   "metadata": {},
   "source": [
    "### <span style='background:black; color:white'>b/ Imputation valeurs manquantes</span>\n",
    "\n",
    "Pas de valeur manquante."
   ]
  },
  {
   "cell_type": "markdown",
   "metadata": {},
   "source": [
    "### <span style='background:black; color:white'>c/ Gestion des outliers</span>\n",
    "\n",
    "Pas necessaire pour \"order_id\" car ce sont des donnees qualitatives.<br>\n",
    "\n",
    "Verifions les donnees quantitatives :"
   ]
  },
  {
   "cell_type": "code",
   "execution_count": 676,
   "metadata": {},
   "outputs": [
    {
     "data": {
      "text/html": [
       "<div>\n",
       "<style scoped>\n",
       "    .dataframe tbody tr th:only-of-type {\n",
       "        vertical-align: middle;\n",
       "    }\n",
       "\n",
       "    .dataframe tbody tr th {\n",
       "        vertical-align: top;\n",
       "    }\n",
       "\n",
       "    .dataframe thead th {\n",
       "        text-align: right;\n",
       "    }\n",
       "</style>\n",
       "<table border=\"1\" class=\"dataframe\">\n",
       "  <thead>\n",
       "    <tr style=\"text-align: right;\">\n",
       "      <th></th>\n",
       "      <th>payment_value</th>\n",
       "    </tr>\n",
       "  </thead>\n",
       "  <tbody>\n",
       "    <tr>\n",
       "      <th>count</th>\n",
       "      <td>103886.00</td>\n",
       "    </tr>\n",
       "    <tr>\n",
       "      <th>mean</th>\n",
       "      <td>154.10</td>\n",
       "    </tr>\n",
       "    <tr>\n",
       "      <th>std</th>\n",
       "      <td>217.49</td>\n",
       "    </tr>\n",
       "    <tr>\n",
       "      <th>min</th>\n",
       "      <td>0.00</td>\n",
       "    </tr>\n",
       "    <tr>\n",
       "      <th>25%</th>\n",
       "      <td>56.79</td>\n",
       "    </tr>\n",
       "    <tr>\n",
       "      <th>50%</th>\n",
       "      <td>100.00</td>\n",
       "    </tr>\n",
       "    <tr>\n",
       "      <th>75%</th>\n",
       "      <td>171.84</td>\n",
       "    </tr>\n",
       "    <tr>\n",
       "      <th>max</th>\n",
       "      <td>13664.08</td>\n",
       "    </tr>\n",
       "  </tbody>\n",
       "</table>\n",
       "</div>"
      ],
      "text/plain": [
       "       payment_value\n",
       "count      103886.00\n",
       "mean          154.10\n",
       "std           217.49\n",
       "min             0.00\n",
       "25%            56.79\n",
       "50%           100.00\n",
       "75%           171.84\n",
       "max         13664.08"
      ]
     },
     "execution_count": 676,
     "metadata": {},
     "output_type": "execute_result"
    }
   ],
   "source": [
    "df_paiements_clean.describe().round(2)"
   ]
  },
  {
   "cell_type": "markdown",
   "metadata": {},
   "source": [
    "Les donnees quantitatives sont toutes positives et avec des ordres de grandeur\n",
    "probables. Il n'y a donc pas de valeurs aberrantes."
   ]
  },
  {
   "cell_type": "markdown",
   "metadata": {},
   "source": [
    "### <span style='background:black; color:white'>d/ Aperçu dataframe nettoye</span>"
   ]
  },
  {
   "cell_type": "code",
   "execution_count": 677,
   "metadata": {},
   "outputs": [
    {
     "name": "stdout",
     "output_type": "stream",
     "text": [
      "Voici l'aspect de 'df_paiements_clean' après nettoyage\n"
     ]
    },
    {
     "data": {
      "text/html": [
       "<div>\n",
       "<style scoped>\n",
       "    .dataframe tbody tr th:only-of-type {\n",
       "        vertical-align: middle;\n",
       "    }\n",
       "\n",
       "    .dataframe tbody tr th {\n",
       "        vertical-align: top;\n",
       "    }\n",
       "\n",
       "    .dataframe thead th {\n",
       "        text-align: right;\n",
       "    }\n",
       "</style>\n",
       "<table border=\"1\" class=\"dataframe\">\n",
       "  <thead>\n",
       "    <tr style=\"text-align: right;\">\n",
       "      <th></th>\n",
       "      <th>order_id</th>\n",
       "      <th>payment_value</th>\n",
       "    </tr>\n",
       "  </thead>\n",
       "  <tbody>\n",
       "    <tr>\n",
       "      <th>0</th>\n",
       "      <td>b81ef226f3fe1789b1e8b2acac839d17</td>\n",
       "      <td>99.33</td>\n",
       "    </tr>\n",
       "    <tr>\n",
       "      <th>1</th>\n",
       "      <td>a9810da82917af2d9aefd1278f1dcfa0</td>\n",
       "      <td>24.39</td>\n",
       "    </tr>\n",
       "    <tr>\n",
       "      <th>2</th>\n",
       "      <td>25e8ea4e93396b6fa0d3dd708e76c1bd</td>\n",
       "      <td>65.71</td>\n",
       "    </tr>\n",
       "  </tbody>\n",
       "</table>\n",
       "</div>"
      ],
      "text/plain": [
       "                           order_id  payment_value\n",
       "0  b81ef226f3fe1789b1e8b2acac839d17          99.33\n",
       "1  a9810da82917af2d9aefd1278f1dcfa0          24.39\n",
       "2  25e8ea4e93396b6fa0d3dd708e76c1bd          65.71"
      ]
     },
     "metadata": {},
     "output_type": "display_data"
    },
    {
     "name": "stdout",
     "output_type": "stream",
     "text": [
      "103886 ligne(s) x 2 colonne(s)\n",
      "\n"
     ]
    }
   ],
   "source": [
    "affiche_aperçu_df(df_paiements_clean, \"df_paiements_clean\", \"nettoyage\", 3)"
   ]
  },
  {
   "cell_type": "markdown",
   "metadata": {},
   "source": [
    "## <span style='background:yellow; color:black'>6/ Nettoyage fichier \"avis\"</span>\n",
    "\n",
    "### <span style='background:black; color:white'>a/ Selection des features à conserver</span>\n",
    "\n",
    "- **order_id** : identifiant des commandes\n",
    "- **review_score** : score/note de l'avis"
   ]
  },
  {
   "cell_type": "code",
   "execution_count": 678,
   "metadata": {},
   "outputs": [],
   "source": [
    "# Feature à conserver\n",
    "feat_a_garder = [\"order_id\", \"review_score\"]\n",
    "\n",
    "# Selection des features à conserver\n",
    "df_avis_clean = df_avis[feat_a_garder]"
   ]
  },
  {
   "cell_type": "markdown",
   "metadata": {},
   "source": [
    "### <span style='background:black; color:white'>b/ Imputation valeurs manquantes</span>\n",
    "\n",
    "Pas de valeur manquante."
   ]
  },
  {
   "cell_type": "markdown",
   "metadata": {},
   "source": [
    "### <span style='background:black; color:white'>c/ Gestion des outliers</span>\n",
    "\n",
    "Pas neccesaire pour \"order_id\" car ce sont des donnees qualitatives.<br>\n",
    "\n",
    "Verifions les donnees quantitatives :"
   ]
  },
  {
   "cell_type": "code",
   "execution_count": 679,
   "metadata": {},
   "outputs": [
    {
     "data": {
      "text/html": [
       "<div>\n",
       "<style scoped>\n",
       "    .dataframe tbody tr th:only-of-type {\n",
       "        vertical-align: middle;\n",
       "    }\n",
       "\n",
       "    .dataframe tbody tr th {\n",
       "        vertical-align: top;\n",
       "    }\n",
       "\n",
       "    .dataframe thead th {\n",
       "        text-align: right;\n",
       "    }\n",
       "</style>\n",
       "<table border=\"1\" class=\"dataframe\">\n",
       "  <thead>\n",
       "    <tr style=\"text-align: right;\">\n",
       "      <th></th>\n",
       "      <th>review_score</th>\n",
       "    </tr>\n",
       "  </thead>\n",
       "  <tbody>\n",
       "    <tr>\n",
       "      <th>count</th>\n",
       "      <td>99224.00</td>\n",
       "    </tr>\n",
       "    <tr>\n",
       "      <th>mean</th>\n",
       "      <td>4.09</td>\n",
       "    </tr>\n",
       "    <tr>\n",
       "      <th>std</th>\n",
       "      <td>1.35</td>\n",
       "    </tr>\n",
       "    <tr>\n",
       "      <th>min</th>\n",
       "      <td>1.00</td>\n",
       "    </tr>\n",
       "    <tr>\n",
       "      <th>25%</th>\n",
       "      <td>4.00</td>\n",
       "    </tr>\n",
       "    <tr>\n",
       "      <th>50%</th>\n",
       "      <td>5.00</td>\n",
       "    </tr>\n",
       "    <tr>\n",
       "      <th>75%</th>\n",
       "      <td>5.00</td>\n",
       "    </tr>\n",
       "    <tr>\n",
       "      <th>max</th>\n",
       "      <td>5.00</td>\n",
       "    </tr>\n",
       "  </tbody>\n",
       "</table>\n",
       "</div>"
      ],
      "text/plain": [
       "       review_score\n",
       "count      99224.00\n",
       "mean           4.09\n",
       "std            1.35\n",
       "min            1.00\n",
       "25%            4.00\n",
       "50%            5.00\n",
       "75%            5.00\n",
       "max            5.00"
      ]
     },
     "execution_count": 679,
     "metadata": {},
     "output_type": "execute_result"
    }
   ],
   "source": [
    "df_avis_clean.describe().round(2)"
   ]
  },
  {
   "cell_type": "markdown",
   "metadata": {},
   "source": [
    "Les donnees quantitatives sont toutes positives et avec des ordres de grandeur\n",
    "probables. Il n'y a donc pas de valeurs aberrantes."
   ]
  },
  {
   "cell_type": "markdown",
   "metadata": {},
   "source": [
    "### <span style='background:black; color:white'>d/ Aperçu dataframe nettoye</span>"
   ]
  },
  {
   "cell_type": "code",
   "execution_count": 680,
   "metadata": {},
   "outputs": [
    {
     "name": "stdout",
     "output_type": "stream",
     "text": [
      "Voici l'aspect de 'df_avis_clean' après nettoyage\n"
     ]
    },
    {
     "data": {
      "text/html": [
       "<div>\n",
       "<style scoped>\n",
       "    .dataframe tbody tr th:only-of-type {\n",
       "        vertical-align: middle;\n",
       "    }\n",
       "\n",
       "    .dataframe tbody tr th {\n",
       "        vertical-align: top;\n",
       "    }\n",
       "\n",
       "    .dataframe thead th {\n",
       "        text-align: right;\n",
       "    }\n",
       "</style>\n",
       "<table border=\"1\" class=\"dataframe\">\n",
       "  <thead>\n",
       "    <tr style=\"text-align: right;\">\n",
       "      <th></th>\n",
       "      <th>order_id</th>\n",
       "      <th>review_score</th>\n",
       "    </tr>\n",
       "  </thead>\n",
       "  <tbody>\n",
       "    <tr>\n",
       "      <th>0</th>\n",
       "      <td>73fc7af87114b39712e6da79b0a377eb</td>\n",
       "      <td>4</td>\n",
       "    </tr>\n",
       "    <tr>\n",
       "      <th>1</th>\n",
       "      <td>a548910a1c6147796b98fdf73dbeba33</td>\n",
       "      <td>5</td>\n",
       "    </tr>\n",
       "    <tr>\n",
       "      <th>2</th>\n",
       "      <td>f9e4b658b201a9f2ecdecbb34bed034b</td>\n",
       "      <td>5</td>\n",
       "    </tr>\n",
       "  </tbody>\n",
       "</table>\n",
       "</div>"
      ],
      "text/plain": [
       "                           order_id  review_score\n",
       "0  73fc7af87114b39712e6da79b0a377eb             4\n",
       "1  a548910a1c6147796b98fdf73dbeba33             5\n",
       "2  f9e4b658b201a9f2ecdecbb34bed034b             5"
      ]
     },
     "metadata": {},
     "output_type": "display_data"
    },
    {
     "name": "stdout",
     "output_type": "stream",
     "text": [
      "99224 ligne(s) x 2 colonne(s)\n",
      "\n"
     ]
    }
   ],
   "source": [
    "affiche_aperçu_df(df_avis_clean, \"df_avis_clean\", \"nettoyage\", 3)"
   ]
  },
  {
   "cell_type": "markdown",
   "metadata": {},
   "source": [
    "## <span style='background:yellow; color:black'>7/ Nettoyage fichier \"donnees de base\"</span>\n",
    "\n",
    "### <span style='background:black; color:white'>a/ Selection des features à conserver</span>\n",
    "\n",
    "- **order_id** : identifiant des commandes\n",
    "- **customer_id** : identifiant des clients\n",
    "- **order_purchase_timestamp** : date d'achat de la commande"
   ]
  },
  {
   "cell_type": "code",
   "execution_count": 681,
   "metadata": {},
   "outputs": [],
   "source": [
    "# Feature à conserver\n",
    "feat_a_garder = [\"order_id\", \"customer_id\", \"order_purchase_timestamp\"]\n",
    "\n",
    "# Selection des features à conserver\n",
    "df_base_clean_temp = df_base[feat_a_garder]"
   ]
  },
  {
   "cell_type": "markdown",
   "metadata": {},
   "source": [
    "### <span style='background:black; color:white'>b/ Imputation valeurs manquantes</span>\n",
    "\n",
    "Pas de valeur manquante."
   ]
  },
  {
   "cell_type": "markdown",
   "metadata": {},
   "source": [
    "### <span style='background:black; color:white'>c/ Gestion des outliers</span>\n",
    "\n",
    "Pas neccesaire pour \"order_id\" et \"customer_id\" car ce sont des donnees\n",
    "qualitatives.<br>\n",
    "\n",
    "Concernant \"order_purchase_timestamp\", il faut d'abord convertir les donnees\n",
    "en datetime puis verifier qu'il n'y a pas de valeurs aberrantes."
   ]
  },
  {
   "cell_type": "code",
   "execution_count": 682,
   "metadata": {},
   "outputs": [],
   "source": [
    "# Copie du dataframe\n",
    "df_base_clean = df_base_clean_temp.copy()\n",
    "\n",
    "# Conversion de la colonne 'order_purchase_timestamp' en datetime\n",
    "df_base_clean[\"order_purchase_timestamp\"] = df_base_clean[\n",
    "    \"order_purchase_timestamp\"\n",
    "].apply(convertisseur_str_to_datetime)"
   ]
  },
  {
   "cell_type": "markdown",
   "metadata": {},
   "source": [
    "Nous pouvons desormais verifier la distribution des dates d'achat de commandes."
   ]
  },
  {
   "cell_type": "code",
   "execution_count": 683,
   "metadata": {},
   "outputs": [
    {
     "data": {
      "image/png": "[encoded data removed]",
      "text/plain": [
       "<Figure size 1500x1000 with 6 Axes>"
      ]
     },
     "metadata": {},
     "output_type": "display_data"
    }
   ],
   "source": [
    "plot_distribution_datetime(df_base_clean, \"order_purchase_timestamp\")"
   ]
  },
  {
   "cell_type": "markdown",
   "metadata": {},
   "source": [
    "Rien d'anormal. Il n'y a pas de valeurs aberrantes parmi les date et les heures. "
   ]
  },
  {
   "cell_type": "markdown",
   "metadata": {},
   "source": [
    "### <span style='background:black; color:white'>d/ Aperçu dataframe nettoye</span>"
   ]
  },
  {
   "cell_type": "code",
   "execution_count": 684,
   "metadata": {},
   "outputs": [
    {
     "name": "stdout",
     "output_type": "stream",
     "text": [
      "Voici l'aspect de 'df_base_clean' après nettoyage\n"
     ]
    },
    {
     "data": {
      "text/html": [
       "<div>\n",
       "<style scoped>\n",
       "    .dataframe tbody tr th:only-of-type {\n",
       "        vertical-align: middle;\n",
       "    }\n",
       "\n",
       "    .dataframe tbody tr th {\n",
       "        vertical-align: top;\n",
       "    }\n",
       "\n",
       "    .dataframe thead th {\n",
       "        text-align: right;\n",
       "    }\n",
       "</style>\n",
       "<table border=\"1\" class=\"dataframe\">\n",
       "  <thead>\n",
       "    <tr style=\"text-align: right;\">\n",
       "      <th></th>\n",
       "      <th>order_id</th>\n",
       "      <th>customer_id</th>\n",
       "      <th>order_purchase_timestamp</th>\n",
       "    </tr>\n",
       "  </thead>\n",
       "  <tbody>\n",
       "    <tr>\n",
       "      <th>0</th>\n",
       "      <td>e481f51cbdc54678b7cc49136f2d6af7</td>\n",
       "      <td>9ef432eb6251297304e76186b10a928d</td>\n",
       "      <td>2017-10-02 10:56:33</td>\n",
       "    </tr>\n",
       "    <tr>\n",
       "      <th>1</th>\n",
       "      <td>53cdb2fc8bc7dce0b6741e2150273451</td>\n",
       "      <td>b0830fb4747a6c6d20dea0b8c802d7ef</td>\n",
       "      <td>2018-07-24 20:41:37</td>\n",
       "    </tr>\n",
       "    <tr>\n",
       "      <th>2</th>\n",
       "      <td>47770eb9100c2d0c44946d9cf07ec65d</td>\n",
       "      <td>41ce2a54c0b03bf3443c3d931a367089</td>\n",
       "      <td>2018-08-08 08:38:49</td>\n",
       "    </tr>\n",
       "  </tbody>\n",
       "</table>\n",
       "</div>"
      ],
      "text/plain": [
       "                           order_id                       customer_id  \\\n",
       "0  e481f51cbdc54678b7cc49136f2d6af7  9ef432eb6251297304e76186b10a928d   \n",
       "1  53cdb2fc8bc7dce0b6741e2150273451  b0830fb4747a6c6d20dea0b8c802d7ef   \n",
       "2  47770eb9100c2d0c44946d9cf07ec65d  41ce2a54c0b03bf3443c3d931a367089   \n",
       "\n",
       "  order_purchase_timestamp  \n",
       "0      2017-10-02 10:56:33  \n",
       "1      2018-07-24 20:41:37  \n",
       "2      2018-08-08 08:38:49  "
      ]
     },
     "metadata": {},
     "output_type": "display_data"
    },
    {
     "name": "stdout",
     "output_type": "stream",
     "text": [
      "99441 ligne(s) x 3 colonne(s)\n",
      "\n"
     ]
    }
   ],
   "source": [
    "affiche_aperçu_df(df_base_clean, \"df_base_clean\", \"nettoyage\", 3)"
   ]
  },
  {
   "cell_type": "markdown",
   "metadata": {},
   "source": [
    "## <span style='background:yellow; color:black'>8/ Fusion des fichiers</span>\n",
    "\n",
    "### <span style='background:black; color:white'>a/ Donnees de base - client</span>\n",
    "\n",
    "Nous commençons la fusion sur le fichier \"df_base_clean\" car sa position dans\n",
    "la relation entre les fichiers est centrale, c'est à dire qu'il est lie à tous\n",
    "les autres fichiers.\n",
    "\n",
    "Tout d'abord, regardons sa feature 'customer_id' :"
   ]
  },
  {
   "cell_type": "code",
   "execution_count": 685,
   "metadata": {},
   "outputs": [
    {
     "name": "stdout",
     "output_type": "stream",
     "text": [
      "'df_base_clean' contient 99441 lignes et 3 colonnes\n",
      "'df_base_clean' contient 99441 clients associes à autant de commande different(e)s\n"
     ]
    }
   ],
   "source": [
    "afficheur_dimension_et_unique(\n",
    "    df_base_clean,\n",
    "    \"df_base_clean\",\n",
    "    \"clients associes à autant de commande\",\n",
    "    \"customer_id\",\n",
    ")"
   ]
  },
  {
   "cell_type": "markdown",
   "metadata": {},
   "source": [
    "Nous allons lui fusionner le 'df_clients_clean' dont voici la feature\n",
    "'customer_id' des commandes :"
   ]
  },
  {
   "cell_type": "code",
   "execution_count": 686,
   "metadata": {},
   "outputs": [
    {
     "name": "stdout",
     "output_type": "stream",
     "text": [
      "'df_clients_clean' contient 99441 lignes et 2 colonnes\n",
      "'df_clients_clean' contient 99441 clients associes à autant de commande different(e)s\n"
     ]
    }
   ],
   "source": [
    "afficheur_dimension_et_unique(\n",
    "    df_clients_clean,\n",
    "    \"df_clients_clean\",\n",
    "    \"clients associes à autant de commande\",\n",
    "    \"customer_id\",\n",
    ")"
   ]
  },
  {
   "cell_type": "markdown",
   "metadata": {},
   "source": [
    "Nous realisons une jointure interne pour conserver les commandes presentes\n",
    "dans les 2 fichiers."
   ]
  },
  {
   "cell_type": "code",
   "execution_count": 687,
   "metadata": {},
   "outputs": [],
   "source": [
    "# Fusionner les DataFrame\n",
    "df_merged_client = pd.merge(\n",
    "    df_base_clean, df_clients_clean, on=\"customer_id\", how=\"inner\"\n",
    ")"
   ]
  },
  {
   "cell_type": "markdown",
   "metadata": {},
   "source": [
    "Nous verifions que la fusion s'est bien deroulee :"
   ]
  },
  {
   "cell_type": "code",
   "execution_count": 688,
   "metadata": {},
   "outputs": [
    {
     "name": "stdout",
     "output_type": "stream",
     "text": [
      "'df_merged_client' contient 99441 lignes et 4 colonnes\n",
      "'df_merged_client' contient 99441 commandes different(e)s\n"
     ]
    }
   ],
   "source": [
    "afficheur_dimension_et_unique(\n",
    "    df_merged_client, \"df_merged_client\", \"commandes\", \"order_id\"\n",
    ")"
   ]
  },
  {
   "cell_type": "code",
   "execution_count": 689,
   "metadata": {},
   "outputs": [
    {
     "name": "stdout",
     "output_type": "stream",
     "text": [
      "Voici l'aspect de 'df_merged_client' après fusion 'donnee de base - clients'\n"
     ]
    },
    {
     "data": {
      "text/html": [
       "<div>\n",
       "<style scoped>\n",
       "    .dataframe tbody tr th:only-of-type {\n",
       "        vertical-align: middle;\n",
       "    }\n",
       "\n",
       "    .dataframe tbody tr th {\n",
       "        vertical-align: top;\n",
       "    }\n",
       "\n",
       "    .dataframe thead th {\n",
       "        text-align: right;\n",
       "    }\n",
       "</style>\n",
       "<table border=\"1\" class=\"dataframe\">\n",
       "  <thead>\n",
       "    <tr style=\"text-align: right;\">\n",
       "      <th></th>\n",
       "      <th>order_id</th>\n",
       "      <th>customer_id</th>\n",
       "      <th>order_purchase_timestamp</th>\n",
       "      <th>customer_unique_id</th>\n",
       "    </tr>\n",
       "  </thead>\n",
       "  <tbody>\n",
       "    <tr>\n",
       "      <th>0</th>\n",
       "      <td>e481f51cbdc54678b7cc49136f2d6af7</td>\n",
       "      <td>9ef432eb6251297304e76186b10a928d</td>\n",
       "      <td>2017-10-02 10:56:33</td>\n",
       "      <td>7c396fd4830fd04220f754e42b4e5bff</td>\n",
       "    </tr>\n",
       "    <tr>\n",
       "      <th>1</th>\n",
       "      <td>53cdb2fc8bc7dce0b6741e2150273451</td>\n",
       "      <td>b0830fb4747a6c6d20dea0b8c802d7ef</td>\n",
       "      <td>2018-07-24 20:41:37</td>\n",
       "      <td>af07308b275d755c9edb36a90c618231</td>\n",
       "    </tr>\n",
       "    <tr>\n",
       "      <th>2</th>\n",
       "      <td>47770eb9100c2d0c44946d9cf07ec65d</td>\n",
       "      <td>41ce2a54c0b03bf3443c3d931a367089</td>\n",
       "      <td>2018-08-08 08:38:49</td>\n",
       "      <td>3a653a41f6f9fc3d2a113cf8398680e8</td>\n",
       "    </tr>\n",
       "  </tbody>\n",
       "</table>\n",
       "</div>"
      ],
      "text/plain": [
       "                           order_id                       customer_id  \\\n",
       "0  e481f51cbdc54678b7cc49136f2d6af7  9ef432eb6251297304e76186b10a928d   \n",
       "1  53cdb2fc8bc7dce0b6741e2150273451  b0830fb4747a6c6d20dea0b8c802d7ef   \n",
       "2  47770eb9100c2d0c44946d9cf07ec65d  41ce2a54c0b03bf3443c3d931a367089   \n",
       "\n",
       "  order_purchase_timestamp                customer_unique_id  \n",
       "0      2017-10-02 10:56:33  7c396fd4830fd04220f754e42b4e5bff  \n",
       "1      2018-07-24 20:41:37  af07308b275d755c9edb36a90c618231  \n",
       "2      2018-08-08 08:38:49  3a653a41f6f9fc3d2a113cf8398680e8  "
      ]
     },
     "metadata": {},
     "output_type": "display_data"
    },
    {
     "name": "stdout",
     "output_type": "stream",
     "text": [
      "99441 ligne(s) x 4 colonne(s)\n",
      "\n"
     ]
    }
   ],
   "source": [
    "affiche_aperçu_df(\n",
    "    df_merged_client,\n",
    "    \"df_merged_client\",\n",
    "    \"fusion 'donnee de base - clients'\",\n",
    "    3\n",
    ")"
   ]
  },
  {
   "cell_type": "markdown",
   "metadata": {},
   "source": [
    "### <span style='background:black; color:white'>b/ Ajout des paiements</span>\n",
    "\n",
    "Regardons les commandes ('order_id') dans le dataframe fusionne :"
   ]
  },
  {
   "cell_type": "code",
   "execution_count": 690,
   "metadata": {},
   "outputs": [
    {
     "name": "stdout",
     "output_type": "stream",
     "text": [
      "'df_merged_client' contient 99441 lignes et 4 colonnes\n",
      "'df_merged_client' contient 99441 commandes different(e)s\n"
     ]
    }
   ],
   "source": [
    "afficheur_dimension_et_unique(\n",
    "    df_merged_client, \"df_merged_client\", \"commandes\", \"order_id\"\n",
    ")"
   ]
  },
  {
   "cell_type": "markdown",
   "metadata": {},
   "source": [
    "Regardons les commandes ('order_id') dans le fichier des paiements :"
   ]
  },
  {
   "cell_type": "code",
   "execution_count": 691,
   "metadata": {},
   "outputs": [
    {
     "name": "stdout",
     "output_type": "stream",
     "text": [
      "'df_paiements_clean' contient 103886 lignes et 2 colonnes\n",
      "'df_paiements_clean' contient 99440 commandes different(e)s\n"
     ]
    }
   ],
   "source": [
    "afficheur_dimension_et_unique(\n",
    "    df_paiements_clean, \"df_paiements_clean\", \"commandes\", \"order_id\"\n",
    ")"
   ]
  },
  {
   "cell_type": "markdown",
   "metadata": {},
   "source": [
    "Nous ajoutons les paiements au dataframe fusionne :"
   ]
  },
  {
   "cell_type": "code",
   "execution_count": 692,
   "metadata": {},
   "outputs": [],
   "source": [
    "# Fusionner les DataFrame\n",
    "df_merged_paiement = pd.merge(\n",
    "    df_merged_client, df_paiements_clean, on=\"order_id\", how=\"inner\"\n",
    ")"
   ]
  },
  {
   "cell_type": "markdown",
   "metadata": {},
   "source": [
    "Nous verifions que la fusion s'est bien deroulee :"
   ]
  },
  {
   "cell_type": "code",
   "execution_count": 693,
   "metadata": {},
   "outputs": [
    {
     "name": "stdout",
     "output_type": "stream",
     "text": [
      "'df_merged_paiement' contient 103886 lignes et 5 colonnes\n",
      "'df_merged_paiement' contient 99440 commandes different(e)s\n"
     ]
    }
   ],
   "source": [
    "afficheur_dimension_et_unique(\n",
    "    df_merged_paiement, \"df_merged_paiement\", \"commandes\", \"order_id\"\n",
    ")"
   ]
  },
  {
   "cell_type": "markdown",
   "metadata": {},
   "source": [
    "Nous avons perdu 1 commande de 'df_merged_client' car nous n'avons pas son\n",
    "montant de paiement associe. "
   ]
  },
  {
   "cell_type": "code",
   "execution_count": 694,
   "metadata": {},
   "outputs": [
    {
     "name": "stdout",
     "output_type": "stream",
     "text": [
      "Voici l'aspect de 'df_merged_paiement' après l'ajout des paiements'\n"
     ]
    },
    {
     "data": {
      "text/html": [
       "<div>\n",
       "<style scoped>\n",
       "    .dataframe tbody tr th:only-of-type {\n",
       "        vertical-align: middle;\n",
       "    }\n",
       "\n",
       "    .dataframe tbody tr th {\n",
       "        vertical-align: top;\n",
       "    }\n",
       "\n",
       "    .dataframe thead th {\n",
       "        text-align: right;\n",
       "    }\n",
       "</style>\n",
       "<table border=\"1\" class=\"dataframe\">\n",
       "  <thead>\n",
       "    <tr style=\"text-align: right;\">\n",
       "      <th></th>\n",
       "      <th>order_id</th>\n",
       "      <th>customer_id</th>\n",
       "      <th>order_purchase_timestamp</th>\n",
       "      <th>customer_unique_id</th>\n",
       "      <th>payment_value</th>\n",
       "    </tr>\n",
       "  </thead>\n",
       "  <tbody>\n",
       "    <tr>\n",
       "      <th>0</th>\n",
       "      <td>e481f51cbdc54678b7cc49136f2d6af7</td>\n",
       "      <td>9ef432eb6251297304e76186b10a928d</td>\n",
       "      <td>2017-10-02 10:56:33</td>\n",
       "      <td>7c396fd4830fd04220f754e42b4e5bff</td>\n",
       "      <td>18.12</td>\n",
       "    </tr>\n",
       "    <tr>\n",
       "      <th>1</th>\n",
       "      <td>e481f51cbdc54678b7cc49136f2d6af7</td>\n",
       "      <td>9ef432eb6251297304e76186b10a928d</td>\n",
       "      <td>2017-10-02 10:56:33</td>\n",
       "      <td>7c396fd4830fd04220f754e42b4e5bff</td>\n",
       "      <td>2.00</td>\n",
       "    </tr>\n",
       "    <tr>\n",
       "      <th>2</th>\n",
       "      <td>e481f51cbdc54678b7cc49136f2d6af7</td>\n",
       "      <td>9ef432eb6251297304e76186b10a928d</td>\n",
       "      <td>2017-10-02 10:56:33</td>\n",
       "      <td>7c396fd4830fd04220f754e42b4e5bff</td>\n",
       "      <td>18.59</td>\n",
       "    </tr>\n",
       "  </tbody>\n",
       "</table>\n",
       "</div>"
      ],
      "text/plain": [
       "                           order_id                       customer_id  \\\n",
       "0  e481f51cbdc54678b7cc49136f2d6af7  9ef432eb6251297304e76186b10a928d   \n",
       "1  e481f51cbdc54678b7cc49136f2d6af7  9ef432eb6251297304e76186b10a928d   \n",
       "2  e481f51cbdc54678b7cc49136f2d6af7  9ef432eb6251297304e76186b10a928d   \n",
       "\n",
       "  order_purchase_timestamp                customer_unique_id  payment_value  \n",
       "0      2017-10-02 10:56:33  7c396fd4830fd04220f754e42b4e5bff          18.12  \n",
       "1      2017-10-02 10:56:33  7c396fd4830fd04220f754e42b4e5bff           2.00  \n",
       "2      2017-10-02 10:56:33  7c396fd4830fd04220f754e42b4e5bff          18.59  "
      ]
     },
     "metadata": {},
     "output_type": "display_data"
    },
    {
     "name": "stdout",
     "output_type": "stream",
     "text": [
      "103886 ligne(s) x 5 colonne(s)\n",
      "\n"
     ]
    }
   ],
   "source": [
    "affiche_aperçu_df(\n",
    "    df_merged_paiement,\n",
    "    \"df_merged_paiement\",\n",
    "    \"l'ajout des paiements'\",\n",
    "    3)"
   ]
  },
  {
   "cell_type": "markdown",
   "metadata": {},
   "source": [
    "### <span style='background:black; color:white'>c/ Ajout des avis</span>\n",
    "\n",
    "Regardons les commandes ('order_id') dans le dataframe fusionne :"
   ]
  },
  {
   "cell_type": "code",
   "execution_count": 695,
   "metadata": {},
   "outputs": [
    {
     "name": "stdout",
     "output_type": "stream",
     "text": [
      "'df_merged_paiement' contient 103886 lignes et 5 colonnes\n",
      "'df_merged_paiement' contient 99440 commandes different(e)s\n"
     ]
    }
   ],
   "source": [
    "afficheur_dimension_et_unique(\n",
    "    df_merged_paiement, \"df_merged_paiement\", \"commandes\", \"order_id\"\n",
    ")"
   ]
  },
  {
   "cell_type": "markdown",
   "metadata": {},
   "source": [
    "Regardons les commandes ('order_id') dans le fichier des avis :"
   ]
  },
  {
   "cell_type": "code",
   "execution_count": 696,
   "metadata": {},
   "outputs": [
    {
     "name": "stdout",
     "output_type": "stream",
     "text": [
      "'df_avis_clean' contient 99224 lignes et 2 colonnes\n",
      "'df_avis_clean' contient 98673 commandes different(e)s\n"
     ]
    }
   ],
   "source": [
    "afficheur_dimension_et_unique(\n",
    "    df_avis_clean,\n",
    "    \"df_avis_clean\",\n",
    "    \"commandes\",\n",
    "    \"order_id\")"
   ]
  },
  {
   "cell_type": "markdown",
   "metadata": {},
   "source": [
    "Nous ajoutons les avis au dataframe fusionne :"
   ]
  },
  {
   "cell_type": "code",
   "execution_count": 697,
   "metadata": {},
   "outputs": [],
   "source": [
    "# Fusionner les DataFrame\n",
    "df_merged_avis = pd.merge(\n",
    "    df_merged_paiement,\n",
    "    df_avis_clean,\n",
    "    on=\"order_id\",\n",
    "    how=\"inner\")"
   ]
  },
  {
   "cell_type": "markdown",
   "metadata": {},
   "source": [
    "Nous verifions que la fusion s'est bien deroulee :"
   ]
  },
  {
   "cell_type": "code",
   "execution_count": 698,
   "metadata": {},
   "outputs": [
    {
     "name": "stdout",
     "output_type": "stream",
     "text": [
      "'df_merged_avis' contient 103677 lignes et 6 colonnes\n",
      "'df_merged_avis' contient 98672 commandes different(e)s\n"
     ]
    }
   ],
   "source": [
    "afficheur_dimension_et_unique(\n",
    "    df_merged_avis,\n",
    "    \"df_merged_avis\",\n",
    "    \"commandes\",\n",
    "    \"order_id\")"
   ]
  },
  {
   "cell_type": "markdown",
   "metadata": {},
   "source": [
    "Nous avons perdu 767 commandes de 'df_merged_paiement' car nous n'avons pas\n",
    "leurs avis associes.\n",
    "\n",
    "A noter qu'il y a 1 commande presente dans 'df_avis_clean' que nous perdons\n",
    "car elle n'est pas presente dans 'df_merged_paiement'.\n",
    "\n",
    "Ce qui nous fait un total de 768 commandes perdues."
   ]
  },
  {
   "cell_type": "code",
   "execution_count": 699,
   "metadata": {},
   "outputs": [
    {
     "name": "stdout",
     "output_type": "stream",
     "text": [
      "Voici l'aspect de 'df_merged_avis' après l'ajout des avis'\n"
     ]
    },
    {
     "data": {
      "text/html": [
       "<div>\n",
       "<style scoped>\n",
       "    .dataframe tbody tr th:only-of-type {\n",
       "        vertical-align: middle;\n",
       "    }\n",
       "\n",
       "    .dataframe tbody tr th {\n",
       "        vertical-align: top;\n",
       "    }\n",
       "\n",
       "    .dataframe thead th {\n",
       "        text-align: right;\n",
       "    }\n",
       "</style>\n",
       "<table border=\"1\" class=\"dataframe\">\n",
       "  <thead>\n",
       "    <tr style=\"text-align: right;\">\n",
       "      <th></th>\n",
       "      <th>order_id</th>\n",
       "      <th>customer_id</th>\n",
       "      <th>order_purchase_timestamp</th>\n",
       "      <th>customer_unique_id</th>\n",
       "      <th>payment_value</th>\n",
       "      <th>review_score</th>\n",
       "    </tr>\n",
       "  </thead>\n",
       "  <tbody>\n",
       "    <tr>\n",
       "      <th>0</th>\n",
       "      <td>e481f51cbdc54678b7cc49136f2d6af7</td>\n",
       "      <td>9ef432eb6251297304e76186b10a928d</td>\n",
       "      <td>2017-10-02 10:56:33</td>\n",
       "      <td>7c396fd4830fd04220f754e42b4e5bff</td>\n",
       "      <td>18.12</td>\n",
       "      <td>4</td>\n",
       "    </tr>\n",
       "    <tr>\n",
       "      <th>1</th>\n",
       "      <td>e481f51cbdc54678b7cc49136f2d6af7</td>\n",
       "      <td>9ef432eb6251297304e76186b10a928d</td>\n",
       "      <td>2017-10-02 10:56:33</td>\n",
       "      <td>7c396fd4830fd04220f754e42b4e5bff</td>\n",
       "      <td>2.00</td>\n",
       "      <td>4</td>\n",
       "    </tr>\n",
       "    <tr>\n",
       "      <th>2</th>\n",
       "      <td>e481f51cbdc54678b7cc49136f2d6af7</td>\n",
       "      <td>9ef432eb6251297304e76186b10a928d</td>\n",
       "      <td>2017-10-02 10:56:33</td>\n",
       "      <td>7c396fd4830fd04220f754e42b4e5bff</td>\n",
       "      <td>18.59</td>\n",
       "      <td>4</td>\n",
       "    </tr>\n",
       "  </tbody>\n",
       "</table>\n",
       "</div>"
      ],
      "text/plain": [
       "                           order_id                       customer_id  \\\n",
       "0  e481f51cbdc54678b7cc49136f2d6af7  9ef432eb6251297304e76186b10a928d   \n",
       "1  e481f51cbdc54678b7cc49136f2d6af7  9ef432eb6251297304e76186b10a928d   \n",
       "2  e481f51cbdc54678b7cc49136f2d6af7  9ef432eb6251297304e76186b10a928d   \n",
       "\n",
       "  order_purchase_timestamp                customer_unique_id  payment_value  \\\n",
       "0      2017-10-02 10:56:33  7c396fd4830fd04220f754e42b4e5bff          18.12   \n",
       "1      2017-10-02 10:56:33  7c396fd4830fd04220f754e42b4e5bff           2.00   \n",
       "2      2017-10-02 10:56:33  7c396fd4830fd04220f754e42b4e5bff          18.59   \n",
       "\n",
       "   review_score  \n",
       "0             4  \n",
       "1             4  \n",
       "2             4  "
      ]
     },
     "metadata": {},
     "output_type": "display_data"
    },
    {
     "name": "stdout",
     "output_type": "stream",
     "text": [
      "103677 ligne(s) x 6 colonne(s)\n",
      "\n"
     ]
    }
   ],
   "source": [
    "affiche_aperçu_df(df_merged_avis, \"df_merged_avis\", \"l'ajout des avis'\", 3)"
   ]
  },
  {
   "cell_type": "markdown",
   "metadata": {},
   "source": [
    "### <span style='background:black; color:white'>d/ Ajout des articles</span>\n",
    "\n",
    "Regardons les commandes ('order_id') dans le dataframe fusionne :"
   ]
  },
  {
   "cell_type": "code",
   "execution_count": 700,
   "metadata": {},
   "outputs": [
    {
     "name": "stdout",
     "output_type": "stream",
     "text": [
      "'df_merged_avis' contient 103677 lignes et 6 colonnes\n",
      "'df_merged_avis' contient 98672 commandes different(e)s\n"
     ]
    }
   ],
   "source": [
    "afficheur_dimension_et_unique(\n",
    "    df_merged_avis,\n",
    "    \"df_merged_avis\",\n",
    "    \"commandes\",\n",
    "    \"order_id\")"
   ]
  },
  {
   "cell_type": "markdown",
   "metadata": {},
   "source": [
    "Regardons les commandes ('order_id') dans le fichier des articles :"
   ]
  },
  {
   "cell_type": "code",
   "execution_count": 701,
   "metadata": {},
   "outputs": [
    {
     "name": "stdout",
     "output_type": "stream",
     "text": [
      "'df_articles_clean' contient 112650 lignes et 4 colonnes\n",
      "'df_articles_clean' contient 98666 commandes different(e)s\n"
     ]
    }
   ],
   "source": [
    "afficheur_dimension_et_unique(\n",
    "    df_articles_clean,\n",
    "    \"df_articles_clean\",\n",
    "    \"commandes\",\n",
    "    \"order_id\"\n",
    "    )"
   ]
  },
  {
   "cell_type": "markdown",
   "metadata": {},
   "source": [
    "Nous ajoutons les avis au dataframe fusionne :"
   ]
  },
  {
   "cell_type": "code",
   "execution_count": 702,
   "metadata": {},
   "outputs": [],
   "source": [
    "# Fusionner les DataFrame\n",
    "df_merged = pd.merge(\n",
    "    df_merged_avis,\n",
    "    df_articles_clean,\n",
    "    on=\"order_id\",\n",
    "    how=\"inner\"\n",
    "    )"
   ]
  },
  {
   "cell_type": "markdown",
   "metadata": {},
   "source": [
    "Nous verifions que la fusion s'est bien deroulee :"
   ]
  },
  {
   "cell_type": "code",
   "execution_count": 703,
   "metadata": {},
   "outputs": [
    {
     "name": "stdout",
     "output_type": "stream",
     "text": [
      "'df_merged' contient 117329 lignes et 9 colonnes\n",
      "'df_merged' contient 97916 commandes different(e)s\n"
     ]
    }
   ],
   "source": [
    "afficheur_dimension_et_unique(df_merged, \"df_merged\", \"commandes\", \"order_id\")"
   ]
  },
  {
   "cell_type": "markdown",
   "metadata": {},
   "source": [
    "Nous avons perdu 756 commandes. \n",
    "\n",
    "Il y a 6 commandes de 'df_merged_avis' qui sont des commandes qui ne sont pas\n",
    "presentes dans 'df_articles_clean'. Et il y a 750 commandes qui ne sont pas\n",
    "presentes dans 'df_articles_clean' et 'df_merged_avis' simultanement."
   ]
  },
  {
   "cell_type": "markdown",
   "metadata": {},
   "source": [
    "## <span style='background:yellow; color:black'>9/ Bilan du dataframe fusionne</span>\n",
    "\n",
    "### <span style='background:green'>a/ Aperçu tableau</span>"
   ]
  },
  {
   "cell_type": "code",
   "execution_count": 704,
   "metadata": {},
   "outputs": [
    {
     "name": "stdout",
     "output_type": "stream",
     "text": [
      "Voici l'aspect de 'df_merged' après la fusion des informations utiles\n"
     ]
    },
    {
     "data": {
      "text/html": [
       "<div>\n",
       "<style scoped>\n",
       "    .dataframe tbody tr th:only-of-type {\n",
       "        vertical-align: middle;\n",
       "    }\n",
       "\n",
       "    .dataframe tbody tr th {\n",
       "        vertical-align: top;\n",
       "    }\n",
       "\n",
       "    .dataframe thead th {\n",
       "        text-align: right;\n",
       "    }\n",
       "</style>\n",
       "<table border=\"1\" class=\"dataframe\">\n",
       "  <thead>\n",
       "    <tr style=\"text-align: right;\">\n",
       "      <th></th>\n",
       "      <th>order_id</th>\n",
       "      <th>customer_id</th>\n",
       "      <th>order_purchase_timestamp</th>\n",
       "      <th>customer_unique_id</th>\n",
       "      <th>payment_value</th>\n",
       "      <th>review_score</th>\n",
       "      <th>order_item_id</th>\n",
       "      <th>price</th>\n",
       "      <th>freight_value</th>\n",
       "    </tr>\n",
       "  </thead>\n",
       "  <tbody>\n",
       "    <tr>\n",
       "      <th>0</th>\n",
       "      <td>e481f51cbdc54678b7cc49136f2d6af7</td>\n",
       "      <td>9ef432eb6251297304e76186b10a928d</td>\n",
       "      <td>2017-10-02 10:56:33</td>\n",
       "      <td>7c396fd4830fd04220f754e42b4e5bff</td>\n",
       "      <td>18.12</td>\n",
       "      <td>4</td>\n",
       "      <td>1</td>\n",
       "      <td>29.99</td>\n",
       "      <td>8.72</td>\n",
       "    </tr>\n",
       "    <tr>\n",
       "      <th>1</th>\n",
       "      <td>e481f51cbdc54678b7cc49136f2d6af7</td>\n",
       "      <td>9ef432eb6251297304e76186b10a928d</td>\n",
       "      <td>2017-10-02 10:56:33</td>\n",
       "      <td>7c396fd4830fd04220f754e42b4e5bff</td>\n",
       "      <td>2.00</td>\n",
       "      <td>4</td>\n",
       "      <td>1</td>\n",
       "      <td>29.99</td>\n",
       "      <td>8.72</td>\n",
       "    </tr>\n",
       "    <tr>\n",
       "      <th>2</th>\n",
       "      <td>e481f51cbdc54678b7cc49136f2d6af7</td>\n",
       "      <td>9ef432eb6251297304e76186b10a928d</td>\n",
       "      <td>2017-10-02 10:56:33</td>\n",
       "      <td>7c396fd4830fd04220f754e42b4e5bff</td>\n",
       "      <td>18.59</td>\n",
       "      <td>4</td>\n",
       "      <td>1</td>\n",
       "      <td>29.99</td>\n",
       "      <td>8.72</td>\n",
       "    </tr>\n",
       "  </tbody>\n",
       "</table>\n",
       "</div>"
      ],
      "text/plain": [
       "                           order_id                       customer_id  \\\n",
       "0  e481f51cbdc54678b7cc49136f2d6af7  9ef432eb6251297304e76186b10a928d   \n",
       "1  e481f51cbdc54678b7cc49136f2d6af7  9ef432eb6251297304e76186b10a928d   \n",
       "2  e481f51cbdc54678b7cc49136f2d6af7  9ef432eb6251297304e76186b10a928d   \n",
       "\n",
       "  order_purchase_timestamp                customer_unique_id  payment_value  \\\n",
       "0      2017-10-02 10:56:33  7c396fd4830fd04220f754e42b4e5bff          18.12   \n",
       "1      2017-10-02 10:56:33  7c396fd4830fd04220f754e42b4e5bff           2.00   \n",
       "2      2017-10-02 10:56:33  7c396fd4830fd04220f754e42b4e5bff          18.59   \n",
       "\n",
       "   review_score  order_item_id  price  freight_value  \n",
       "0             4              1  29.99           8.72  \n",
       "1             4              1  29.99           8.72  \n",
       "2             4              1  29.99           8.72  "
      ]
     },
     "metadata": {},
     "output_type": "display_data"
    },
    {
     "name": "stdout",
     "output_type": "stream",
     "text": [
      "117329 ligne(s) x 9 colonne(s)\n",
      "\n"
     ]
    }
   ],
   "source": [
    "affiche_aperçu_df(\n",
    "    df_merged,\n",
    "    \"df_merged\",\n",
    "    \"la fusion des informations utiles\",\n",
    "    3\n",
    ")"
   ]
  },
  {
   "cell_type": "markdown",
   "metadata": {},
   "source": [
    "\n",
    "Informations sur les features du dataframe fusionne :\n",
    "- **order_id** : identifiant des commandes\n",
    "- **customer_id** : identifiant des clients associes aux commandes\n",
    "- **order_purchase_timestamp** : date d'achat de la commande\n",
    "- **customer_unique_id** : identifiant unique des clients\n",
    "- **payment_value** : montant du paiement\n",
    "- **review_score** : score/note de l'avis\n",
    "- **order_item_id** : nombre d'articles commandes\n",
    "- **price** : prix\n",
    "- **freight_value** : valeur du fret"
   ]
  },
  {
   "cell_type": "markdown",
   "metadata": {},
   "source": [
    "### <span style='background:green'>b/ Valeurs manquantes</span>"
   ]
  },
  {
   "cell_type": "code",
   "execution_count": 705,
   "metadata": {},
   "outputs": [
    {
     "data": {
      "text/plain": [
       "order_id                    0\n",
       "customer_id                 0\n",
       "order_purchase_timestamp    0\n",
       "customer_unique_id          0\n",
       "payment_value               0\n",
       "review_score                0\n",
       "order_item_id               0\n",
       "price                       0\n",
       "freight_value               0\n",
       "dtype: int64"
      ]
     },
     "execution_count": 705,
     "metadata": {},
     "output_type": "execute_result"
    }
   ],
   "source": [
    "df_merged.isna().sum()"
   ]
  },
  {
   "cell_type": "markdown",
   "metadata": {},
   "source": [
    "Il n'y a pas de valeurs manquantes."
   ]
  },
  {
   "cell_type": "markdown",
   "metadata": {},
   "source": [
    "### <span style='background:green'>c/ Doublons</span>"
   ]
  },
  {
   "cell_type": "code",
   "execution_count": 706,
   "metadata": {},
   "outputs": [
    {
     "data": {
      "text/plain": [
       "1103"
      ]
     },
     "execution_count": 706,
     "metadata": {},
     "output_type": "execute_result"
    }
   ],
   "source": [
    "df_merged.duplicated().sum()"
   ]
  },
  {
   "cell_type": "markdown",
   "metadata": {},
   "source": [
    "Il y a 1_103 lignes en doublosn. Nous conservons la première ligne de chaque\n",
    "doublon et nous supprimons les autres."
   ]
  },
  {
   "cell_type": "code",
   "execution_count": 707,
   "metadata": {},
   "outputs": [],
   "source": [
    "df_merged_clean = df_merged.drop_duplicates(keep=\"first\")"
   ]
  },
  {
   "cell_type": "markdown",
   "metadata": {},
   "source": [
    "Nous verifions que les doublons ont bien ete supprimes :"
   ]
  },
  {
   "cell_type": "code",
   "execution_count": 708,
   "metadata": {},
   "outputs": [
    {
     "data": {
      "text/plain": [
       "0"
      ]
     },
     "execution_count": 708,
     "metadata": {},
     "output_type": "execute_result"
    }
   ],
   "source": [
    "df_merged_clean.duplicated().sum()"
   ]
  },
  {
   "cell_type": "markdown",
   "metadata": {},
   "source": [
    "### <span style='background:green'>d/ Structure</span>"
   ]
  },
  {
   "cell_type": "code",
   "execution_count": 709,
   "metadata": {},
   "outputs": [
    {
     "name": "stdout",
     "output_type": "stream",
     "text": [
      "<class 'pandas.core.frame.DataFrame'>\n",
      "Index: 116226 entries, 0 to 117328\n",
      "Data columns (total 9 columns):\n",
      " #   Column                    Non-Null Count   Dtype         \n",
      "---  ------                    --------------   -----         \n",
      " 0   order_id                  116226 non-null  object        \n",
      " 1   customer_id               116226 non-null  object        \n",
      " 2   order_purchase_timestamp  116226 non-null  datetime64[ns]\n",
      " 3   customer_unique_id        116226 non-null  object        \n",
      " 4   payment_value             116226 non-null  float64       \n",
      " 5   review_score              116226 non-null  int64         \n",
      " 6   order_item_id             116226 non-null  int64         \n",
      " 7   price                     116226 non-null  float64       \n",
      " 8   freight_value             116226 non-null  float64       \n",
      "dtypes: datetime64[ns](1), float64(3), int64(2), object(3)\n",
      "memory usage: 8.9+ MB\n"
     ]
    }
   ],
   "source": [
    "df_merged_clean.info()"
   ]
  },
  {
   "cell_type": "markdown",
   "metadata": {},
   "source": [
    "Ce dataframe fusionne contient 116_226 lignes et 9 colonnes."
   ]
  },
  {
   "cell_type": "markdown",
   "metadata": {},
   "source": [
    "### <span style='background:green'>e/ Inspection des donnees</span>\n",
    "\n",
    "Resume des features **quantitatives** :"
   ]
  },
  {
   "cell_type": "code",
   "execution_count": 710,
   "metadata": {},
   "outputs": [
    {
     "data": {
      "text/html": [
       "<div>\n",
       "<style scoped>\n",
       "    .dataframe tbody tr th:only-of-type {\n",
       "        vertical-align: middle;\n",
       "    }\n",
       "\n",
       "    .dataframe tbody tr th {\n",
       "        vertical-align: top;\n",
       "    }\n",
       "\n",
       "    .dataframe thead th {\n",
       "        text-align: right;\n",
       "    }\n",
       "</style>\n",
       "<table border=\"1\" class=\"dataframe\">\n",
       "  <thead>\n",
       "    <tr style=\"text-align: right;\">\n",
       "      <th></th>\n",
       "      <th>order_purchase_timestamp</th>\n",
       "      <th>payment_value</th>\n",
       "      <th>review_score</th>\n",
       "      <th>order_item_id</th>\n",
       "      <th>price</th>\n",
       "      <th>freight_value</th>\n",
       "    </tr>\n",
       "  </thead>\n",
       "  <tbody>\n",
       "    <tr>\n",
       "      <th>count</th>\n",
       "      <td>116226</td>\n",
       "      <td>116226.00</td>\n",
       "      <td>116226.00</td>\n",
       "      <td>116226.00</td>\n",
       "      <td>116226.00</td>\n",
       "      <td>116226.00</td>\n",
       "    </tr>\n",
       "    <tr>\n",
       "      <th>mean</th>\n",
       "      <td>2017-12-30 19:58:10.008483328</td>\n",
       "      <td>172.97</td>\n",
       "      <td>4.03</td>\n",
       "      <td>1.19</td>\n",
       "      <td>120.60</td>\n",
       "      <td>20.02</td>\n",
       "    </tr>\n",
       "    <tr>\n",
       "      <th>min</th>\n",
       "      <td>2016-09-04 21:15:19</td>\n",
       "      <td>0.00</td>\n",
       "      <td>1.00</td>\n",
       "      <td>1.00</td>\n",
       "      <td>0.85</td>\n",
       "      <td>0.00</td>\n",
       "    </tr>\n",
       "    <tr>\n",
       "      <th>25%</th>\n",
       "      <td>2017-09-12 09:23:36.750000128</td>\n",
       "      <td>61.42</td>\n",
       "      <td>4.00</td>\n",
       "      <td>1.00</td>\n",
       "      <td>39.90</td>\n",
       "      <td>13.08</td>\n",
       "    </tr>\n",
       "    <tr>\n",
       "      <th>50%</th>\n",
       "      <td>2018-01-18 16:48:57.500000</td>\n",
       "      <td>108.76</td>\n",
       "      <td>5.00</td>\n",
       "      <td>1.00</td>\n",
       "      <td>74.90</td>\n",
       "      <td>16.28</td>\n",
       "    </tr>\n",
       "    <tr>\n",
       "      <th>75%</th>\n",
       "      <td>2018-05-04 00:24:03.249999872</td>\n",
       "      <td>189.56</td>\n",
       "      <td>5.00</td>\n",
       "      <td>1.00</td>\n",
       "      <td>134.90</td>\n",
       "      <td>21.18</td>\n",
       "    </tr>\n",
       "    <tr>\n",
       "      <th>max</th>\n",
       "      <td>2018-09-03 09:06:57</td>\n",
       "      <td>13664.08</td>\n",
       "      <td>5.00</td>\n",
       "      <td>21.00</td>\n",
       "      <td>6735.00</td>\n",
       "      <td>409.68</td>\n",
       "    </tr>\n",
       "    <tr>\n",
       "      <th>std</th>\n",
       "      <td>NaN</td>\n",
       "      <td>266.18</td>\n",
       "      <td>1.39</td>\n",
       "      <td>0.68</td>\n",
       "      <td>183.14</td>\n",
       "      <td>15.81</td>\n",
       "    </tr>\n",
       "  </tbody>\n",
       "</table>\n",
       "</div>"
      ],
      "text/plain": [
       "            order_purchase_timestamp  payment_value  review_score  \\\n",
       "count                         116226      116226.00     116226.00   \n",
       "mean   2017-12-30 19:58:10.008483328         172.97          4.03   \n",
       "min              2016-09-04 21:15:19           0.00          1.00   \n",
       "25%    2017-09-12 09:23:36.750000128          61.42          4.00   \n",
       "50%       2018-01-18 16:48:57.500000         108.76          5.00   \n",
       "75%    2018-05-04 00:24:03.249999872         189.56          5.00   \n",
       "max              2018-09-03 09:06:57       13664.08          5.00   \n",
       "std                              NaN         266.18          1.39   \n",
       "\n",
       "       order_item_id      price  freight_value  \n",
       "count      116226.00  116226.00      116226.00  \n",
       "mean            1.19     120.60          20.02  \n",
       "min             1.00       0.85           0.00  \n",
       "25%             1.00      39.90          13.08  \n",
       "50%             1.00      74.90          16.28  \n",
       "75%             1.00     134.90          21.18  \n",
       "max            21.00    6735.00         409.68  \n",
       "std             0.68     183.14          15.81  "
      ]
     },
     "execution_count": 710,
     "metadata": {},
     "output_type": "execute_result"
    }
   ],
   "source": [
    "df_merged_clean.describe().round(2)"
   ]
  },
  {
   "cell_type": "markdown",
   "metadata": {},
   "source": [
    "Resume des features **qualitatives** : "
   ]
  },
  {
   "cell_type": "code",
   "execution_count": 711,
   "metadata": {},
   "outputs": [
    {
     "data": {
      "text/html": [
       "<div>\n",
       "<style scoped>\n",
       "    .dataframe tbody tr th:only-of-type {\n",
       "        vertical-align: middle;\n",
       "    }\n",
       "\n",
       "    .dataframe tbody tr th {\n",
       "        vertical-align: top;\n",
       "    }\n",
       "\n",
       "    .dataframe thead th {\n",
       "        text-align: right;\n",
       "    }\n",
       "</style>\n",
       "<table border=\"1\" class=\"dataframe\">\n",
       "  <thead>\n",
       "    <tr style=\"text-align: right;\">\n",
       "      <th></th>\n",
       "      <th>order_id</th>\n",
       "      <th>customer_id</th>\n",
       "      <th>customer_unique_id</th>\n",
       "    </tr>\n",
       "  </thead>\n",
       "  <tbody>\n",
       "    <tr>\n",
       "      <th>count</th>\n",
       "      <td>116226</td>\n",
       "      <td>116226</td>\n",
       "      <td>116226</td>\n",
       "    </tr>\n",
       "    <tr>\n",
       "      <th>unique</th>\n",
       "      <td>97916</td>\n",
       "      <td>97916</td>\n",
       "      <td>94720</td>\n",
       "    </tr>\n",
       "    <tr>\n",
       "      <th>top</th>\n",
       "      <td>fedcd9f7ccdc8cba3a18defedd1a5547</td>\n",
       "      <td>13aa59158da63ba0e93ec6ac2c07aacb</td>\n",
       "      <td>f9ae226291893fda10af7965268fb7f6</td>\n",
       "    </tr>\n",
       "    <tr>\n",
       "      <th>freq</th>\n",
       "      <td>34</td>\n",
       "      <td>34</td>\n",
       "      <td>35</td>\n",
       "    </tr>\n",
       "  </tbody>\n",
       "</table>\n",
       "</div>"
      ],
      "text/plain": [
       "                                order_id                       customer_id  \\\n",
       "count                             116226                            116226   \n",
       "unique                             97916                             97916   \n",
       "top     fedcd9f7ccdc8cba3a18defedd1a5547  13aa59158da63ba0e93ec6ac2c07aacb   \n",
       "freq                                  34                                34   \n",
       "\n",
       "                      customer_unique_id  \n",
       "count                             116226  \n",
       "unique                             94720  \n",
       "top     f9ae226291893fda10af7965268fb7f6  \n",
       "freq                                  35  "
      ]
     },
     "execution_count": 711,
     "metadata": {},
     "output_type": "execute_result"
    }
   ],
   "source": [
    "df_merged_clean.describe(exclude=[np.number, \"datetime64[ns]\"])"
   ]
  },
  {
   "cell_type": "markdown",
   "metadata": {},
   "source": [
    "<div class=\"alert alert-block alert-success\"><b>Bilan: </b>\n",
    "\n",
    "Ce dataframe fusionne **'df_merged_clean'** contient 116_226 lignes\n",
    "concernant **97_916 commandes** :\n",
    "- realisees entre le 04/09/2016 et le 03/09/2018.\n",
    "<br>\n",
    "\n",
    "- comportant entre 1 et 21 articles differents dont les prix unitaires\n",
    "varient entre 0,85 R$ et 6_735 R$.\n",
    "\n",
    "- pour un montant :\n",
    "  - d'achat compris entre 0 R$ et 13_664 R$.\n",
    "  - de fret compris entre 0 R$ et 409 R$.\n",
    "<br><br>\n",
    "- par **94_720 clients** differents qui ont ecrit des avis entre 1/5 et 5/5.\n",
    "</div> "
   ]
  },
  {
   "cell_type": "markdown",
   "metadata": {},
   "source": [
    "## <span style='background:yellow; color:black'>10/ Segmentation RFM+S</span>\n",
    "\n",
    "Je calcule les 3 indicateurs RFM :\n",
    "- **Recence** : nombre de jours depuis la dernière commande\n",
    "- **Frequence** : nombre de commandes\n",
    "- **Montant** : montant total des commandes\n",
    "\n",
    "J'ajoute à ce dataset l'indicateur relatif aux avis :\n",
    "- **Satisfaction** : note moyenne des avis"
   ]
  },
  {
   "cell_type": "code",
   "execution_count": 712,
   "metadata": {},
   "outputs": [
    {
     "data": {
      "text/html": [
       "<div>\n",
       "<style scoped>\n",
       "    .dataframe tbody tr th:only-of-type {\n",
       "        vertical-align: middle;\n",
       "    }\n",
       "\n",
       "    .dataframe tbody tr th {\n",
       "        vertical-align: top;\n",
       "    }\n",
       "\n",
       "    .dataframe thead th {\n",
       "        text-align: right;\n",
       "    }\n",
       "</style>\n",
       "<table border=\"1\" class=\"dataframe\">\n",
       "  <thead>\n",
       "    <tr style=\"text-align: right;\">\n",
       "      <th></th>\n",
       "      <th>recence</th>\n",
       "      <th>frequence</th>\n",
       "      <th>montant</th>\n",
       "      <th>satisfaction</th>\n",
       "    </tr>\n",
       "    <tr>\n",
       "      <th>customer_unique_id</th>\n",
       "      <th></th>\n",
       "      <th></th>\n",
       "      <th></th>\n",
       "      <th></th>\n",
       "    </tr>\n",
       "  </thead>\n",
       "  <tbody>\n",
       "    <tr>\n",
       "      <th>0000366f3b9a7992bf8c76cfdf3221e2</th>\n",
       "      <td>115</td>\n",
       "      <td>1</td>\n",
       "      <td>141.90</td>\n",
       "      <td>5.0</td>\n",
       "    </tr>\n",
       "    <tr>\n",
       "      <th>0000b849f77a49e4a4ce2b2a4ca5be3f</th>\n",
       "      <td>118</td>\n",
       "      <td>1</td>\n",
       "      <td>27.19</td>\n",
       "      <td>4.0</td>\n",
       "    </tr>\n",
       "    <tr>\n",
       "      <th>0000f46a3911fa3c0805444483337064</th>\n",
       "      <td>541</td>\n",
       "      <td>1</td>\n",
       "      <td>86.22</td>\n",
       "      <td>3.0</td>\n",
       "    </tr>\n",
       "  </tbody>\n",
       "</table>\n",
       "</div>"
      ],
      "text/plain": [
       "                                  recence  frequence  montant  satisfaction\n",
       "customer_unique_id                                                         \n",
       "0000366f3b9a7992bf8c76cfdf3221e2      115          1   141.90           5.0\n",
       "0000b849f77a49e4a4ce2b2a4ca5be3f      118          1    27.19           4.0\n",
       "0000f46a3911fa3c0805444483337064      541          1    86.22           3.0"
      ]
     },
     "metadata": {},
     "output_type": "display_data"
    },
    {
     "data": {
      "text/plain": [
       "(94720, 4)"
      ]
     },
     "metadata": {},
     "output_type": "display_data"
    }
   ],
   "source": [
    "# Calculer recence, frequence et montant (price + freight) pour chaque client\n",
    "rfms = df_merged_clean.groupby(\"customer_unique_id\").agg(\n",
    "    {\n",
    "        \"order_purchase_timestamp\": lambda x: (\n",
    "            df_merged_clean[\"order_purchase_timestamp\"].max() - x.max()\n",
    "        ).days,\n",
    "        \"order_id\": \"count\",\n",
    "        \"price\": \"sum\",\n",
    "        \"freight_value\": \"sum\",\n",
    "        \"review_score\": \"mean\",\n",
    "    }\n",
    ")\n",
    "\n",
    "# Ajouter 'price' et 'freight_value' ensemble pour obtenir le 'montant'\n",
    "rfms[\"montant\"] = rfms[\"price\"] + rfms[\"freight_value\"]\n",
    "\n",
    "# Supprimer les features 'price' et 'freight_value' car plus necessaires\n",
    "rfms.drop([\"price\", \"freight_value\"], axis=1, inplace=True)\n",
    "\n",
    "# Renommer les autres features\n",
    "rfms.rename(\n",
    "    columns={\n",
    "        \"order_purchase_timestamp\": \"recence\",\n",
    "        \"order_id\": \"frequence\",\n",
    "        \"review_score\": \"satisfaction\",\n",
    "    },\n",
    "    inplace=True,\n",
    ")\n",
    "\n",
    "# Reordonner les colonnes RFM+S\n",
    "rfms = rfms[[\"recence\", \"frequence\", \"montant\", \"satisfaction\"]]\n",
    "\n",
    "# Affichage df\n",
    "display(rfms.head(3))\n",
    "display(rfms.shape)"
   ]
  },
  {
   "cell_type": "markdown",
   "metadata": {},
   "source": [
    "# <span style='background:blue'>Etape 3 : Analyse exploratoire</span>\n",
    "\n",
    "## <span style='background:yellow; color:black'>1/ Analyse univariee</span>\n",
    "\n",
    "Nous affichons la distribution de la recence :"
   ]
  },
  {
   "cell_type": "code",
   "execution_count": 713,
   "metadata": {},
   "outputs": [
    {
     "data": {
      "text/plain": [
       "<Axes: xlabel='recence', ylabel='Count'>"
      ]
     },
     "execution_count": 713,
     "metadata": {},
     "output_type": "execute_result"
    },
    {
     "data": {
      "image/png": "[encoded data removed]",
      "text/plain": [
       "<Figure size 640x480 with 1 Axes>"
      ]
     },
     "metadata": {},
     "output_type": "display_data"
    }
   ],
   "source": [
    "sns.histplot(rfms[\"recence\"], kde=False, color=colors_list[0], binwidth=10)"
   ]
  },
  {
   "cell_type": "markdown",
   "metadata": {},
   "source": [
    "Nous affichons la distribution de la frequence :"
   ]
  },
  {
   "cell_type": "code",
   "execution_count": 714,
   "metadata": {},
   "outputs": [
    {
     "data": {
      "text/plain": [
       "<Axes: xlabel='frequence', ylabel='Count'>"
      ]
     },
     "execution_count": 714,
     "metadata": {},
     "output_type": "execute_result"
    },
    {
     "data": {
      "image/png": "[encoded data removed]",
      "text/plain": [
       "<Figure size 640x480 with 1 Axes>"
      ]
     },
     "metadata": {},
     "output_type": "display_data"
    }
   ],
   "source": [
    "sns.histplot(rfms[\"frequence\"], kde=False, color=colors_list[1], binwidth=1)"
   ]
  },
  {
   "cell_type": "markdown",
   "metadata": {},
   "source": [
    "Nous affichons la distribution du montant :"
   ]
  },
  {
   "cell_type": "code",
   "execution_count": 715,
   "metadata": {},
   "outputs": [
    {
     "data": {
      "text/plain": [
       "<Axes: xlabel='montant', ylabel='Count'>"
      ]
     },
     "execution_count": 715,
     "metadata": {},
     "output_type": "execute_result"
    },
    {
     "data": {
      "image/png": "[encoded data removed]",
      "text/plain": [
       "<Figure size 640x480 with 1 Axes>"
      ]
     },
     "metadata": {},
     "output_type": "display_data"
    }
   ],
   "source": [
    "sns.histplot(rfms[\"montant\"], kde=False, color=colors_list[2], binwidth=100)"
   ]
  },
  {
   "cell_type": "markdown",
   "metadata": {},
   "source": [
    "Nous affichons la distribution de la satisfaction :"
   ]
  },
  {
   "cell_type": "code",
   "execution_count": 716,
   "metadata": {},
   "outputs": [
    {
     "data": {
      "text/plain": [
       "<Axes: xlabel='satisfaction', ylabel='Count'>"
      ]
     },
     "execution_count": 716,
     "metadata": {},
     "output_type": "execute_result"
    },
    {
     "data": {
      "image/png": "[encoded data removed]",
      "text/plain": [
       "<Figure size 640x480 with 1 Axes>"
      ]
     },
     "metadata": {},
     "output_type": "display_data"
    }
   ],
   "source": [
    "sns.histplot(rfms[\"satisfaction\"], kde=False, color=colors_list[3], binwidth=1)"
   ]
  },
  {
   "cell_type": "markdown",
   "metadata": {},
   "source": [
    "## <span style='background:yellow; color:black'>2/ Analyse bivariee</span>\n",
    "\n",
    "Nous explorons les relations entre les variables grâce à une matrice de\n",
    "correlation :"
   ]
  },
  {
   "cell_type": "code",
   "execution_count": 717,
   "metadata": {},
   "outputs": [
    {
     "data": {
      "image/png": "[encoded data removed]",
      "text/plain": [
       "<Figure size 1400x1400 with 2 Axes>"
      ]
     },
     "metadata": {},
     "output_type": "display_data"
    }
   ],
   "source": [
    "# matrice de correlation\n",
    "corr_matrix = rfms.corr()\n",
    "\n",
    "# Creer un masque pour masquer les valeurs au-dessus de la diagonale\n",
    "mask = np.triu(np.ones_like(corr_matrix, dtype=bool))\n",
    "\n",
    "# heatmap\n",
    "fig, ax = plt.subplots(figsize=(14, 14))\n",
    "heatmap = sns.heatmap(\n",
    "    corr_matrix,\n",
    "    square=True,\n",
    "    linewidths=1,\n",
    "    annot=True,\n",
    "    fmt=\".2f\",\n",
    "    cmap=\"YlGnBu\",\n",
    "    mask=mask,\n",
    "    ax=ax,\n",
    ")\n",
    "\n",
    "# Ajout du titre du graphique, des axes et de la colorbar\n",
    "plt.title(\"Matrice de correlations de Pearson\", fontdict=font_title)\n",
    "plt.xlabel(\"Nom de la variable\", fontdict=font_axe)\n",
    "plt.ylabel(\"Nom de la variable\", fontdict=font_axe)\n",
    "plt.xticks(rotation=45, ha=\"right\")\n",
    "cbar = heatmap.collections[0].colorbar\n",
    "cbar.set_label(\n",
    "    \"coefficient de correlation de Pearson\",\n",
    "    labelpad=20,\n",
    "    fontdict=font_axe\n",
    ")\n",
    "plt.show()"
   ]
  },
  {
   "cell_type": "markdown",
   "metadata": {},
   "source": [
    "Il n'y a pas de correlation forte entre les features. Nous remarquons\n",
    "neanmoins une correlation moderee entre la frequence et le montant (r=0,31)."
   ]
  },
  {
   "cell_type": "markdown",
   "metadata": {},
   "source": [
    "# <span style='background:blue'>Etape 4 : Exportation du dataset nettoye</span>\n",
    "___"
   ]
  },
  {
   "cell_type": "code",
   "execution_count": 718,
   "metadata": {},
   "outputs": [
    {
     "name": "stdout",
     "output_type": "stream",
     "text": [
      "Voici l'aspect de 'rfms' après la segmentation RFM et satisfaction\n"
     ]
    },
    {
     "data": {
      "text/html": [
       "<div>\n",
       "<style scoped>\n",
       "    .dataframe tbody tr th:only-of-type {\n",
       "        vertical-align: middle;\n",
       "    }\n",
       "\n",
       "    .dataframe tbody tr th {\n",
       "        vertical-align: top;\n",
       "    }\n",
       "\n",
       "    .dataframe thead th {\n",
       "        text-align: right;\n",
       "    }\n",
       "</style>\n",
       "<table border=\"1\" class=\"dataframe\">\n",
       "  <thead>\n",
       "    <tr style=\"text-align: right;\">\n",
       "      <th></th>\n",
       "      <th>recence</th>\n",
       "      <th>frequence</th>\n",
       "      <th>montant</th>\n",
       "      <th>satisfaction</th>\n",
       "    </tr>\n",
       "    <tr>\n",
       "      <th>customer_unique_id</th>\n",
       "      <th></th>\n",
       "      <th></th>\n",
       "      <th></th>\n",
       "      <th></th>\n",
       "    </tr>\n",
       "  </thead>\n",
       "  <tbody>\n",
       "    <tr>\n",
       "      <th>0000366f3b9a7992bf8c76cfdf3221e2</th>\n",
       "      <td>115</td>\n",
       "      <td>1</td>\n",
       "      <td>141.90</td>\n",
       "      <td>5.0</td>\n",
       "    </tr>\n",
       "    <tr>\n",
       "      <th>0000b849f77a49e4a4ce2b2a4ca5be3f</th>\n",
       "      <td>118</td>\n",
       "      <td>1</td>\n",
       "      <td>27.19</td>\n",
       "      <td>4.0</td>\n",
       "    </tr>\n",
       "    <tr>\n",
       "      <th>0000f46a3911fa3c0805444483337064</th>\n",
       "      <td>541</td>\n",
       "      <td>1</td>\n",
       "      <td>86.22</td>\n",
       "      <td>3.0</td>\n",
       "    </tr>\n",
       "  </tbody>\n",
       "</table>\n",
       "</div>"
      ],
      "text/plain": [
       "                                  recence  frequence  montant  satisfaction\n",
       "customer_unique_id                                                         \n",
       "0000366f3b9a7992bf8c76cfdf3221e2      115          1   141.90           5.0\n",
       "0000b849f77a49e4a4ce2b2a4ca5be3f      118          1    27.19           4.0\n",
       "0000f46a3911fa3c0805444483337064      541          1    86.22           3.0"
      ]
     },
     "metadata": {},
     "output_type": "display_data"
    },
    {
     "name": "stdout",
     "output_type": "stream",
     "text": [
      "94720 ligne(s) x 4 colonne(s)\n",
      "\n"
     ]
    }
   ],
   "source": [
    "# Aperçu dataframe nettoye\n",
    "affiche_aperçu_df(rfms, \"rfms\", \"la segmentation RFM et satisfaction\", 3)"
   ]
  },
  {
   "cell_type": "markdown",
   "metadata": {},
   "source": [
    "Nous allons sauvegarder le dataset pour l'utiliser dans nos modèles de machine learning."
   ]
  },
  {
   "cell_type": "code",
   "execution_count": 719,
   "metadata": {},
   "outputs": [],
   "source": [
    "# Chemin du dossier et nom du fichier de l'export nettoye\n",
    "output_directory = \"data/cleaned\"\n",
    "nomFichier_export = \"olist_clients_segmentation.csv\"\n",
    "\n",
    "# Verification de l'existence du dossier\n",
    "os.makedirs(output_directory, exist_ok=True)\n",
    "\n",
    "# Chemin complet du fichier export\n",
    "output_file = os.path.join(output_directory, nomFichier_export)\n",
    "\n",
    "# export df nettoye en CSV (tabulation en separateur)\n",
    "rfms.to_csv(output_file, sep=\"\\t\", encoding=\"utf-8\", index=True)"
   ]
  },
  {
   "cell_type": "markdown",
   "metadata": {},
   "source": [
    "# <span style='background:blue'>Conclusion</span>\n",
    "\n",
    "Le dataset fourni par Olist nous permet d'extraire les donnees des 97_916\n",
    "clients qui ont dejà realise au moins 1 commande entre septembre 2016 et\n",
    "septembre 2018. Sur cette periode, nous avons extrait la recence (date de\n",
    "la dernière commande), la frequence (nombre de commande sur la periode), le\n",
    "montant total des commandes (prix articles + prix de fret) et la satisfaction\n",
    "de ces clients. Ces donnees sont exportees dans un fichier CSV pour être\n",
    "utilisees dans nos modèles de machine learning."
   ]
  },
  {
   "cell_type": "code",
   "execution_count": 720,
   "metadata": {},
   "outputs": [
    {
     "name": "stdout",
     "output_type": "stream",
     "text": [
      "Duree totale pour faire tourner le notebook : 0 minute(s) 43 seconde(s)\n"
     ]
    }
   ],
   "source": [
    "# Afficher temps d'execution du notebook\n",
    "calculer_duree_notebook(start_time)"
   ]
  }
 ],
 "metadata": {
  "kernelspec": {
   "display_name": "env",
   "language": "python",
   "name": "python3"
  },
  "language_info": {
   "codemirror_mode": {
    "name": "ipython",
    "version": 3
   },
   "file_extension": ".py",
   "mimetype": "text/x-python",
   "name": "python",
   "nbconvert_exporter": "python",
   "pygments_lexer": "ipython3",
   "version": "3.11.9"
  }
 },
 "nbformat": 4,
 "nbformat_minor": 2
}

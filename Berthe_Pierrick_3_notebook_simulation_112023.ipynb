{
 "cells": [
  {
   "cell_type": "markdown",
   "metadata": {},
   "source": [
    "# <span style='color:SteelBlue'>P5 - Segmentez des clients d'un site e-commerce (part 3)</span>"
   ]
  },
  {
   "cell_type": "markdown",
   "metadata": {},
   "source": [
    "<img src=\"https://asset.brandfetch.io/idvSn4Org5/idCJV4h5Ot.png\" width=\"400\" height=\"400\">"
   ]
  },
  {
   "cell_type": "markdown",
   "metadata": {},
   "source": [
    "# <span style='background:white; color:black'>Sommaire</span>\n",
    "\n",
    "Importations des librairies utilisées dans ce notebook <br>\n",
    "\n",
    "Paramètres d'affichage du notebook <br>\n",
    "\n",
    "Fonctions utilisées dans ce notebook <br>\n",
    "\n",
    "# <span style='background:red; color:white'>A METTRE A JOUR</span>\n",
    "\n",
    "**Etape 1 : Description des données**\n",
    "\n",
    "\n",
    "Conclusion"
   ]
  },
  {
   "cell_type": "markdown",
   "metadata": {},
   "source": [
    "# <span style='background:blue'>Introduction</span>\n",
    "\n",
    "Olist souhaite que nous fournissons à ses équipes d'e-commerce une segmentation des clients qu’elles pourront utiliser au quotidien pour leurs campagnes de communication.\n",
    "\n",
    "Nous devons fournir à l’équipe Marketing une description actionable de votre segmentation et de sa logique sous-jacente pour une utilisation optimale, ainsi qu’une proposition de contrat de maintenance basée sur une analyse de la stabilité des segments au cours du temps.\n",
    "___\n",
    "\n",
    "**Mission**\n",
    "\n",
    "**Réaliser la segmentation des clients en utilisant des méthodes non-superviséees**. Notre objectif est de comprendre les différents types d’utilisateurs grâce à leur comportement et à leurs données personnelles. Pour cela nous devons :\n",
    "1. Réaliser une courte analyse exploratoire.\n",
    "2. Tester différents modèles de segmentation afin de répondre au mieux à la problématique.\n",
    "3. Créer une proposition de contrat de maintenance basée sur une analyse de la stabilité des segments au cours du temps.\n",
    "\n",
    "Ce notebook présente la 3ème partie. Nous réalisons une simulation pour déterminer la stabilité des segments au cours du temps pour émettre une proposition de fréquence de maintenance au cours du temps.\n",
    "___\n",
    "\n",
    "**Source des datasets**<br>\n",
    "### <span style='background:red; color:white'>A METTRE A JOUR</span>\n",
    "\n",
    "Olist nous fournit une base de données anonymisée comportant des informations sur l’historique de commandes, les produits achetés, les commentaires de satisfaction, et la localisation des clients depuis janvier 2017.\n",
    "\n",
    "Ce dataset a été nettoyé et enrichi dans le notebook 1. Nous allons donc utiliser le dataset issu du notebook 1 pour réaliser la segmentation des clients.\n",
    "\n",
    "nom du fichier : **olist_clients_segmentation.csv**"
   ]
  },
  {
   "cell_type": "markdown",
   "metadata": {},
   "source": [
    "# <span style='background:grey'>Importations des librairies utilisées dans ce notebook</span>"
   ]
  },
  {
   "cell_type": "code",
   "execution_count": 2,
   "metadata": {},
   "outputs": [
    {
     "name": "stdout",
     "output_type": "stream",
     "text": [
      "Version des librairies utilisées :\n",
      "Python        : 3.11.6 (tags/v3.11.6:8b6ee5b, Oct  2 2023, 14:57:12) [MSC v.1935 64 bit (AMD64)]\n",
      "Matplotlib    : 3.8.2\n",
      "NumPy         : 1.26.2\n",
      "Pandas        : 2.1.3\n",
      "Scipy         : 1.11.4\n",
      "Seaborn       : 0.13.0\n",
      "\n",
      "Code lancé le : 2023-12-05T12:32:32.061249\n"
     ]
    }
   ],
   "source": [
    "# Librairies\n",
    "import os.path\n",
    "import sys\n",
    "import matplotlib as mpl\n",
    "import matplotlib.pyplot as plt\n",
    "from matplotlib.ticker import FuncFormatter\n",
    "import pandas as pd\n",
    "import seaborn as sns\n",
    "import numpy as np\n",
    "import time\n",
    "from IPython.display import display\n",
    "import scipy\n",
    "from scipy.stats import shapiro\n",
    "from datetime import datetime\n",
    "\n",
    "# Affichage plot dans le notebook\n",
    "%matplotlib inline\n",
    "\n",
    "# Versions\n",
    "print('Version des librairies utilisées :')\n",
    "print('Python        : ' + sys.version)\n",
    "print('Matplotlib    : ' + mpl.__version__)\n",
    "print('NumPy         : ' + np.version.full_version)\n",
    "print('Pandas        : ' + pd.__version__)\n",
    "print('Scipy         : ' + scipy.__version__)\n",
    "print('Seaborn       : ' + sns.__version__)\n",
    "\n",
    "# Afficher heure lancement\n",
    "maintenant = datetime.now().isoformat()\n",
    "print('\\nCode lancé le : ' + maintenant)\n",
    "\n",
    "# Enregistrer l'heure de début\n",
    "start_time = time.time()"
   ]
  },
  {
   "cell_type": "markdown",
   "metadata": {},
   "source": [
    "# <span style='background:grey'>Paramètres d'affichage du notebook</span>"
   ]
  },
  {
   "cell_type": "code",
   "execution_count": 3,
   "metadata": {},
   "outputs": [],
   "source": [
    "# paramétrage des paramètres d'affichage dans le notebook (pour afficher les définitions des indicateurs)\n",
    "pd.set_option('display.max_row', 100)\n",
    "pd.set_option('display.max_column', 100)\n",
    "pd.set_option('display.precision', 5)\n",
    "\n",
    "# Création d'1 palette de couleurs\n",
    "colors_list = ['Gold', 'MediumPurple', 'DarkOrange', 'LimeGreen', 'Tomato', 'SteelBlue', 'SaddleBrown', 'DeepPink']\n",
    "\n",
    "# Définit le style de la police pour le titre des graphiques\n",
    "font_title = {'family': 'Times New Roman',\n",
    "                'color': '000000',  # Noir en notation hexadécimale\n",
    "                'size': 22}\n",
    "\n",
    "# Définit le style de la police pour les axes du graphique\n",
    "font_axe = {'family': 'Times New Roman',\n",
    "                'color': '000000',  # Noir en notation hexadécimale\n",
    "                'size': 16}\n",
    "\n",
    "# Seuil de significativité des tests statistiques\n",
    "seuil_significativite = 0.05"
   ]
  },
  {
   "cell_type": "markdown",
   "metadata": {},
   "source": [
    "# <span style='background:grey'>Fonctions utilisées dans ce notebook</span>"
   ]
  },
  {
   "cell_type": "code",
   "execution_count": null,
   "metadata": {},
   "outputs": [],
   "source": []
  },
  {
   "cell_type": "markdown",
   "metadata": {},
   "source": [
    "# <span style='background:grey'>Importation des données</span>\n",
    "\n",
    "Importation du fichiers CSV avec Pandas"
   ]
  },
  {
   "cell_type": "code",
   "execution_count": null,
   "metadata": {},
   "outputs": [],
   "source": [
    "# Définir le chemin\n",
    "chemin = \"./data/cleaned/\"\n",
    "\n",
    "# Obtenir une liste de tous les fichiers dans le répertoire\n",
    "fichiers = os.listdir(chemin)\n",
    "\n",
    "# Initialiser un dictionnaire vide et le print de la liste des fichiers importés\n",
    "data_brut = {}\n",
    "print('===> Liste des fichiers importés: <====\\n')\n",
    "\n",
    "# Boucle sur chaque fichier\n",
    "for fichier in fichiers:\n",
    "    \n",
    "    # Traiter uniquement les fichiers .csv\n",
    "    if fichier.endswith('.csv'):\n",
    "        print(fichier)\n",
    "        \n",
    "        # Lire le fichier csv et le stocker dans le dictionnaire\n",
    "        data_brut[fichier] = pd.read_csv(chemin + fichier, sep=\",\", encoding='utf-8')"
   ]
  },
  {
   "cell_type": "markdown",
   "metadata": {},
   "source": [
    "# <span style='background:blue'>Etape 1 : ...</span>"
   ]
  },
  {
   "cell_type": "code",
   "execution_count": null,
   "metadata": {},
   "outputs": [],
   "source": []
  }
 ],
 "metadata": {
  "kernelspec": {
   "display_name": "env",
   "language": "python",
   "name": "python3"
  },
  "language_info": {
   "codemirror_mode": {
    "name": "ipython",
    "version": 3
   },
   "file_extension": ".py",
   "mimetype": "text/x-python",
   "name": "python",
   "nbconvert_exporter": "python",
   "pygments_lexer": "ipython3",
   "version": "3.11.6"
  }
 },
 "nbformat": 4,
 "nbformat_minor": 2
}

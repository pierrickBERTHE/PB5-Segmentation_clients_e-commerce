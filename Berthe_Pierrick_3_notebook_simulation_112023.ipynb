{
 "cells": [
  {
   "cell_type": "markdown",
   "metadata": {},
   "source": [
    "# <span style='color:SteelBlue'>PB5 - Segmentation_clients_e-commerce (part 3)</span>"
   ]
  },
  {
   "cell_type": "markdown",
   "metadata": {},
   "source": [
    "<img src=\"https://asset.brandfetch.io/idvSn4Org5/idCJV4h5Ot.png\" width=\"400\" height=\"400\">"
   ]
  },
  {
   "cell_type": "markdown",
   "metadata": {},
   "source": [
    "# <span style='background:white; color:black'>Sommaire</span>\n",
    "\n",
    "**Introduction**\n",
    "\n",
    "Importations des librairies utilisées dans ce notebook\n",
    "\n",
    "Paramètres d'affichage du notebook\n",
    "\n",
    "Fonctions utilisées dans ce notebook\n",
    "\n",
    "Importation des données\n",
    "\n",
    "**Etape 1 : Création des datasets par plage temporelles**\n",
    "- _1/ Nettoyage récence_\n",
    "- _2/ Détermination des plages temporelles_\n",
    "- _3/ Création des datasets des plages temporelles_\n",
    "\n",
    "**Etape 2 : Clustering période de référence**\n",
    "\n",
    "**Etape 3 : Prédictions des clusters des nouveaux clients**\n",
    "- _1/ Prédictions à partir du modèle de référence_\n",
    "- _2/ Prédictions à partir des modèles entrainés sur la plage correspondante_\n",
    "\n",
    "**Etape 4 : Analyse de l'obsolescence du clustering**\n",
    "- _1/ Calcul de l'ARI_\n",
    "- _2/ Visualisation de l'ARI_\n",
    "\n",
    "**Conclusion**"
   ]
  },
  {
   "cell_type": "markdown",
   "metadata": {},
   "source": [
    "# <span style='background:blue'>Introduction</span>\n",
    "\n",
    "Olist souhaite que nous fournissons à ses équipes d'e-commerce une\n",
    "segmentation des clients qu’elles pourront utiliser au quotidien pour leurs\n",
    "campagnes de communication.\n",
    "\n",
    "Nous devons fournir à l’équipe Marketing une description actionable de votre\n",
    "segmentation et de sa logique sous-jacente pour une utilisation optimale,\n",
    "ainsi qu’une proposition de contrat de maintenance basée sur une analyse de la\n",
    "stabilité des segments au cours du temps.\n",
    "___\n",
    "\n",
    "**Mission**\n",
    "\n",
    "**Réaliser la segmentation des clients en utilisant des méthodes**\n",
    "**non-superviséees**. Notre objectif est de comprendre les différents types\n",
    "d’utilisateurs grâce à leur comportement et à leurs données personnelles.\n",
    "Pour cela nous devons :\n",
    "1. Réaliser une courte analyse exploratoire.\n",
    "2. Tester différents modèles de segmentation afin de répondre au mieux à la\n",
    "problématique.\n",
    "3. Créer une proposition de contrat de maintenance basée sur une analyse de\n",
    "la stabilité des segments au cours du temps.\n",
    "\n",
    "Ce notebook présente la 3ème partie. Nous réalisons une simulation pour\n",
    "déterminer la stabilité des segments au cours du temps pour émettre une\n",
    "proposition de fréquence de maintenance au cours du temps.\n",
    "___\n",
    "\n",
    "**Source des datasets**<br>\n",
    "\n",
    "Olist nous fournit une base de données anonymisée comportant des informations\n",
    "sur l’historique de commandes, les produits achetés, les commentaires de\n",
    "satisfaction, et la localisation des clients depuis janvier 2017.\n",
    "\n",
    "Ce dataset a été nettoyé et enrichi dans le notebook 1. Le clustering a été\n",
    "implémenté dans le notebook 2. Nous allons donc utiliser le dataset issu du\n",
    "notebook 2 pour réaliser la segmentation des clients.\n",
    "\n",
    "nom du fichier : **olist_clients_segmentation_kmeans_rfms.csv**"
   ]
  },
  {
   "cell_type": "markdown",
   "metadata": {},
   "source": [
    "# <span style='background:grey'>Importations des librairies utilisées dans ce notebook</span>"
   ]
  },
  {
   "cell_type": "code",
   "execution_count": 1,
   "metadata": {},
   "outputs": [
    {
     "name": "stdout",
     "output_type": "stream",
     "text": [
      "Version des librairies utilisées :\n",
      "Python        : 3.11.7 (tags/v3.11.7:fa7a6f2, Dec  4 2023, 19:24:49) [MSC v.1937 64 bit (AMD64)]\n",
      "Matplotlib    : 3.8.2\n",
      "NumPy         : 1.26.2\n",
      "Pandas        : 2.1.4\n",
      "Scipy         : 1.11.4\n",
      "Seaborn       : 0.13.0\n",
      "Sklearn       : 1.3.2\n",
      "\n",
      "Code lancé le : 2023-12-23T10:39:07.389722\n",
      "\n"
     ]
    }
   ],
   "source": [
    "# Librairies générales\n",
    "import os.path\n",
    "import sys\n",
    "import matplotlib as mpl\n",
    "import matplotlib.pyplot as plt\n",
    "import pandas as pd\n",
    "import seaborn as sns\n",
    "import numpy as np\n",
    "import time\n",
    "from IPython.display import display\n",
    "import scipy\n",
    "from datetime import datetime\n",
    "import sklearn\n",
    "\n",
    "# K-means\n",
    "from sklearn.cluster import KMeans\n",
    "from sklearn.preprocessing import StandardScaler\n",
    "\n",
    "# ARI\n",
    "from sklearn.metrics import adjusted_rand_score\n",
    "\n",
    "# Affichage plot dans le notebook\n",
    "%matplotlib inline\n",
    "\n",
    "# Versions\n",
    "print(\"Version des librairies utilisées :\")\n",
    "print(\"Python        : \" + sys.version)\n",
    "print(\"Matplotlib    : \" + mpl.__version__)\n",
    "print(\"NumPy         : \" + np.version.full_version)\n",
    "print(\"Pandas        : \" + pd.__version__)\n",
    "print(\"Scipy         : \" + scipy.__version__)\n",
    "print(\"Seaborn       : \" + sns.__version__)\n",
    "print(\"Sklearn       : \" + sklearn.__version__)\n",
    "\n",
    "# Afficher heure lancement\n",
    "maintenant = datetime.now().isoformat()\n",
    "print(\"\\nCode lancé le : \" + maintenant)\n",
    "\n",
    "# Enregistrer l'heure de début\n",
    "start_time = time.time()\n",
    "\n",
    "# Activer la verification PEP8\n",
    "print(\"\")\n",
    "%load_ext pycodestyle_magic\n",
    "%pycodestyle_on"
   ]
  },
  {
   "cell_type": "markdown",
   "metadata": {},
   "source": [
    "<div class=\"alert alert-block alert-warning\"><b>Formattage du notebook au PEP8 => lancer cette ligne de code dans le terminal VSC : </b> nbqa black Berthe_Pierrick_3_notebook_simulation_112023.ipynb</div>"
   ]
  },
  {
   "cell_type": "markdown",
   "metadata": {},
   "source": [
    "# <span style='background:grey'>Paramètres d'affichage du notebook</span>"
   ]
  },
  {
   "cell_type": "code",
   "execution_count": 2,
   "metadata": {},
   "outputs": [],
   "source": [
    "# paramétrage des paramètres d'affichage dans le notebook (pour afficher les\n",
    "# définitions des indicateurs)\n",
    "pd.set_option(\"display.max_row\", 100)\n",
    "pd.set_option(\"display.max_column\", 100)\n",
    "pd.set_option(\"display.precision\", 5)\n",
    "\n",
    "# Création d'1 palette de couleurs\n",
    "colors_list = [\n",
    "    \"Gold\",\n",
    "    \"MediumPurple\",\n",
    "    \"DarkOrange\",\n",
    "    \"LimeGreen\",\n",
    "    \"Tomato\",\n",
    "    \"SteelBlue\",\n",
    "    \"SaddleBrown\",\n",
    "    \"DeepPink\",\n",
    "]\n",
    "\n",
    "# Définit le style de la police pour le titre des graphiques\n",
    "font_title = {\n",
    "    \"family\": \"Times New Roman\",\n",
    "    \"color\": \"000000\",  # Noir en notation hexadécimale\n",
    "    \"size\": 22,\n",
    "}\n",
    "\n",
    "# Définit le style de la police pour les axes du graphique\n",
    "font_axe = {\n",
    "    \"family\": \"Times New Roman\",\n",
    "    \"color\": \"000000\",  # Noir en notation hexadécimale\n",
    "    \"size\": 16,\n",
    "}"
   ]
  },
  {
   "cell_type": "markdown",
   "metadata": {},
   "source": [
    "# <span style='background:grey'>Fonctions utilisées dans ce notebook</span>"
   ]
  },
  {
   "cell_type": "code",
   "execution_count": 3,
   "metadata": {},
   "outputs": [],
   "source": [
    "# #                            DETECTER_TROUS\n",
    "# # **************************************************************************\n",
    "\n",
    "def detecter_trous(nbr_client):\n",
    "    \"\"\"\n",
    "    Cette fonction détecte les \"trous\", c'est-à-dire les jours avec une\n",
    "    occurrence nulle et agglomère les trous consécutifs.\n",
    "\n",
    "    Args:\n",
    "        nbr_client (numpy.array): Un tableau numpy contenant le nombre de\n",
    "        clients par jour.\n",
    "\n",
    "    Returns:\n",
    "        list: Une liste de tuples, où chaque tuple contient le début et la fin\n",
    "        d'un \"trou\".\n",
    "    \"\"\"\n",
    "\n",
    "    # Trouver les \"trous\" en cherchant les jours avec une occurence nulle\n",
    "    indices = np.where(nbr_client == 0)[0]\n",
    "\n",
    "    # Agglomérer les trous consécutifs\n",
    "    trou_par_jour = []\n",
    "    start = indices[0]\n",
    "    for i in range(1, len(indices)):\n",
    "        if indices[i] != indices[i - 1] + 1:\n",
    "            trou_par_jour.append((start, indices[i - 1] - 1))\n",
    "            start = indices[i]\n",
    "    trou_par_jour.append((start, indices[-1 - 1]))\n",
    "\n",
    "    # output\n",
    "    return trou_par_jour"
   ]
  },
  {
   "cell_type": "code",
   "execution_count": 4,
   "metadata": {},
   "outputs": [],
   "source": [
    "# #                            CREER_PLAGES\n",
    "# # **************************************************************************\n",
    "\n",
    "def creer_plages(plage_reference, nbr_jour_plage):\n",
    "    \"\"\"\n",
    "    Cette fonction crée des plages en retranchant un certain nombre de jours à\n",
    "    chaque jour de fin.\n",
    "\n",
    "    Args:\n",
    "        plage_reference (tuple): Un tuple contenant le jour de fin et le jour\n",
    "        de début de la plage de référence.\n",
    "        nbr_jour_plage (int): Le nombre de jours à retrancher à chaque jour de\n",
    "        fin.\n",
    "\n",
    "    Returns:\n",
    "        DataFrame: Un DataFrame contenant les jours de fin et de début de\n",
    "        chaque plage.\n",
    "    \"\"\"\n",
    "\n",
    "    # Créer un DataFrame à partir de la plage de référence\n",
    "    df_plages = pd.DataFrame(\n",
    "        [plage_reference],\n",
    "        columns=[\"jour_fin\", \"jour_debut\"]\n",
    "    )\n",
    "\n",
    "    # Créer des plages en retranchant nbr_jour_plage jours à chaque jour de fin\n",
    "    plages = []\n",
    "    start, end = plage_reference\n",
    "    while start >= 0:\n",
    "        plages.append((start, end))\n",
    "        start -= nbr_jour_plage\n",
    "\n",
    "    # Créer un DataFrame à partir des plages\n",
    "    df_plages = pd.DataFrame(plages, columns=[\"jour_fin\", \"jour_debut\"])\n",
    "\n",
    "    # output\n",
    "    return df_plages"
   ]
  },
  {
   "cell_type": "code",
   "execution_count": 5,
   "metadata": {},
   "outputs": [],
   "source": [
    "# #                            CREER DATASETS\n",
    "# # **************************************************************************\n",
    "\n",
    "def creer_datasets(df_plages, df_data_filtered):\n",
    "    \"\"\"\n",
    "    Cette fonction crée un dictionnaire de datasets pour chaque plage de temps.\n",
    "\n",
    "    Args:\n",
    "        df_plages (DataFrame): Un DataFrame contenant les jours de début et de\n",
    "        fin pour chaque plage de temps.\n",
    "        df_data_filtered (DataFrame): Le DataFrame original à découper.\n",
    "\n",
    "    Returns:\n",
    "        dict: Un dictionnaire où chaque clé est une plage de temps et chaque\n",
    "        valeur est un DataFrame correspondant à cette plage.\n",
    "    \"\"\"\n",
    "\n",
    "    # Créer un dictionnaire pour stocker les datasets pour chaque plage de\n",
    "    # temps\n",
    "    datasets = {}\n",
    "\n",
    "    # Itérer sur les lignes du DataFrame df_plages\n",
    "    for index, row in df_plages.iterrows():\n",
    "\n",
    "        # Extraire les jours de début et de fin pour la plage de temps\n",
    "        end_day = row[\"jour_fin\"]\n",
    "        start_day = row[\"jour_debut\"]\n",
    "\n",
    "        # Découper le df original en fonction des jours de début et de fin\n",
    "        dataset = df_data_filtered[\n",
    "            (df_data_filtered[\"recence\"] <= start_day)\n",
    "            & (df_data_filtered[\"recence\"] > end_day)\n",
    "        ]\n",
    "\n",
    "        # Stocker dataset dans le dictionnaire avec la plage de temps en clé\n",
    "        datasets[f\"Plage_{index}\"] = dataset\n",
    "\n",
    "    # output\n",
    "    return datasets"
   ]
  },
  {
   "cell_type": "code",
   "execution_count": 28,
   "metadata": {},
   "outputs": [],
   "source": [
    "# #                            AFFICHER_ARI\n",
    "# # **************************************************************************\n",
    "\n",
    "def afficher_ARI(semaine, scores, seuil, font_title, font_axe):\n",
    "    \"\"\"\n",
    "    Cette procédure crée et affiche un graphique à lignes montrant l'évolution\n",
    "    du score ARI au cours du temps.\n",
    "\n",
    "    Args:\n",
    "        semaine (list): La liste des semaines.\n",
    "        scores (list): La liste des scores ARI correspondants.\n",
    "        seuil (float): Le seuil à indiquer sur le graphique.\n",
    "        font_title (dict): Le dictionnaire des paramètres de police pour le\n",
    "        titre.\n",
    "        font_axe (dict): Le dictionnaire des paramètres de police pour les\n",
    "        axes.\n",
    "\n",
    "    Returns:\n",
    "        None\n",
    "    \"\"\"\n",
    "\n",
    "    # Créer un graphique à lignes\n",
    "    plt.figure(figsize=(10, 6))\n",
    "    plt.plot(semaine, scores, marker=\"o\")\n",
    "\n",
    "    # Ajouter une ligne horizontale au seuil de 0.7\n",
    "    plt.axhline(y=seuil, color=\"r\", linestyle=\"--\")\n",
    "\n",
    "    # Ajouter des titres et des labels\n",
    "    plt.title(\"Evolution du score ARI au cours du temps\", fontdict=font_title)\n",
    "    plt.xlabel(\"semaine\", fontdict=font_axe)\n",
    "    plt.ylabel(\"Score ARI\", fontdict=font_axe)\n",
    "\n",
    "    # Afficher le graphique\n",
    "    plt.show()"
   ]
  },
  {
   "cell_type": "code",
   "execution_count": 7,
   "metadata": {},
   "outputs": [],
   "source": [
    "# #                            CALCULER_DUREE_NOTEBOOK\n",
    "# # **************************************************************************\n",
    "\n",
    "def calculer_duree_notebook(start_time):\n",
    "    \"\"\"\n",
    "    Cette procédure calcule et affiche la durée totale depuis un temps de\n",
    "    début donné.\n",
    "\n",
    "    Args:\n",
    "        start_time (float): Le temps de début en secondes depuis l'époque.\n",
    "\n",
    "    Returns:\n",
    "        None\n",
    "    \"\"\"\n",
    "\n",
    "    # Calculer la durée totale\n",
    "    total_time = time.time() - start_time\n",
    "\n",
    "    # Convertir en minutes et secondes\n",
    "    minutes, seconds = divmod(total_time, 60)\n",
    "\n",
    "    # Afficher la durée totale\n",
    "    message = (\n",
    "        \"Durée totale pour faire tourner le notebook : \"\n",
    "        \"{0} minute(s) {1} seconde(s)\"\n",
    "    )\n",
    "    print(message.format(int(minutes), int(seconds)))"
   ]
  },
  {
   "cell_type": "markdown",
   "metadata": {},
   "source": [
    "# <span style='background:grey'>Importation des données</span>\n",
    "\n",
    "Importation du fichiers CSV avec Pandas"
   ]
  },
  {
   "cell_type": "code",
   "execution_count": 8,
   "metadata": {},
   "outputs": [
    {
     "name": "stdout",
     "output_type": "stream",
     "text": [
      "===> Fichier importé: <====\n",
      "\n",
      "olist_clients_segmentation_kmeans_rfms.csv\n"
     ]
    }
   ],
   "source": [
    "# Définir le chemin\n",
    "chemin = \"./data/cleaned/\"\n",
    "\n",
    "# Obtenir une liste de tous les fichiers dans le répertoire\n",
    "fichiers = os.listdir(chemin)\n",
    "\n",
    "# Initialiser un dictionnaire vide\n",
    "data_brut = {}\n",
    "\n",
    "# Obtenir le dernier fichier\n",
    "fichier = fichiers[-1]\n",
    "print(\"===> Fichier importé: <====\\n\")\n",
    "print(fichier)\n",
    "\n",
    "# Traiter uniquement si le fichier est .csv\n",
    "if fichier.endswith(\".csv\"):\n",
    "\n",
    "    # Lire le fichier csv et le stocker dans le dictionnaire\n",
    "    data_brut[fichier] = pd.read_csv(\n",
    "        chemin + fichier,\n",
    "        sep=\"\\t\",\n",
    "        encoding=\"utf-8\",\n",
    "        index_col=\"customer_unique_id\"\n",
    "    )"
   ]
  },
  {
   "cell_type": "markdown",
   "metadata": {},
   "source": [
    "Nous isolons le contenu du fichier dans un dataframe (sans les clusters). "
   ]
  },
  {
   "cell_type": "code",
   "execution_count": 9,
   "metadata": {},
   "outputs": [
    {
     "data": {
      "text/plain": [
       "'Aperçu du df importé:'"
      ]
     },
     "metadata": {},
     "output_type": "display_data"
    },
    {
     "data": {
      "text/html": [
       "<div>\n",
       "<style scoped>\n",
       "    .dataframe tbody tr th:only-of-type {\n",
       "        vertical-align: middle;\n",
       "    }\n",
       "\n",
       "    .dataframe tbody tr th {\n",
       "        vertical-align: top;\n",
       "    }\n",
       "\n",
       "    .dataframe thead th {\n",
       "        text-align: right;\n",
       "    }\n",
       "</style>\n",
       "<table border=\"1\" class=\"dataframe\">\n",
       "  <thead>\n",
       "    <tr style=\"text-align: right;\">\n",
       "      <th></th>\n",
       "      <th>recence</th>\n",
       "      <th>frequence</th>\n",
       "      <th>montant</th>\n",
       "      <th>satisfaction</th>\n",
       "      <th>Cluster</th>\n",
       "    </tr>\n",
       "    <tr>\n",
       "      <th>customer_unique_id</th>\n",
       "      <th></th>\n",
       "      <th></th>\n",
       "      <th></th>\n",
       "      <th></th>\n",
       "      <th></th>\n",
       "    </tr>\n",
       "  </thead>\n",
       "  <tbody>\n",
       "    <tr>\n",
       "      <th>0000366f3b9a7992bf8c76cfdf3221e2</th>\n",
       "      <td>115</td>\n",
       "      <td>1</td>\n",
       "      <td>141.90</td>\n",
       "      <td>5.0</td>\n",
       "      <td>0</td>\n",
       "    </tr>\n",
       "    <tr>\n",
       "      <th>0000b849f77a49e4a4ce2b2a4ca5be3f</th>\n",
       "      <td>118</td>\n",
       "      <td>1</td>\n",
       "      <td>27.19</td>\n",
       "      <td>4.0</td>\n",
       "      <td>0</td>\n",
       "    </tr>\n",
       "    <tr>\n",
       "      <th>0000f46a3911fa3c0805444483337064</th>\n",
       "      <td>541</td>\n",
       "      <td>1</td>\n",
       "      <td>86.22</td>\n",
       "      <td>3.0</td>\n",
       "      <td>3</td>\n",
       "    </tr>\n",
       "  </tbody>\n",
       "</table>\n",
       "</div>"
      ],
      "text/plain": [
       "                                  recence  frequence  montant  satisfaction  \\\n",
       "customer_unique_id                                                            \n",
       "0000366f3b9a7992bf8c76cfdf3221e2      115          1   141.90           5.0   \n",
       "0000b849f77a49e4a4ce2b2a4ca5be3f      118          1    27.19           4.0   \n",
       "0000f46a3911fa3c0805444483337064      541          1    86.22           3.0   \n",
       "\n",
       "                                  Cluster  \n",
       "customer_unique_id                         \n",
       "0000366f3b9a7992bf8c76cfdf3221e2        0  \n",
       "0000b849f77a49e4a4ce2b2a4ca5be3f        0  \n",
       "0000f46a3911fa3c0805444483337064        3  "
      ]
     },
     "metadata": {},
     "output_type": "display_data"
    },
    {
     "data": {
      "text/plain": [
       "(94720, 5)"
      ]
     },
     "metadata": {},
     "output_type": "display_data"
    },
    {
     "data": {
      "text/plain": [
       "'Aperçu du df après suppression de la feature des clusters:'"
      ]
     },
     "metadata": {},
     "output_type": "display_data"
    },
    {
     "data": {
      "text/html": [
       "<div>\n",
       "<style scoped>\n",
       "    .dataframe tbody tr th:only-of-type {\n",
       "        vertical-align: middle;\n",
       "    }\n",
       "\n",
       "    .dataframe tbody tr th {\n",
       "        vertical-align: top;\n",
       "    }\n",
       "\n",
       "    .dataframe thead th {\n",
       "        text-align: right;\n",
       "    }\n",
       "</style>\n",
       "<table border=\"1\" class=\"dataframe\">\n",
       "  <thead>\n",
       "    <tr style=\"text-align: right;\">\n",
       "      <th></th>\n",
       "      <th>recence</th>\n",
       "      <th>frequence</th>\n",
       "      <th>montant</th>\n",
       "      <th>satisfaction</th>\n",
       "    </tr>\n",
       "    <tr>\n",
       "      <th>customer_unique_id</th>\n",
       "      <th></th>\n",
       "      <th></th>\n",
       "      <th></th>\n",
       "      <th></th>\n",
       "    </tr>\n",
       "  </thead>\n",
       "  <tbody>\n",
       "    <tr>\n",
       "      <th>0000366f3b9a7992bf8c76cfdf3221e2</th>\n",
       "      <td>115</td>\n",
       "      <td>1</td>\n",
       "      <td>141.90</td>\n",
       "      <td>5.0</td>\n",
       "    </tr>\n",
       "    <tr>\n",
       "      <th>0000b849f77a49e4a4ce2b2a4ca5be3f</th>\n",
       "      <td>118</td>\n",
       "      <td>1</td>\n",
       "      <td>27.19</td>\n",
       "      <td>4.0</td>\n",
       "    </tr>\n",
       "    <tr>\n",
       "      <th>0000f46a3911fa3c0805444483337064</th>\n",
       "      <td>541</td>\n",
       "      <td>1</td>\n",
       "      <td>86.22</td>\n",
       "      <td>3.0</td>\n",
       "    </tr>\n",
       "  </tbody>\n",
       "</table>\n",
       "</div>"
      ],
      "text/plain": [
       "                                  recence  frequence  montant  satisfaction\n",
       "customer_unique_id                                                         \n",
       "0000366f3b9a7992bf8c76cfdf3221e2      115          1   141.90           5.0\n",
       "0000b849f77a49e4a4ce2b2a4ca5be3f      118          1    27.19           4.0\n",
       "0000f46a3911fa3c0805444483337064      541          1    86.22           3.0"
      ]
     },
     "metadata": {},
     "output_type": "display_data"
    },
    {
     "data": {
      "text/plain": [
       "(94720, 4)"
      ]
     },
     "metadata": {},
     "output_type": "display_data"
    }
   ],
   "source": [
    "# Fichier un df\n",
    "df_data_avec_cluster = data_brut[fichier]\n",
    "\n",
    "# Afficher aperçu et dimension du df\n",
    "display(\"Aperçu du df importé:\")\n",
    "display(df_data_avec_cluster.head(3))\n",
    "display(df_data_avec_cluster.shape)\n",
    "\n",
    "# Suppression de la col des clusters\n",
    "df_data = df_data_avec_cluster.drop(\"Cluster\", axis=1)\n",
    "\n",
    "# Afficher aperçu et dimension du df\n",
    "display(\"Aperçu du df après suppression de la feature des clusters:\")\n",
    "display(df_data.head(3))\n",
    "display(df_data.shape)"
   ]
  },
  {
   "cell_type": "markdown",
   "metadata": {},
   "source": [
    "Nous affichons le nombre de valeurs manquantes par feature."
   ]
  },
  {
   "cell_type": "code",
   "execution_count": 10,
   "metadata": {},
   "outputs": [
    {
     "data": {
      "text/plain": [
       "recence         0\n",
       "frequence       0\n",
       "montant         0\n",
       "satisfaction    0\n",
       "dtype: int64"
      ]
     },
     "execution_count": 10,
     "metadata": {},
     "output_type": "execute_result"
    }
   ],
   "source": [
    "df_data.isna().sum()"
   ]
  },
  {
   "cell_type": "markdown",
   "metadata": {},
   "source": [
    "Nous vérifions le nombre de doublons sur l'index des clients."
   ]
  },
  {
   "cell_type": "code",
   "execution_count": 11,
   "metadata": {},
   "outputs": [
    {
     "data": {
      "text/plain": [
       "0"
      ]
     },
     "execution_count": 11,
     "metadata": {},
     "output_type": "execute_result"
    }
   ],
   "source": [
    "# doublon sur les index\n",
    "df_data.index.duplicated().sum()"
   ]
  },
  {
   "cell_type": "markdown",
   "metadata": {},
   "source": [
    "Il n'y a aucune valeur manquante dans le dataframe et aucun doublon sur l'index des clients."
   ]
  },
  {
   "cell_type": "markdown",
   "metadata": {},
   "source": [
    "# <span style='background:blue'>Etape 1 : Création des datasets par plage temporelles</span>\n",
    "\n",
    "## <span style='background:yellow; color:black'>1/ Nettoyage récence</span>"
   ]
  },
  {
   "cell_type": "markdown",
   "metadata": {},
   "source": [
    "Nous observons les statistiques descriptives de la récence des clients."
   ]
  },
  {
   "cell_type": "code",
   "execution_count": 12,
   "metadata": {},
   "outputs": [
    {
     "data": {
      "text/plain": [
       "count    94720.00000\n",
       "mean       242.43782\n",
       "std        153.16371\n",
       "min          0.00000\n",
       "25%        118.00000\n",
       "50%        223.00000\n",
       "75%        352.00000\n",
       "max        728.00000\n",
       "Name: recence, dtype: float64"
      ]
     },
     "metadata": {},
     "output_type": "display_data"
    }
   ],
   "source": [
    "#  Afficher les stats de la recence\n",
    "stats = df_data[\"recence\"].describe()\n",
    "display(stats)"
   ]
  },
  {
   "cell_type": "markdown",
   "metadata": {},
   "source": [
    "Nous visualisons la distribution de la récence des clients pour chaque jour\n",
    "(728 jours)."
   ]
  },
  {
   "cell_type": "code",
   "execution_count": 13,
   "metadata": {},
   "outputs": [
    {
     "data": {
      "image/png": "[encoded data removed]",
      "text/plain": [
       "<Figure size 1400x600 with 1 Axes>"
      ]
     },
     "metadata": {},
     "output_type": "display_data"
    }
   ],
   "source": [
    "# Distribution de la récence\n",
    "plt.figure(figsize=(14, 6))\n",
    "nbr_client, jour, patches = plt.hist(\n",
    "    df_data[\"recence\"],\n",
    "    bins=int(stats[\"max\"]),\n",
    "    color=\"steelblue\",\n",
    "    edgecolor=\"black\"\n",
    ")\n",
    "\n",
    "# Titres du graphique et des axes\n",
    "plt.xlabel(\"Recence (jour)\", fontdict=font_axe)\n",
    "plt.ylabel(\"Nombre de clients\", fontdict=font_axe)\n",
    "plt.title(\"Distribution de la Recence\", fontdict=font_title)\n",
    "plt.show()"
   ]
  },
  {
   "cell_type": "markdown",
   "metadata": {},
   "source": [
    "Nous inspectons les trous dans la distribution de la récence des clients\n",
    "pour réperer les dates avec aucune commande. "
   ]
  },
  {
   "cell_type": "code",
   "execution_count": 14,
   "metadata": {},
   "outputs": [
    {
     "name": "stdout",
     "output_type": "stream",
     "text": [
      "Trou détecté entre les jours: 1 a 3\n",
      "Trou détecté entre les jours: 606 a 691\n",
      "Trou détecté entre les jours: 701 a 726\n"
     ]
    }
   ],
   "source": [
    "# Détecter les trous\n",
    "trou_par_jour = detecter_trous(nbr_client)\n",
    "\n",
    "# Afficher les \"trous\"\n",
    "for start, end in trou_par_jour:\n",
    "    message = (\n",
    "        f\"Trou détecté entre les jours: {int(jour[start])} \"\n",
    "        f\"a {int(jour[end + 1])}\"\n",
    "    )\n",
    "    print(message)"
   ]
  },
  {
   "cell_type": "markdown",
   "metadata": {},
   "source": [
    "Nous remarquons qu'il n'y a pas de client qui ont commandé dans les 4 premiers\n",
    "mois  entre le jour 726 et 601 (à l'exception des jours 700 à 692), ainsi qu'à\n",
    "la fin de la période d'observation lors des 3 derniers jours. \n",
    "\n",
    "Au vu de la quantité de client journalier observé tout au long de\n",
    "l'observation, notre intuition nous inspire qu'il y a eu un problème dans le\n",
    "receuil des données lors des 4 premiers mois et lors des 3 derniers jours.\n",
    "Nous allons donc supprimer ces périodes de notre analyse qui ne semblent pas\n",
    "représentatives de la réalité."
   ]
  },
  {
   "cell_type": "code",
   "execution_count": 15,
   "metadata": {},
   "outputs": [
    {
     "data": {
      "text/plain": [
       "count    94427.00000\n",
       "mean       241.03100\n",
       "std        151.30123\n",
       "min          0.00000\n",
       "25%        118.00000\n",
       "50%        222.00000\n",
       "75%        350.00000\n",
       "max        605.00000\n",
       "Name: recence, dtype: float64"
      ]
     },
     "metadata": {},
     "output_type": "display_data"
    }
   ],
   "source": [
    "# Filtrer les clients avec une récence supérieure à 691 jours\n",
    "df_data_filtered = df_data[df_data[\"recence\"] <= 691]\n",
    "\n",
    "#  Afficher les stats de recence\n",
    "stats_filtered = df_data_filtered[\"recence\"].describe()\n",
    "display(stats_filtered)"
   ]
  },
  {
   "cell_type": "markdown",
   "metadata": {},
   "source": [
    "Nous visualisons la distribution de la récence des clients pour chaque jour\n",
    "du dataframe filtré (605 jours)."
   ]
  },
  {
   "cell_type": "code",
   "execution_count": 16,
   "metadata": {},
   "outputs": [
    {
     "data": {
      "image/png": "[encoded data removed]",
      "text/plain": [
       "<Figure size 1400x600 with 1 Axes>"
      ]
     },
     "metadata": {},
     "output_type": "display_data"
    }
   ],
   "source": [
    "# Distribution de la récence\n",
    "plt.figure(figsize=(14, 6))\n",
    "plt.hist(\n",
    "    df_data_filtered[\"recence\"],\n",
    "    bins=int(stats_filtered[\"max\"]),\n",
    "    color=\"steelblue\",\n",
    "    edgecolor=\"black\",\n",
    ")\n",
    "\n",
    "# Titres du graphique et des axes\n",
    "plt.xlabel(\"Recence (jour)\", fontdict=font_axe)\n",
    "plt.ylabel(\"Nombre de clients\", fontdict=font_axe)\n",
    "plt.title(\"Distribution de la Recence\", fontdict=font_title)\n",
    "plt.show()"
   ]
  },
  {
   "cell_type": "markdown",
   "metadata": {},
   "source": [
    "Visualisons les dimensions du dataframe filtré."
   ]
  },
  {
   "cell_type": "code",
   "execution_count": 17,
   "metadata": {},
   "outputs": [
    {
     "data": {
      "text/html": [
       "<div>\n",
       "<style scoped>\n",
       "    .dataframe tbody tr th:only-of-type {\n",
       "        vertical-align: middle;\n",
       "    }\n",
       "\n",
       "    .dataframe tbody tr th {\n",
       "        vertical-align: top;\n",
       "    }\n",
       "\n",
       "    .dataframe thead th {\n",
       "        text-align: right;\n",
       "    }\n",
       "</style>\n",
       "<table border=\"1\" class=\"dataframe\">\n",
       "  <thead>\n",
       "    <tr style=\"text-align: right;\">\n",
       "      <th></th>\n",
       "      <th>recence</th>\n",
       "      <th>frequence</th>\n",
       "      <th>montant</th>\n",
       "      <th>satisfaction</th>\n",
       "    </tr>\n",
       "    <tr>\n",
       "      <th>customer_unique_id</th>\n",
       "      <th></th>\n",
       "      <th></th>\n",
       "      <th></th>\n",
       "      <th></th>\n",
       "    </tr>\n",
       "  </thead>\n",
       "  <tbody>\n",
       "    <tr>\n",
       "      <th>0000366f3b9a7992bf8c76cfdf3221e2</th>\n",
       "      <td>115</td>\n",
       "      <td>1</td>\n",
       "      <td>141.90</td>\n",
       "      <td>5.0</td>\n",
       "    </tr>\n",
       "    <tr>\n",
       "      <th>0000b849f77a49e4a4ce2b2a4ca5be3f</th>\n",
       "      <td>118</td>\n",
       "      <td>1</td>\n",
       "      <td>27.19</td>\n",
       "      <td>4.0</td>\n",
       "    </tr>\n",
       "    <tr>\n",
       "      <th>0000f46a3911fa3c0805444483337064</th>\n",
       "      <td>541</td>\n",
       "      <td>1</td>\n",
       "      <td>86.22</td>\n",
       "      <td>3.0</td>\n",
       "    </tr>\n",
       "  </tbody>\n",
       "</table>\n",
       "</div>"
      ],
      "text/plain": [
       "                                  recence  frequence  montant  satisfaction\n",
       "customer_unique_id                                                         \n",
       "0000366f3b9a7992bf8c76cfdf3221e2      115          1   141.90           5.0\n",
       "0000b849f77a49e4a4ce2b2a4ca5be3f      118          1    27.19           4.0\n",
       "0000f46a3911fa3c0805444483337064      541          1    86.22           3.0"
      ]
     },
     "metadata": {},
     "output_type": "display_data"
    },
    {
     "data": {
      "text/plain": [
       "(94427, 4)"
      ]
     },
     "metadata": {},
     "output_type": "display_data"
    }
   ],
   "source": [
    "# Affichage\n",
    "display(df_data_filtered.head(3))\n",
    "display(df_data_filtered.shape)"
   ]
  },
  {
   "cell_type": "markdown",
   "metadata": {},
   "source": [
    "## <span style='background:yellow; color:black'>2/ Détermination des plages temporelles</span>\n",
    "\n",
    "Nous allons définir des plages temporelles pour réaliser notre analyse de\n",
    "stabilité des segments au cours du temps. \n",
    "\n",
    "Nous avons fixé une **période de référence** d'1 an (365 jours) pour laquelle\n",
    "nous avons réaliser notre **clustering de référence**. Il s'agit donc des\n",
    "clients présentant une récence comprise entre 605 à 240 jours. Ensuite, nous\n",
    "réaliserons un nouveau clustering **pour chaque semaine (7 jours)**. \n",
    "\n",
    "Voici une liste des plages temporelles:<br>\n",
    "Plage_0 : période de référence d'1 an (365 jours).<br>\n",
    "Plage_1 : période de référence + période comparative 1 semaine (372 jours)<br>\n",
    "Plage_2 : période de référence + période comparative 2 semaines (379 jours)<br>\n",
    "Plage_3 : période de référence + période comparative 3 semaines (386 jours)<br>\n",
    "... etc<br>\n",
    "Plage_34 : période de référence + période comparative 34 semaines (603 jours)<br>"
   ]
  },
  {
   "cell_type": "code",
   "execution_count": 18,
   "metadata": {},
   "outputs": [
    {
     "data": {
      "text/html": [
       "<div>\n",
       "<style scoped>\n",
       "    .dataframe tbody tr th:only-of-type {\n",
       "        vertical-align: middle;\n",
       "    }\n",
       "\n",
       "    .dataframe tbody tr th {\n",
       "        vertical-align: top;\n",
       "    }\n",
       "\n",
       "    .dataframe thead th {\n",
       "        text-align: right;\n",
       "    }\n",
       "</style>\n",
       "<table border=\"1\" class=\"dataframe\">\n",
       "  <thead>\n",
       "    <tr style=\"text-align: right;\">\n",
       "      <th></th>\n",
       "      <th>jour_fin</th>\n",
       "      <th>jour_debut</th>\n",
       "    </tr>\n",
       "  </thead>\n",
       "  <tbody>\n",
       "    <tr>\n",
       "      <th>0</th>\n",
       "      <td>240</td>\n",
       "      <td>605</td>\n",
       "    </tr>\n",
       "    <tr>\n",
       "      <th>1</th>\n",
       "      <td>233</td>\n",
       "      <td>605</td>\n",
       "    </tr>\n",
       "    <tr>\n",
       "      <th>2</th>\n",
       "      <td>226</td>\n",
       "      <td>605</td>\n",
       "    </tr>\n",
       "    <tr>\n",
       "      <th>3</th>\n",
       "      <td>219</td>\n",
       "      <td>605</td>\n",
       "    </tr>\n",
       "    <tr>\n",
       "      <th>4</th>\n",
       "      <td>212</td>\n",
       "      <td>605</td>\n",
       "    </tr>\n",
       "    <tr>\n",
       "      <th>5</th>\n",
       "      <td>205</td>\n",
       "      <td>605</td>\n",
       "    </tr>\n",
       "    <tr>\n",
       "      <th>6</th>\n",
       "      <td>198</td>\n",
       "      <td>605</td>\n",
       "    </tr>\n",
       "    <tr>\n",
       "      <th>7</th>\n",
       "      <td>191</td>\n",
       "      <td>605</td>\n",
       "    </tr>\n",
       "    <tr>\n",
       "      <th>8</th>\n",
       "      <td>184</td>\n",
       "      <td>605</td>\n",
       "    </tr>\n",
       "    <tr>\n",
       "      <th>9</th>\n",
       "      <td>177</td>\n",
       "      <td>605</td>\n",
       "    </tr>\n",
       "    <tr>\n",
       "      <th>10</th>\n",
       "      <td>170</td>\n",
       "      <td>605</td>\n",
       "    </tr>\n",
       "    <tr>\n",
       "      <th>11</th>\n",
       "      <td>163</td>\n",
       "      <td>605</td>\n",
       "    </tr>\n",
       "    <tr>\n",
       "      <th>12</th>\n",
       "      <td>156</td>\n",
       "      <td>605</td>\n",
       "    </tr>\n",
       "    <tr>\n",
       "      <th>13</th>\n",
       "      <td>149</td>\n",
       "      <td>605</td>\n",
       "    </tr>\n",
       "    <tr>\n",
       "      <th>14</th>\n",
       "      <td>142</td>\n",
       "      <td>605</td>\n",
       "    </tr>\n",
       "    <tr>\n",
       "      <th>15</th>\n",
       "      <td>135</td>\n",
       "      <td>605</td>\n",
       "    </tr>\n",
       "    <tr>\n",
       "      <th>16</th>\n",
       "      <td>128</td>\n",
       "      <td>605</td>\n",
       "    </tr>\n",
       "    <tr>\n",
       "      <th>17</th>\n",
       "      <td>121</td>\n",
       "      <td>605</td>\n",
       "    </tr>\n",
       "    <tr>\n",
       "      <th>18</th>\n",
       "      <td>114</td>\n",
       "      <td>605</td>\n",
       "    </tr>\n",
       "    <tr>\n",
       "      <th>19</th>\n",
       "      <td>107</td>\n",
       "      <td>605</td>\n",
       "    </tr>\n",
       "    <tr>\n",
       "      <th>20</th>\n",
       "      <td>100</td>\n",
       "      <td>605</td>\n",
       "    </tr>\n",
       "    <tr>\n",
       "      <th>21</th>\n",
       "      <td>93</td>\n",
       "      <td>605</td>\n",
       "    </tr>\n",
       "    <tr>\n",
       "      <th>22</th>\n",
       "      <td>86</td>\n",
       "      <td>605</td>\n",
       "    </tr>\n",
       "    <tr>\n",
       "      <th>23</th>\n",
       "      <td>79</td>\n",
       "      <td>605</td>\n",
       "    </tr>\n",
       "    <tr>\n",
       "      <th>24</th>\n",
       "      <td>72</td>\n",
       "      <td>605</td>\n",
       "    </tr>\n",
       "    <tr>\n",
       "      <th>25</th>\n",
       "      <td>65</td>\n",
       "      <td>605</td>\n",
       "    </tr>\n",
       "    <tr>\n",
       "      <th>26</th>\n",
       "      <td>58</td>\n",
       "      <td>605</td>\n",
       "    </tr>\n",
       "    <tr>\n",
       "      <th>27</th>\n",
       "      <td>51</td>\n",
       "      <td>605</td>\n",
       "    </tr>\n",
       "    <tr>\n",
       "      <th>28</th>\n",
       "      <td>44</td>\n",
       "      <td>605</td>\n",
       "    </tr>\n",
       "    <tr>\n",
       "      <th>29</th>\n",
       "      <td>37</td>\n",
       "      <td>605</td>\n",
       "    </tr>\n",
       "    <tr>\n",
       "      <th>30</th>\n",
       "      <td>30</td>\n",
       "      <td>605</td>\n",
       "    </tr>\n",
       "    <tr>\n",
       "      <th>31</th>\n",
       "      <td>23</td>\n",
       "      <td>605</td>\n",
       "    </tr>\n",
       "    <tr>\n",
       "      <th>32</th>\n",
       "      <td>16</td>\n",
       "      <td>605</td>\n",
       "    </tr>\n",
       "    <tr>\n",
       "      <th>33</th>\n",
       "      <td>9</td>\n",
       "      <td>605</td>\n",
       "    </tr>\n",
       "    <tr>\n",
       "      <th>34</th>\n",
       "      <td>2</td>\n",
       "      <td>605</td>\n",
       "    </tr>\n",
       "  </tbody>\n",
       "</table>\n",
       "</div>"
      ],
      "text/plain": [
       "    jour_fin  jour_debut\n",
       "0        240         605\n",
       "1        233         605\n",
       "2        226         605\n",
       "3        219         605\n",
       "4        212         605\n",
       "5        205         605\n",
       "6        198         605\n",
       "7        191         605\n",
       "8        184         605\n",
       "9        177         605\n",
       "10       170         605\n",
       "11       163         605\n",
       "12       156         605\n",
       "13       149         605\n",
       "14       142         605\n",
       "15       135         605\n",
       "16       128         605\n",
       "17       121         605\n",
       "18       114         605\n",
       "19       107         605\n",
       "20       100         605\n",
       "21        93         605\n",
       "22        86         605\n",
       "23        79         605\n",
       "24        72         605\n",
       "25        65         605\n",
       "26        58         605\n",
       "27        51         605\n",
       "28        44         605\n",
       "29        37         605\n",
       "30        30         605\n",
       "31        23         605\n",
       "32        16         605\n",
       "33         9         605\n",
       "34         2         605"
      ]
     },
     "metadata": {},
     "output_type": "display_data"
    }
   ],
   "source": [
    "# Nombre de jour des plages\n",
    "nbr_jour_plage = 7\n",
    "\n",
    "# Plage de référence (de + 365j après jusqu'au 1er jour)\n",
    "plage_reference = (240, 605)\n",
    "\n",
    "# Créer les plages\n",
    "df_plages = creer_plages(plage_reference, nbr_jour_plage)\n",
    "\n",
    "# Afficher le DataFrame\n",
    "display(df_plages)"
   ]
  },
  {
   "cell_type": "markdown",
   "metadata": {},
   "source": [
    "## <span style='background:yellow; color:black'>3/ Création des datasets des plages temporelles</span>\n",
    "\n",
    "Nous créons un dictionnaire qui contient les plages temporelles et les\n",
    "datasets associés."
   ]
  },
  {
   "cell_type": "code",
   "execution_count": 19,
   "metadata": {},
   "outputs": [
    {
     "name": "stdout",
     "output_type": "stream",
     "text": [
      "Dimensions des datasets :\n",
      "Plage_0: (42958, 4)\n",
      "Plage_1: (44596, 4)\n",
      "Plage_2: (46352, 4)\n",
      "Plage_3: (47917, 4)\n",
      "Plage_4: (49374, 4)\n",
      "Plage_5: (50935, 4)\n",
      "Plage_6: (52423, 4)\n",
      "Plage_7: (54045, 4)\n",
      "Plage_8: (55793, 4)\n",
      "Plage_9: (57449, 4)\n",
      "Plage_10: (58958, 4)\n",
      "Plage_11: (60683, 4)\n",
      "Plage_12: (62137, 4)\n",
      "Plage_13: (63685, 4)\n",
      "Plage_14: (65155, 4)\n",
      "Plage_15: (66792, 4)\n",
      "Plage_16: (68404, 4)\n",
      "Plage_17: (70033, 4)\n",
      "Plage_18: (71971, 4)\n",
      "Plage_19: (73891, 4)\n",
      "Plage_20: (75016, 4)\n",
      "Plage_21: (75876, 4)\n",
      "Plage_22: (77234, 4)\n",
      "Plage_23: (78790, 4)\n",
      "Plage_24: (80196, 4)\n",
      "Plage_25: (81641, 4)\n",
      "Plage_26: (82923, 4)\n",
      "Plage_27: (83771, 4)\n",
      "Plage_28: (85229, 4)\n",
      "Plage_29: (86924, 4)\n",
      "Plage_30: (88688, 4)\n",
      "Plage_31: (90823, 4)\n",
      "Plage_32: (92654, 4)\n",
      "Plage_33: (94083, 4)\n",
      "Plage_34: (94426, 4)\n"
     ]
    }
   ],
   "source": [
    "# Création des datasets des plages temporelles\n",
    "datasets = creer_datasets(df_plages, df_data_filtered)\n",
    "\n",
    "# Afficher les dimensions de tous les jeux de données\n",
    "print(\"Dimensions des datasets :\")\n",
    "for key, dataset in datasets.items():\n",
    "    print(f\"{key}: {dataset.shape}\")"
   ]
  },
  {
   "cell_type": "markdown",
   "metadata": {},
   "source": [
    "# <span style='background:blue'>Etape 2 : Clustering période de référence</span>\n",
    "\n",
    "Nous créons donc un modèle KMeans avec 6 clusters."
   ]
  },
  {
   "cell_type": "code",
   "execution_count": 20,
   "metadata": {},
   "outputs": [
    {
     "data": {
      "text/plain": [
       "'Voici les données dans X :'"
      ]
     },
     "metadata": {},
     "output_type": "display_data"
    },
    {
     "data": {
      "text/html": [
       "<div>\n",
       "<style scoped>\n",
       "    .dataframe tbody tr th:only-of-type {\n",
       "        vertical-align: middle;\n",
       "    }\n",
       "\n",
       "    .dataframe tbody tr th {\n",
       "        vertical-align: top;\n",
       "    }\n",
       "\n",
       "    .dataframe thead th {\n",
       "        text-align: right;\n",
       "    }\n",
       "</style>\n",
       "<table border=\"1\" class=\"dataframe\">\n",
       "  <thead>\n",
       "    <tr style=\"text-align: right;\">\n",
       "      <th></th>\n",
       "      <th>recence</th>\n",
       "      <th>frequence</th>\n",
       "      <th>montant</th>\n",
       "      <th>satisfaction</th>\n",
       "    </tr>\n",
       "    <tr>\n",
       "      <th>customer_unique_id</th>\n",
       "      <th></th>\n",
       "      <th></th>\n",
       "      <th></th>\n",
       "      <th></th>\n",
       "    </tr>\n",
       "  </thead>\n",
       "  <tbody>\n",
       "    <tr>\n",
       "      <th>0000f46a3911fa3c0805444483337064</th>\n",
       "      <td>541</td>\n",
       "      <td>1</td>\n",
       "      <td>86.22</td>\n",
       "      <td>3.0</td>\n",
       "    </tr>\n",
       "    <tr>\n",
       "      <th>0000f6ccb0745a6a4b88665a16c9f078</th>\n",
       "      <td>325</td>\n",
       "      <td>1</td>\n",
       "      <td>43.62</td>\n",
       "      <td>4.0</td>\n",
       "    </tr>\n",
       "    <tr>\n",
       "      <th>0004aac84e0df4da2b147fca70cf8255</th>\n",
       "      <td>292</td>\n",
       "      <td>1</td>\n",
       "      <td>196.89</td>\n",
       "      <td>5.0</td>\n",
       "    </tr>\n",
       "  </tbody>\n",
       "</table>\n",
       "</div>"
      ],
      "text/plain": [
       "                                  recence  frequence  montant  satisfaction\n",
       "customer_unique_id                                                         \n",
       "0000f46a3911fa3c0805444483337064      541          1    86.22           3.0\n",
       "0000f6ccb0745a6a4b88665a16c9f078      325          1    43.62           4.0\n",
       "0004aac84e0df4da2b147fca70cf8255      292          1   196.89           5.0"
      ]
     },
     "metadata": {},
     "output_type": "display_data"
    },
    {
     "data": {
      "text/plain": [
       "(42958, 4)"
      ]
     },
     "metadata": {},
     "output_type": "display_data"
    },
    {
     "data": {
      "text/html": [
       "<style>#sk-container-id-1 {color: black;}#sk-container-id-1 pre{padding: 0;}#sk-container-id-1 div.sk-toggleable {background-color: white;}#sk-container-id-1 label.sk-toggleable__label {cursor: pointer;display: block;width: 100%;margin-bottom: 0;padding: 0.3em;box-sizing: border-box;text-align: center;}#sk-container-id-1 label.sk-toggleable__label-arrow:before {content: \"▸\";float: left;margin-right: 0.25em;color: #696969;}#sk-container-id-1 label.sk-toggleable__label-arrow:hover:before {color: black;}#sk-container-id-1 div.sk-estimator:hover label.sk-toggleable__label-arrow:before {color: black;}#sk-container-id-1 div.sk-toggleable__content {max-height: 0;max-width: 0;overflow: hidden;text-align: left;background-color: #f0f8ff;}#sk-container-id-1 div.sk-toggleable__content pre {margin: 0.2em;color: black;border-radius: 0.25em;background-color: #f0f8ff;}#sk-container-id-1 input.sk-toggleable__control:checked~div.sk-toggleable__content {max-height: 200px;max-width: 100%;overflow: auto;}#sk-container-id-1 input.sk-toggleable__control:checked~label.sk-toggleable__label-arrow:before {content: \"▾\";}#sk-container-id-1 div.sk-estimator input.sk-toggleable__control:checked~label.sk-toggleable__label {background-color: #d4ebff;}#sk-container-id-1 div.sk-label input.sk-toggleable__control:checked~label.sk-toggleable__label {background-color: #d4ebff;}#sk-container-id-1 input.sk-hidden--visually {border: 0;clip: rect(1px 1px 1px 1px);clip: rect(1px, 1px, 1px, 1px);height: 1px;margin: -1px;overflow: hidden;padding: 0;position: absolute;width: 1px;}#sk-container-id-1 div.sk-estimator {font-family: monospace;background-color: #f0f8ff;border: 1px dotted black;border-radius: 0.25em;box-sizing: border-box;margin-bottom: 0.5em;}#sk-container-id-1 div.sk-estimator:hover {background-color: #d4ebff;}#sk-container-id-1 div.sk-parallel-item::after {content: \"\";width: 100%;border-bottom: 1px solid gray;flex-grow: 1;}#sk-container-id-1 div.sk-label:hover label.sk-toggleable__label {background-color: #d4ebff;}#sk-container-id-1 div.sk-serial::before {content: \"\";position: absolute;border-left: 1px solid gray;box-sizing: border-box;top: 0;bottom: 0;left: 50%;z-index: 0;}#sk-container-id-1 div.sk-serial {display: flex;flex-direction: column;align-items: center;background-color: white;padding-right: 0.2em;padding-left: 0.2em;position: relative;}#sk-container-id-1 div.sk-item {position: relative;z-index: 1;}#sk-container-id-1 div.sk-parallel {display: flex;align-items: stretch;justify-content: center;background-color: white;position: relative;}#sk-container-id-1 div.sk-item::before, #sk-container-id-1 div.sk-parallel-item::before {content: \"\";position: absolute;border-left: 1px solid gray;box-sizing: border-box;top: 0;bottom: 0;left: 50%;z-index: -1;}#sk-container-id-1 div.sk-parallel-item {display: flex;flex-direction: column;z-index: 1;position: relative;background-color: white;}#sk-container-id-1 div.sk-parallel-item:first-child::after {align-self: flex-end;width: 50%;}#sk-container-id-1 div.sk-parallel-item:last-child::after {align-self: flex-start;width: 50%;}#sk-container-id-1 div.sk-parallel-item:only-child::after {width: 0;}#sk-container-id-1 div.sk-dashed-wrapped {border: 1px dashed gray;margin: 0 0.4em 0.5em 0.4em;box-sizing: border-box;padding-bottom: 0.4em;background-color: white;}#sk-container-id-1 div.sk-label label {font-family: monospace;font-weight: bold;display: inline-block;line-height: 1.2em;}#sk-container-id-1 div.sk-label-container {text-align: center;}#sk-container-id-1 div.sk-container {/* jupyter's `normalize.less` sets `[hidden] { display: none; }` but bootstrap.min.css set `[hidden] { display: none !important; }` so we also need the `!important` here to be able to override the default hidden behavior on the sphinx rendered scikit-learn.org. See: https://github.com/scikit-learn/scikit-learn/issues/21755 */display: inline-block !important;position: relative;}#sk-container-id-1 div.sk-text-repr-fallback {display: none;}</style><div id=\"sk-container-id-1\" class=\"sk-top-container\"><div class=\"sk-text-repr-fallback\"><pre>KMeans(n_clusters=6, n_init=10, random_state=42)</pre><b>In a Jupyter environment, please rerun this cell to show the HTML representation or trust the notebook. <br />On GitHub, the HTML representation is unable to render, please try loading this page with nbviewer.org.</b></div><div class=\"sk-container\" hidden><div class=\"sk-item\"><div class=\"sk-estimator sk-toggleable\"><input class=\"sk-toggleable__control sk-hidden--visually\" id=\"sk-estimator-id-1\" type=\"checkbox\" checked><label for=\"sk-estimator-id-1\" class=\"sk-toggleable__label sk-toggleable__label-arrow\">KMeans</label><div class=\"sk-toggleable__content\"><pre>KMeans(n_clusters=6, n_init=10, random_state=42)</pre></div></div></div></div></div>"
      ],
      "text/plain": [
       "KMeans(n_clusters=6, n_init=10, random_state=42)"
      ]
     },
     "execution_count": 20,
     "metadata": {},
     "output_type": "execute_result"
    }
   ],
   "source": [
    "# Données de travail\n",
    "X = datasets[\"Plage_0\"]\n",
    "\n",
    "# Afficher X pour être sûr des données d'entrainement\n",
    "display(\"Voici les données dans X :\", X.head(3))\n",
    "display(X.shape)\n",
    "\n",
    "# Standardiser les données\n",
    "scaler_ref = StandardScaler()\n",
    "X_scaled = scaler_ref.fit_transform(X)\n",
    "\n",
    "# Instancier l'estimateur\n",
    "model_kmeans_ref = KMeans(n_init=10, random_state=42, n_clusters=6)\n",
    "\n",
    "# Fit le modèle sur les données\n",
    "model_kmeans_ref.fit(X_scaled)"
   ]
  },
  {
   "cell_type": "markdown",
   "metadata": {},
   "source": [
    "Nous concatenons les données avec les labels de cluster."
   ]
  },
  {
   "cell_type": "code",
   "execution_count": 21,
   "metadata": {},
   "outputs": [
    {
     "data": {
      "text/html": [
       "<div>\n",
       "<style scoped>\n",
       "    .dataframe tbody tr th:only-of-type {\n",
       "        vertical-align: middle;\n",
       "    }\n",
       "\n",
       "    .dataframe tbody tr th {\n",
       "        vertical-align: top;\n",
       "    }\n",
       "\n",
       "    .dataframe thead th {\n",
       "        text-align: right;\n",
       "    }\n",
       "</style>\n",
       "<table border=\"1\" class=\"dataframe\">\n",
       "  <thead>\n",
       "    <tr style=\"text-align: right;\">\n",
       "      <th></th>\n",
       "      <th>recence</th>\n",
       "      <th>frequence</th>\n",
       "      <th>montant</th>\n",
       "      <th>satisfaction</th>\n",
       "      <th>Cluster</th>\n",
       "    </tr>\n",
       "    <tr>\n",
       "      <th>customer_unique_id</th>\n",
       "      <th></th>\n",
       "      <th></th>\n",
       "      <th></th>\n",
       "      <th></th>\n",
       "      <th></th>\n",
       "    </tr>\n",
       "  </thead>\n",
       "  <tbody>\n",
       "    <tr>\n",
       "      <th>0000f46a3911fa3c0805444483337064</th>\n",
       "      <td>541</td>\n",
       "      <td>1</td>\n",
       "      <td>86.22</td>\n",
       "      <td>3.0</td>\n",
       "      <td>1</td>\n",
       "    </tr>\n",
       "    <tr>\n",
       "      <th>0000f6ccb0745a6a4b88665a16c9f078</th>\n",
       "      <td>325</td>\n",
       "      <td>1</td>\n",
       "      <td>43.62</td>\n",
       "      <td>4.0</td>\n",
       "      <td>0</td>\n",
       "    </tr>\n",
       "    <tr>\n",
       "      <th>0004aac84e0df4da2b147fca70cf8255</th>\n",
       "      <td>292</td>\n",
       "      <td>1</td>\n",
       "      <td>196.89</td>\n",
       "      <td>5.0</td>\n",
       "      <td>0</td>\n",
       "    </tr>\n",
       "  </tbody>\n",
       "</table>\n",
       "</div>"
      ],
      "text/plain": [
       "                                  recence  frequence  montant  satisfaction  \\\n",
       "customer_unique_id                                                            \n",
       "0000f46a3911fa3c0805444483337064      541          1    86.22           3.0   \n",
       "0000f6ccb0745a6a4b88665a16c9f078      325          1    43.62           4.0   \n",
       "0004aac84e0df4da2b147fca70cf8255      292          1   196.89           5.0   \n",
       "\n",
       "                                  Cluster  \n",
       "customer_unique_id                         \n",
       "0000f46a3911fa3c0805444483337064        1  \n",
       "0000f6ccb0745a6a4b88665a16c9f078        0  \n",
       "0004aac84e0df4da2b147fca70cf8255        0  "
      ]
     },
     "metadata": {},
     "output_type": "display_data"
    }
   ],
   "source": [
    "# Dataframe avec la feature des clusters\n",
    "df_rfms_ref = pd.concat(\n",
    "    [X, pd.Series(model_kmeans_ref.labels_, index=X.index, name=\"Cluster\")],\n",
    "    axis=1\n",
    ")\n",
    "\n",
    "# Affichage\n",
    "display(df_rfms_ref.head(3))"
   ]
  },
  {
   "cell_type": "code",
   "execution_count": 22,
   "metadata": {},
   "outputs": [
    {
     "data": {
      "text/plain": [
       "Cluster\n",
       "0    46.6\n",
       "1    32.9\n",
       "2    15.4\n",
       "3     0.1\n",
       "4     3.3\n",
       "5     1.7\n",
       "Name: proportion, dtype: float64"
      ]
     },
     "metadata": {},
     "output_type": "display_data"
    }
   ],
   "source": [
    "# Compter le nombre de lignes par cluster, trier les index et obtenir la\n",
    "# proportion\n",
    "cluster_counts = (\n",
    "    df_rfms_ref[\"Cluster\"]\n",
    "    .value_counts(normalize=True)\n",
    "    .sort_index()\n",
    ")\n",
    "\n",
    "# Convertir en pourcentage\n",
    "cluster_counts_percentage = round(cluster_counts * 100, 1)\n",
    "\n",
    "# Afficher les pourcentages\n",
    "display(cluster_counts_percentage)"
   ]
  },
  {
   "cell_type": "markdown",
   "metadata": {},
   "source": [
    "Les proportions de chaque cluster sont du même ordre de grandeur que celles\n",
    "obtenues dans le notebook 2 dont voici les proportion pour rappel : \n",
    "- Cluster 0 : 41.0%\n",
    "- Cluster 1 : 16.2%\n",
    "- Cluster 2 : 1.7%\n",
    "- Cluster 3 : 31.2%\n",
    "- Cluster 4 : 0.8%\n",
    "- Cluster 5 : 9.1%\n",
    "\n",
    "*Note : l'évolution des proportions de chaque cluster au cours du temps*\n",
    "*serait très intructif pour mieux comprendre les comportements des clients.*\n",
    "*Mais pour cela il faudrait inspecter le contenu de chaque cluster à chaque*\n",
    "*clustering mais ce n'est pas l'objectif de ce notebook.*"
   ]
  },
  {
   "cell_type": "markdown",
   "metadata": {},
   "source": [
    "# <span style='background:blue'>Etape 3 : Prédictions des clusters des nouveaux clients</span>\n",
    "\n",
    "Chaque nouvelle semaine va impliquer l'ajout de nouveaux clients dans notre\n",
    "analyse. Pour analyser la stabilité de notre clustering de référence,\n",
    "**nous comparons les prédictions des clusters des nouveaux clients issues de**\n",
    "**notre clustering de référence avec les prédictions des clusters des**\n",
    "**nouveaux clients issues des clustering sur la même période**\n",
    "(période de référence + nombre de semaine). "
   ]
  },
  {
   "cell_type": "markdown",
   "metadata": {},
   "source": [
    "## <span style='background:yellow; color:black'>1/ Prédictions à partir du modèle de référence</span>\n",
    "\n",
    "En nous basant sur le clustering de référence, nous prédisons les clusters des\n",
    "nouveaux clients pour chacune des 34 semaines de comparaison."
   ]
  },
  {
   "cell_type": "code",
   "execution_count": 23,
   "metadata": {},
   "outputs": [
    {
     "name": "stdout",
     "output_type": "stream",
     "text": [
      "Dimensions des datasets avec clusters réel :\n",
      "Plage_0: (42958, 5)\n",
      "Plage_1: (44596, 5)\n",
      "Plage_2: (46352, 5)\n",
      "Plage_3: (47917, 5)\n",
      "Plage_4: (49374, 5)\n",
      "Plage_5: (50935, 5)\n",
      "Plage_6: (52423, 5)\n",
      "Plage_7: (54045, 5)\n",
      "Plage_8: (55793, 5)\n",
      "Plage_9: (57449, 5)\n",
      "Plage_10: (58958, 5)\n",
      "Plage_11: (60683, 5)\n",
      "Plage_12: (62137, 5)\n",
      "Plage_13: (63685, 5)\n",
      "Plage_14: (65155, 5)\n",
      "Plage_15: (66792, 5)\n",
      "Plage_16: (68404, 5)\n",
      "Plage_17: (70033, 5)\n",
      "Plage_18: (71971, 5)\n",
      "Plage_19: (73891, 5)\n",
      "Plage_20: (75016, 5)\n",
      "Plage_21: (75876, 5)\n",
      "Plage_22: (77234, 5)\n",
      "Plage_23: (78790, 5)\n",
      "Plage_24: (80196, 5)\n",
      "Plage_25: (81641, 5)\n",
      "Plage_26: (82923, 5)\n",
      "Plage_27: (83771, 5)\n",
      "Plage_28: (85229, 5)\n",
      "Plage_29: (86924, 5)\n",
      "Plage_30: (88688, 5)\n",
      "Plage_31: (90823, 5)\n",
      "Plage_32: (92654, 5)\n",
      "Plage_33: (94083, 5)\n",
      "Plage_34: (94426, 5)\n"
     ]
    }
   ],
   "source": [
    "# Créer un dictionnaire pour stocker les datasets pour chaque plage de temps\n",
    "dfs_predit = {}\n",
    "\n",
    "# Parcourir toutes les plages dans le dictionnaire 'datasets'\n",
    "for plage in datasets.keys():\n",
    "\n",
    "    # SI période de référence alors on la copie\n",
    "    if plage == \"Plage_0\":\n",
    "        dfs_predit[plage] = df_rfms_ref\n",
    "\n",
    "    else:\n",
    "        # Données de travail\n",
    "        X = datasets[plage]\n",
    "\n",
    "        # Standardiser les données (transform ou fit_transform ?)\n",
    "        X_scaled = scaler_ref.transform(X)\n",
    "\n",
    "        # Prédire les clusters\n",
    "        cluster_predit = model_kmeans_ref.predict(X_scaled)\n",
    "\n",
    "        # Créer un DataFrame avec la feature des clusters\n",
    "        df_predit = pd.concat(\n",
    "            [X, pd.Series(cluster_predit, index=X.index, name=\"Cluster\")],\n",
    "            axis=1\n",
    "        )\n",
    "\n",
    "        # Stocker le DataFrame dans le dictionnaire 'dfs_predit'\n",
    "        dfs_predit[plage] = df_predit\n",
    "\n",
    "# Afficher les dimensions des datasets prédits\n",
    "print(\"Dimensions des datasets avec clusters réel :\")\n",
    "for key, df in dfs_predit.items():\n",
    "    print(f\"{key}: {df.shape}\")"
   ]
  },
  {
   "cell_type": "markdown",
   "metadata": {},
   "source": [
    "## <span style='background:yellow; color:black'>2/ Prédictions à partir des modèles entrainés sur la plage correspondante</span>\n",
    "\n",
    "Nous créons donc un modèle KMeans avec 6 clusters pour chacun des 34 semaines\n",
    "de comparaison."
   ]
  },
  {
   "cell_type": "code",
   "execution_count": 24,
   "metadata": {},
   "outputs": [
    {
     "name": "stdout",
     "output_type": "stream",
     "text": [
      "Dimensions des datasets avec clusters réel :\n",
      "Plage_0: (42958, 5)\n",
      "Plage_1: (44596, 5)\n",
      "Plage_2: (46352, 5)\n",
      "Plage_3: (47917, 5)\n",
      "Plage_4: (49374, 5)\n",
      "Plage_5: (50935, 5)\n",
      "Plage_6: (52423, 5)\n",
      "Plage_7: (54045, 5)\n",
      "Plage_8: (55793, 5)\n",
      "Plage_9: (57449, 5)\n",
      "Plage_10: (58958, 5)\n",
      "Plage_11: (60683, 5)\n",
      "Plage_12: (62137, 5)\n",
      "Plage_13: (63685, 5)\n",
      "Plage_14: (65155, 5)\n",
      "Plage_15: (66792, 5)\n",
      "Plage_16: (68404, 5)\n",
      "Plage_17: (70033, 5)\n",
      "Plage_18: (71971, 5)\n",
      "Plage_19: (73891, 5)\n",
      "Plage_20: (75016, 5)\n",
      "Plage_21: (75876, 5)\n",
      "Plage_22: (77234, 5)\n",
      "Plage_23: (78790, 5)\n",
      "Plage_24: (80196, 5)\n",
      "Plage_25: (81641, 5)\n",
      "Plage_26: (82923, 5)\n",
      "Plage_27: (83771, 5)\n",
      "Plage_28: (85229, 5)\n",
      "Plage_29: (86924, 5)\n",
      "Plage_30: (88688, 5)\n",
      "Plage_31: (90823, 5)\n",
      "Plage_32: (92654, 5)\n",
      "Plage_33: (94083, 5)\n",
      "Plage_34: (94426, 5)\n"
     ]
    }
   ],
   "source": [
    "# Créer un dictionnaire pour stocker modèles et DataFrames pour chaque plage\n",
    "models = {}\n",
    "dfs_reel = {}\n",
    "\n",
    "# Parcourir toutes les plages dans le dictionnaire 'datasets'\n",
    "for plage in datasets.keys():\n",
    "\n",
    "    # SI période de référence alors on la copie\n",
    "    if plage == \"Plage_0\":\n",
    "        dfs_reel[plage] = df_rfms_ref\n",
    "\n",
    "    else:\n",
    "        # Données de travail\n",
    "        X = datasets[plage]\n",
    "\n",
    "        # Standardiser les données\n",
    "        scaler = StandardScaler()\n",
    "        X_scaled = scaler.fit_transform(X)\n",
    "\n",
    "        # Instancier l'estimateur\n",
    "        model_kmeans = KMeans(n_init=10, random_state=42, n_clusters=6)\n",
    "\n",
    "        # Fit le modèle sur les données\n",
    "        model_kmeans.fit(X_scaled)\n",
    "\n",
    "        # Stocker le modèle dans le dictionnaire 'models'\n",
    "        models[plage] = model_kmeans\n",
    "\n",
    "        # Prédire les clusters\n",
    "        cluster_predit = model_kmeans.predict(X_scaled)\n",
    "\n",
    "        # Créer un DataFrame avec la feature des clusters\n",
    "        df_rfms = pd.concat(\n",
    "            [X, pd.Series(cluster_predit, index=X.index, name=\"Cluster\")],\n",
    "            axis=1\n",
    "        )\n",
    "\n",
    "        # Stocker le DataFrame dans le dictionnaire 'dfs_reel'\n",
    "        dfs_reel[plage] = df_rfms\n",
    "\n",
    "# Afficher les dimensions des datasets réels\n",
    "print(\"Dimensions des datasets avec clusters réel :\")\n",
    "for key, df in dfs_reel.items():\n",
    "    print(f\"{key}: {df.shape}\")"
   ]
  },
  {
   "cell_type": "markdown",
   "metadata": {},
   "source": [
    "# <span style='background:blue'>Etape 4 : Analyse de l'obsolescence du clustering</span>\n",
    "\n",
    "## <span style='background:yellow; color:black'>1/ Calcul de l'ARI</span>"
   ]
  },
  {
   "cell_type": "markdown",
   "metadata": {},
   "source": [
    "Nous utilisons la fonction **adjusted_rand_score** de la librairie\n",
    "**sklearn.metrics** pour calculer l'ARI entre les clusters de la période de\n",
    "référence et ceux des périodes de comparaison."
   ]
  },
  {
   "cell_type": "code",
   "execution_count": 29,
   "metadata": {},
   "outputs": [],
   "source": [
    "# Créer un dictionnaire pour stocker les scores ARI\n",
    "ari_scores = {}\n",
    "\n",
    "# Parcourir toutes les plages dans le dictionnaire 'dfs_reel'\n",
    "for plage in dfs_reel.keys():\n",
    "\n",
    "    # Trouvez les indices communs\n",
    "    common_indices = (\n",
    "        dfs_reel[plage].index.intersection(dfs_predit[plage].index)\n",
    "    )\n",
    "\n",
    "    # Filtrer les dataframes pour ne contenir que les indices communs\n",
    "    df1_filtered = dfs_reel[plage].loc[common_indices]\n",
    "    df2_filtered = dfs_predit[plage].loc[common_indices]\n",
    "\n",
    "    # Calculer l'ARI\n",
    "    ari = (\n",
    "        adjusted_rand_score(df1_filtered[\"Cluster\"], df2_filtered[\"Cluster\"])\n",
    "    )\n",
    "\n",
    "    # Stocker le score ARI dans le dictionnaire 'ari_scores'\n",
    "    ari_scores[plage] = ari"
   ]
  },
  {
   "cell_type": "markdown",
   "metadata": {},
   "source": [
    "## <span style='background:yellow; color:black'>2/ Visualisation de l'ARI</span>\n",
    "\n",
    "Nous affichons l'évolution de l'ARI au cours des 34 semaines de comparaison.\n",
    "\n",
    "Nous définissions le seuil acceptable de l'ARI à **0,80**. En dessous de ce\n",
    "seuil, le clustering de référence est obsolète."
   ]
  },
  {
   "cell_type": "code",
   "execution_count": 26,
   "metadata": {},
   "outputs": [
    {
     "data": {
      "image/png": "[encoded data removed]",
      "text/plain": [
       "<Figure size 1000x600 with 1 Axes>"
      ]
     },
     "metadata": {},
     "output_type": "display_data"
    },
    {
     "name": "stdout",
     "output_type": "stream",
     "text": [
      "Le score ARI est en dessous du seuil de 0.8 à la semaine 6\n"
     ]
    }
   ],
   "source": [
    "# Définir le seuil\n",
    "seuil = 0.80\n",
    "\n",
    "# Extraire les scores ARI\n",
    "scores = [round(score, 2) for score in ari_scores.values()]\n",
    "\n",
    "# Création d'une liste de 0 a n, n étant le nombre de plage\n",
    "semaine = np.arange(len(dfs_reel))\n",
    "\n",
    "# Afficher le graphique de l'ARI\n",
    "afficher_ARI(semaine, scores, seuil, font_title, font_axe)\n",
    "\n",
    "# Afficher la semaine à partir de laquelle l'ARI tombe en dessous du seuil\n",
    "for i, score in enumerate(scores):\n",
    "    if score < seuil:\n",
    "        message = (\n",
    "            f\"Le score ARI est en dessous du seuil de {seuil} \"\n",
    "            f\"à la semaine {semaine[i]}\"\n",
    "        )\n",
    "        print(message)\n",
    "        break"
   ]
  },
  {
   "cell_type": "markdown",
   "metadata": {},
   "source": [
    "# <span style='background:blue'>Conclusion</span>\n",
    "\n",
    "La stabilité de notre clustering de K-means avec 6 clusters est de\n",
    "**6 semaines**. Il faut donc réaliser un nouveau clustering toutes les 6\n",
    "semaines (1,5 mois) pour que les segments soient stables."
   ]
  },
  {
   "cell_type": "code",
   "execution_count": 27,
   "metadata": {},
   "outputs": [
    {
     "name": "stdout",
     "output_type": "stream",
     "text": [
      "Durée totale pour faire tourner le notebook : 0 minute(s) 10 seconde(s)\n"
     ]
    }
   ],
   "source": [
    "# Afficher temps d'exécution du notebook\n",
    "calculer_duree_notebook(start_time)"
   ]
  }
 ],
 "metadata": {
  "kernelspec": {
   "display_name": "env",
   "language": "python",
   "name": "python3"
  },
  "language_info": {
   "codemirror_mode": {
    "name": "ipython",
    "version": 3
   },
   "file_extension": ".py",
   "mimetype": "text/x-python",
   "name": "python",
   "nbconvert_exporter": "python",
   "pygments_lexer": "ipython3",
   "version": "3.11.7"
  }
 },
 "nbformat": 4,
 "nbformat_minor": 2
}
